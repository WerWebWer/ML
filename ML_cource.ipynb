{
  "cells": [
    {
      "cell_type": "markdown",
      "id": "JLE6x-JMepTF",
      "metadata": {
        "id": "JLE6x-JMepTF"
      },
      "source": [
        "## Made Smirnov Aleksandr"
      ]
    },
    {
      "cell_type": "code",
      "execution_count": null,
      "id": "3d5478d7",
      "metadata": {
        "id": "3d5478d7"
      },
      "outputs": [],
      "source": [
        "import sklearn\n",
        "import numpy as np\n",
        "import pandas as pd\n",
        "import seaborn as sns\n",
        "import matplotlib.pyplot as plt\n",
        "%matplotlib inline "
      ]
    },
    {
      "cell_type": "markdown",
      "id": "cc7ddf3f",
      "metadata": {
        "id": "cc7ddf3f"
      },
      "source": [
        "## 0. Description of the task"
      ]
    },
    {
      "cell_type": "markdown",
      "id": "BmPGFaQYfPIa",
      "metadata": {
        "id": "BmPGFaQYfPIa"
      },
      "source": [
        "Classification of mobile phones by their characteristics by price from 0 to 3, where 0 (low cost), 1 (medium cost), 2 (high cost) and 3 (very high cost)."
      ]
    },
    {
      "cell_type": "markdown",
      "id": "lQLanhqbTwcJ",
      "metadata": {
        "id": "lQLanhqbTwcJ"
      },
      "source": [
        "### Context\n"
      ]
    },
    {
      "cell_type": "markdown",
      "id": "OktW_hUCTwqV",
      "metadata": {
        "id": "OktW_hUCTwqV"
      },
      "source": [
        "Bob has started his own mobile company. He wants to give tough fight to big companies like Apple,Samsung etc.\n",
        "\n",
        "He does not know how to estimate price of mobiles his company creates. In this competitive mobile phone market you cannot simply assume things. To solve this problem he collects sales data of mobile phones of various companies.\n",
        "\n",
        "Bob wants to find out some relation between features of a mobile phone(eg:- RAM,Internal Memory etc) and its selling price. But he is not so good at Machine Learning. So he needs your help to solve this problem.\n",
        "\n",
        "In this problem you do not have to predict actual price but a price range indicating how high the price is"
      ]
    },
    {
      "cell_type": "markdown",
      "id": "WtQR0Cqlf_Z4",
      "metadata": {
        "id": "WtQR0Cqlf_Z4"
      },
      "source": [
        "## 1. Loading and reading data"
      ]
    },
    {
      "cell_type": "code",
      "execution_count": null,
      "id": "9bd499c0",
      "metadata": {
        "colab": {
          "base_uri": "https://localhost:8080/"
        },
        "id": "9bd499c0",
        "outputId": "e3286c29-b045-47b2-c624-c899aaec0bd0"
      },
      "outputs": [
        {
          "name": "stdout",
          "output_type": "stream",
          "text": [
            "Train dataset contains data about 2000 phone models with a description of 21 parameters\n",
            "Test  dataset contains data about 1000 phone models with a description of 21 parameters\n"
          ]
        }
      ],
      "source": [
        "url = \"https://raw.githubusercontent.com/WerWebWer/ML/master/train.csv\"\n",
        "data_raw = pd.read_csv(url)\n",
        "\n",
        "url = \"https://raw.githubusercontent.com/WerWebWer/ML/master/test.csv\"\n",
        "test_raw = pd.read_csv(url)\n",
        "\n",
        "print(\"Train dataset contains data about\", data_raw.shape[0], \"phone models with a description of\", data_raw.shape[1], \"parameters\")\n",
        "print(\"Test  dataset contains data about\", test_raw.shape[0], \"phone models with a description of\", test_raw.shape[1], \"parameters\")"
      ]
    },
    {
      "cell_type": "code",
      "execution_count": null,
      "id": "bd419b83",
      "metadata": {
        "colab": {
          "base_uri": "https://localhost:8080/",
          "height": 226
        },
        "id": "bd419b83",
        "outputId": "61d3e81b-b331-4d5c-8cb2-107c29ef6a04"
      },
      "outputs": [
        {
          "data": {
            "text/html": [
              "<div>\n",
              "<style scoped>\n",
              "    .dataframe tbody tr th:only-of-type {\n",
              "        vertical-align: middle;\n",
              "    }\n",
              "\n",
              "    .dataframe tbody tr th {\n",
              "        vertical-align: top;\n",
              "    }\n",
              "\n",
              "    .dataframe thead th {\n",
              "        text-align: right;\n",
              "    }\n",
              "</style>\n",
              "<table border=\"1\" class=\"dataframe\">\n",
              "  <thead>\n",
              "    <tr style=\"text-align: right;\">\n",
              "      <th></th>\n",
              "      <th>battery_power</th>\n",
              "      <th>blue</th>\n",
              "      <th>clock_speed</th>\n",
              "      <th>dual_sim</th>\n",
              "      <th>fc</th>\n",
              "      <th>four_g</th>\n",
              "      <th>int_memory</th>\n",
              "      <th>m_dep</th>\n",
              "      <th>mobile_wt</th>\n",
              "      <th>n_cores</th>\n",
              "      <th>pc</th>\n",
              "      <th>px_height</th>\n",
              "      <th>px_width</th>\n",
              "      <th>ram</th>\n",
              "      <th>sc_h</th>\n",
              "      <th>sc_w</th>\n",
              "      <th>talk_time</th>\n",
              "      <th>three_g</th>\n",
              "      <th>touch_screen</th>\n",
              "      <th>wifi</th>\n",
              "      <th>price_range</th>\n",
              "    </tr>\n",
              "  </thead>\n",
              "  <tbody>\n",
              "    <tr>\n",
              "      <th>0</th>\n",
              "      <td>842</td>\n",
              "      <td>0</td>\n",
              "      <td>2.2</td>\n",
              "      <td>0</td>\n",
              "      <td>1</td>\n",
              "      <td>0</td>\n",
              "      <td>7</td>\n",
              "      <td>0.6</td>\n",
              "      <td>188</td>\n",
              "      <td>2</td>\n",
              "      <td>2</td>\n",
              "      <td>20</td>\n",
              "      <td>756</td>\n",
              "      <td>2549</td>\n",
              "      <td>9</td>\n",
              "      <td>7</td>\n",
              "      <td>19</td>\n",
              "      <td>0</td>\n",
              "      <td>0</td>\n",
              "      <td>1</td>\n",
              "      <td>1</td>\n",
              "    </tr>\n",
              "    <tr>\n",
              "      <th>1</th>\n",
              "      <td>1021</td>\n",
              "      <td>1</td>\n",
              "      <td>0.5</td>\n",
              "      <td>1</td>\n",
              "      <td>0</td>\n",
              "      <td>1</td>\n",
              "      <td>53</td>\n",
              "      <td>0.7</td>\n",
              "      <td>136</td>\n",
              "      <td>3</td>\n",
              "      <td>6</td>\n",
              "      <td>905</td>\n",
              "      <td>1988</td>\n",
              "      <td>2631</td>\n",
              "      <td>17</td>\n",
              "      <td>3</td>\n",
              "      <td>7</td>\n",
              "      <td>1</td>\n",
              "      <td>1</td>\n",
              "      <td>0</td>\n",
              "      <td>2</td>\n",
              "    </tr>\n",
              "    <tr>\n",
              "      <th>2</th>\n",
              "      <td>563</td>\n",
              "      <td>1</td>\n",
              "      <td>0.5</td>\n",
              "      <td>1</td>\n",
              "      <td>2</td>\n",
              "      <td>1</td>\n",
              "      <td>41</td>\n",
              "      <td>0.9</td>\n",
              "      <td>145</td>\n",
              "      <td>5</td>\n",
              "      <td>6</td>\n",
              "      <td>1263</td>\n",
              "      <td>1716</td>\n",
              "      <td>2603</td>\n",
              "      <td>11</td>\n",
              "      <td>2</td>\n",
              "      <td>9</td>\n",
              "      <td>1</td>\n",
              "      <td>1</td>\n",
              "      <td>0</td>\n",
              "      <td>2</td>\n",
              "    </tr>\n",
              "    <tr>\n",
              "      <th>3</th>\n",
              "      <td>615</td>\n",
              "      <td>1</td>\n",
              "      <td>2.5</td>\n",
              "      <td>0</td>\n",
              "      <td>0</td>\n",
              "      <td>0</td>\n",
              "      <td>10</td>\n",
              "      <td>0.8</td>\n",
              "      <td>131</td>\n",
              "      <td>6</td>\n",
              "      <td>9</td>\n",
              "      <td>1216</td>\n",
              "      <td>1786</td>\n",
              "      <td>2769</td>\n",
              "      <td>16</td>\n",
              "      <td>8</td>\n",
              "      <td>11</td>\n",
              "      <td>1</td>\n",
              "      <td>0</td>\n",
              "      <td>0</td>\n",
              "      <td>2</td>\n",
              "    </tr>\n",
              "    <tr>\n",
              "      <th>4</th>\n",
              "      <td>1821</td>\n",
              "      <td>1</td>\n",
              "      <td>1.2</td>\n",
              "      <td>0</td>\n",
              "      <td>13</td>\n",
              "      <td>1</td>\n",
              "      <td>44</td>\n",
              "      <td>0.6</td>\n",
              "      <td>141</td>\n",
              "      <td>2</td>\n",
              "      <td>14</td>\n",
              "      <td>1208</td>\n",
              "      <td>1212</td>\n",
              "      <td>1411</td>\n",
              "      <td>8</td>\n",
              "      <td>2</td>\n",
              "      <td>15</td>\n",
              "      <td>1</td>\n",
              "      <td>1</td>\n",
              "      <td>0</td>\n",
              "      <td>1</td>\n",
              "    </tr>\n",
              "  </tbody>\n",
              "</table>\n",
              "</div>"
            ],
            "text/plain": [
              "   battery_power  blue  clock_speed  ...  touch_screen  wifi  price_range\n",
              "0            842     0          2.2  ...             0     1            1\n",
              "1           1021     1          0.5  ...             1     0            2\n",
              "2            563     1          0.5  ...             1     0            2\n",
              "3            615     1          2.5  ...             0     0            2\n",
              "4           1821     1          1.2  ...             1     0            1\n",
              "\n",
              "[5 rows x 21 columns]"
            ]
          },
          "execution_count": 3,
          "metadata": {},
          "output_type": "execute_result"
        }
      ],
      "source": [
        "data_raw.head()"
      ]
    },
    {
      "cell_type": "markdown",
      "id": "aa08a456",
      "metadata": {
        "id": "aa08a456"
      },
      "source": [
        "Property:\n",
        "1. battery_power - battery capacity in mAh\n",
        "2. blue - presence of Bluetooth (0 - no, 1 - yes)\n",
        "3. clock_speed - speed of microprocessor\n",
        "4. dual_sim - support for two SIM-cards (0 - no, 1 - yes)\n",
        "5. fc - resolution of the front camera in megapixels\n",
        "6. four_g - 4G support (0 - no, 1 - yes)\n",
        "7. int_memory - internal memory in GB\n",
        "8. m_dep - phone depth in cm\n",
        "9. mobile_wt - phone weight\n",
        "10. n_cores - the number of processor cores\n",
        "11. pc - resolution of the main camera in megapixels\n",
        "12. px_height - height resolution in pixels\n",
        "13. px_width - width resolution in pixels\n",
        "14. ram - RAM in MB\n",
        "15. sc_h - screen height in cm\n",
        "16. sc_w - screen width in cm\n",
        "17. talk_time - the maximum time that a single battery charge will last when you are talking on the phone\n",
        "18. three_g - 3G support (0 - no, 1 - yes)\n",
        "19. touch_screen - presence of a touch screen (0 - no, 1 - yes)\n",
        "20. wifi - availability of wifi (0 - no, 1 - yes)\n",
        "21. price_range - price range"
      ]
    },
    {
      "cell_type": "code",
      "execution_count": null,
      "id": "0b7bd844",
      "metadata": {
        "colab": {
          "base_uri": "https://localhost:8080/"
        },
        "id": "0b7bd844",
        "outputId": "07fd8266-cd82-47a8-df32-e893d0b9e851"
      },
      "outputs": [
        {
          "data": {
            "text/plain": [
              "Index(['battery_power', 'blue', 'clock_speed', 'dual_sim', 'fc', 'four_g',\n",
              "       'int_memory', 'm_dep', 'mobile_wt', 'n_cores', 'pc', 'px_height',\n",
              "       'px_width', 'ram', 'sc_h', 'sc_w', 'talk_time', 'three_g',\n",
              "       'touch_screen', 'wifi', 'price_range'],\n",
              "      dtype='object')"
            ]
          },
          "execution_count": 4,
          "metadata": {},
          "output_type": "execute_result"
        }
      ],
      "source": [
        "data_raw.columns"
      ]
    },
    {
      "cell_type": "code",
      "execution_count": null,
      "id": "d38c86d5",
      "metadata": {
        "colab": {
          "base_uri": "https://localhost:8080/"
        },
        "id": "d38c86d5",
        "outputId": "c4f228ff-f470-4525-decb-91ada2dafded"
      },
      "outputs": [
        {
          "data": {
            "text/plain": [
              "RangeIndex(start=0, stop=2000, step=1)"
            ]
          },
          "execution_count": 5,
          "metadata": {},
          "output_type": "execute_result"
        }
      ],
      "source": [
        "data_raw.index"
      ]
    },
    {
      "cell_type": "code",
      "execution_count": null,
      "id": "4455d92c",
      "metadata": {
        "colab": {
          "base_uri": "https://localhost:8080/"
        },
        "id": "4455d92c",
        "outputId": "d44d9469-7415-46ad-be49-b49b3c66f54e"
      },
      "outputs": [
        {
          "name": "stdout",
          "output_type": "stream",
          "text": [
            "<class 'pandas.core.frame.DataFrame'>\n",
            "RangeIndex: 2000 entries, 0 to 1999\n",
            "Data columns (total 21 columns):\n",
            " #   Column         Non-Null Count  Dtype  \n",
            "---  ------         --------------  -----  \n",
            " 0   battery_power  2000 non-null   int64  \n",
            " 1   blue           2000 non-null   int64  \n",
            " 2   clock_speed    2000 non-null   float64\n",
            " 3   dual_sim       2000 non-null   int64  \n",
            " 4   fc             2000 non-null   int64  \n",
            " 5   four_g         2000 non-null   int64  \n",
            " 6   int_memory     2000 non-null   int64  \n",
            " 7   m_dep          2000 non-null   float64\n",
            " 8   mobile_wt      2000 non-null   int64  \n",
            " 9   n_cores        2000 non-null   int64  \n",
            " 10  pc             2000 non-null   int64  \n",
            " 11  px_height      2000 non-null   int64  \n",
            " 12  px_width       2000 non-null   int64  \n",
            " 13  ram            2000 non-null   int64  \n",
            " 14  sc_h           2000 non-null   int64  \n",
            " 15  sc_w           2000 non-null   int64  \n",
            " 16  talk_time      2000 non-null   int64  \n",
            " 17  three_g        2000 non-null   int64  \n",
            " 18  touch_screen   2000 non-null   int64  \n",
            " 19  wifi           2000 non-null   int64  \n",
            " 20  price_range    2000 non-null   int64  \n",
            "dtypes: float64(2), int64(19)\n",
            "memory usage: 328.2 KB\n"
          ]
        }
      ],
      "source": [
        "data_raw.info()"
      ]
    },
    {
      "cell_type": "markdown",
      "id": "eb73195f",
      "metadata": {
        "id": "eb73195f"
      },
      "source": [
        "0. battery_power - numeric\n",
        "1. blue - categorical (2)\n",
        "2. clock_speed - numeric\n",
        "3. dual_sim - categorical (2)\n",
        "4. fc - numeric\n",
        "5. four_g - categorical (2)\n",
        "6. int_memory - numeric\n",
        "7. m_dep - numeric\n",
        "8. mobile_wt - numeric\n",
        "9. n_cores - numeric\n",
        "10. pc - numeric\n",
        "11. px_height - numeric\n",
        "12. px_width - numeric\n",
        "13. ram - numeric\n",
        "14. sc_h - numeric\n",
        "15. sc_w - numeric\n",
        "16. talk_time - numeric\n",
        "17. three_g - categorical (2)\n",
        "18. touch_screen - categorical (2)\n",
        "19. wifi - categorical (2)\n",
        "20. price_range - categorical (4)"
      ]
    },
    {
      "cell_type": "markdown",
      "id": "fANt3wgqmGEt",
      "metadata": {
        "id": "fANt3wgqmGEt"
      },
      "source": [
        "### Emission treatment"
      ]
    },
    {
      "cell_type": "markdown",
      "id": "kgsrVZ42pw3R",
      "metadata": {
        "id": "kgsrVZ42pw3R"
      },
      "source": [
        "#### Find emission"
      ]
    },
    {
      "cell_type": "markdown",
      "id": "MMFBLlcrqUtr",
      "metadata": {
        "id": "MMFBLlcrqUtr"
      },
      "source": [
        "##### battery_power"
      ]
    },
    {
      "cell_type": "code",
      "execution_count": null,
      "id": "5b66e32d",
      "metadata": {
        "colab": {
          "base_uri": "https://localhost:8080/",
          "height": 283
        },
        "id": "5b66e32d",
        "outputId": "491640c8-0adf-4c78-e5d0-2bd32939b3e7"
      },
      "outputs": [
        {
          "data": {
            "text/plain": [
              "<matplotlib.collections.PathCollection at 0x7f6f5ba7ef90>"
            ]
          },
          "execution_count": 7,
          "metadata": {},
          "output_type": "execute_result"
        },
        {
          "data": {
            "image/png": "[encoded data removed]",
            "text/plain": [
              "<Figure size 432x288 with 1 Axes>"
            ]
          },
          "metadata": {
            "needs_background": "light"
          },
          "output_type": "display_data"
        }
      ],
      "source": [
        "plt.scatter(data_raw['battery_power'], data_raw['price_range'], alpha=0.4)"
      ]
    },
    {
      "cell_type": "markdown",
      "id": "EDHTvTneqFQS",
      "metadata": {
        "id": "EDHTvTneqFQS"
      },
      "source": [
        "Emission are visible on the graph"
      ]
    },
    {
      "cell_type": "code",
      "execution_count": null,
      "id": "d5f72f03",
      "metadata": {
        "colab": {
          "base_uri": "https://localhost:8080/"
        },
        "id": "d5f72f03",
        "outputId": "3251117e-edaa-42ed-8ce8-9eee656a783f"
      },
      "outputs": [
        {
          "data": {
            "text/plain": [
              "0.005     504.000\n",
              "0.010     510.000\n",
              "0.050     570.950\n",
              "0.100     634.900\n",
              "0.500    1226.000\n",
              "0.900    1851.000\n",
              "0.950    1930.150\n",
              "0.990    1987.000\n",
              "0.995    1992.005\n",
              "Name: battery_power, dtype: float64"
            ]
          },
          "execution_count": 8,
          "metadata": {},
          "output_type": "execute_result"
        }
      ],
      "source": [
        "data_raw['battery_power'].quantile([0.005,.01,.05,.1,.5,.9,.95,.99,.995])"
      ]
    },
    {
      "cell_type": "markdown",
      "id": "7a2a6078",
      "metadata": {
        "id": "7a2a6078"
      },
      "source": [
        "99.9% of battery capacity values are in the range 504 to 1992"
      ]
    },
    {
      "cell_type": "markdown",
      "id": "TAVfD4BFuGLA",
      "metadata": {
        "id": "TAVfD4BFuGLA"
      },
      "source": [
        "###### Emissions are unavailable"
      ]
    },
    {
      "cell_type": "markdown",
      "id": "dpMEdHhsqYG9",
      "metadata": {
        "id": "dpMEdHhsqYG9"
      },
      "source": [
        "##### blue"
      ]
    },
    {
      "cell_type": "code",
      "execution_count": null,
      "id": "8d7767f9",
      "metadata": {
        "colab": {
          "base_uri": "https://localhost:8080/",
          "height": 283
        },
        "id": "8d7767f9",
        "outputId": "e3ff50ae-14a0-4241-da6f-8da6eda1c376"
      },
      "outputs": [
        {
          "data": {
            "text/plain": [
              "<matplotlib.collections.PathCollection at 0x7f6f5b583950>"
            ]
          },
          "execution_count": 9,
          "metadata": {},
          "output_type": "execute_result"
        },
        {
          "data": {
            "image/png": "[encoded data removed]",
            "text/plain": [
              "<Figure size 432x288 with 1 Axes>"
            ]
          },
          "metadata": {
            "needs_background": "light"
          },
          "output_type": "display_data"
        }
      ],
      "source": [
        "plt.scatter(data_raw['blue'], data_raw['price_range'], alpha=0.4)"
      ]
    },
    {
      "cell_type": "code",
      "execution_count": null,
      "id": "30fd6610",
      "metadata": {
        "colab": {
          "base_uri": "https://localhost:8080/"
        },
        "id": "30fd6610",
        "outputId": "1093ed1b-f744-45b8-abfd-a118b83c6ed8"
      },
      "outputs": [
        {
          "data": {
            "text/plain": [
              "0.005    0.0\n",
              "0.010    0.0\n",
              "0.050    0.0\n",
              "0.100    0.0\n",
              "0.500    0.0\n",
              "0.900    1.0\n",
              "0.950    1.0\n",
              "0.990    1.0\n",
              "0.995    1.0\n",
              "Name: blue, dtype: float64"
            ]
          },
          "execution_count": 10,
          "metadata": {},
          "output_type": "execute_result"
        }
      ],
      "source": [
        "data_raw['blue'].quantile([0.005,.01,.05,.1,.5,.9,.95,.99,.995])"
      ]
    },
    {
      "cell_type": "markdown",
      "id": "66d1eb76",
      "metadata": {
        "id": "66d1eb76"
      },
      "source": [
        "###### Emissions are unavailable"
      ]
    },
    {
      "cell_type": "markdown",
      "id": "4jkvjrbcqaVh",
      "metadata": {
        "id": "4jkvjrbcqaVh"
      },
      "source": [
        "##### clock_speed"
      ]
    },
    {
      "cell_type": "code",
      "execution_count": null,
      "id": "e0b1de7c",
      "metadata": {
        "colab": {
          "base_uri": "https://localhost:8080/",
          "height": 283
        },
        "id": "e0b1de7c",
        "outputId": "0fa19163-90c7-4d1e-d1bf-22f5d001953b"
      },
      "outputs": [
        {
          "data": {
            "text/plain": [
              "<matplotlib.collections.PathCollection at 0x7f6f5b4f5e90>"
            ]
          },
          "execution_count": 11,
          "metadata": {},
          "output_type": "execute_result"
        },
        {
          "data": {
            "image/png": "[encoded data removed]",
            "text/plain": [
              "<Figure size 432x288 with 1 Axes>"
            ]
          },
          "metadata": {
            "needs_background": "light"
          },
          "output_type": "display_data"
        }
      ],
      "source": [
        "plt.scatter(data_raw['clock_speed'], data_raw['price_range'], alpha=0.4)"
      ]
    },
    {
      "cell_type": "code",
      "execution_count": null,
      "id": "6fa7f6ae",
      "metadata": {
        "colab": {
          "base_uri": "https://localhost:8080/"
        },
        "id": "6fa7f6ae",
        "outputId": "ebc453f6-df98-4ae5-daf4-d0816c852ca1"
      },
      "outputs": [
        {
          "data": {
            "text/plain": [
              "0.005    0.5\n",
              "0.010    0.5\n",
              "0.050    0.5\n",
              "0.100    0.5\n",
              "0.500    1.5\n",
              "0.900    2.7\n",
              "0.950    2.8\n",
              "0.990    3.0\n",
              "0.995    3.0\n",
              "Name: clock_speed, dtype: float64"
            ]
          },
          "execution_count": 12,
          "metadata": {},
          "output_type": "execute_result"
        }
      ],
      "source": [
        "data_raw['clock_speed'].quantile([0.005,.01,.05,.1,.5,.9,.95,.99,.995])"
      ]
    },
    {
      "cell_type": "markdown",
      "id": "d0056cd8",
      "metadata": {
        "id": "d0056cd8"
      },
      "source": [
        "###### Emissions are available"
      ]
    },
    {
      "cell_type": "markdown",
      "id": "jpiZk1Vyqszw",
      "metadata": {
        "id": "jpiZk1Vyqszw"
      },
      "source": [
        "##### dual_sim"
      ]
    },
    {
      "cell_type": "code",
      "execution_count": null,
      "id": "d06d73db",
      "metadata": {
        "colab": {
          "base_uri": "https://localhost:8080/",
          "height": 283
        },
        "id": "d06d73db",
        "outputId": "dcc2b2d9-4f13-464b-dd8d-ed9dbf375a5f"
      },
      "outputs": [
        {
          "data": {
            "text/plain": [
              "<matplotlib.collections.PathCollection at 0x7f6f5b4b55d0>"
            ]
          },
          "execution_count": 13,
          "metadata": {},
          "output_type": "execute_result"
        },
        {
          "data": {
            "image/png": "[encoded data removed]",
            "text/plain": [
              "<Figure size 432x288 with 1 Axes>"
            ]
          },
          "metadata": {
            "needs_background": "light"
          },
          "output_type": "display_data"
        }
      ],
      "source": [
        "plt.scatter(data_raw['dual_sim'], data_raw['price_range'], alpha=0.4)"
      ]
    },
    {
      "cell_type": "markdown",
      "id": "ad2a2485",
      "metadata": {
        "id": "ad2a2485"
      },
      "source": [
        "###### Emissions are unavailable"
      ]
    },
    {
      "cell_type": "markdown",
      "id": "szq-aIm1qz7U",
      "metadata": {
        "id": "szq-aIm1qz7U"
      },
      "source": [
        "##### fc"
      ]
    },
    {
      "cell_type": "code",
      "execution_count": null,
      "id": "24da38b4",
      "metadata": {
        "colab": {
          "base_uri": "https://localhost:8080/",
          "height": 283
        },
        "id": "24da38b4",
        "outputId": "56a4123e-a9cd-42e6-e651-34f49043f0f5"
      },
      "outputs": [
        {
          "data": {
            "text/plain": [
              "<matplotlib.collections.PathCollection at 0x7f6f5b442d10>"
            ]
          },
          "execution_count": 14,
          "metadata": {},
          "output_type": "execute_result"
        },
        {
          "data": {
            "image/png": "[encoded data removed]",
            "text/plain": [
              "<Figure size 432x288 with 1 Axes>"
            ]
          },
          "metadata": {
            "needs_background": "light"
          },
          "output_type": "display_data"
        }
      ],
      "source": [
        "plt.scatter(data_raw['fc'], data_raw['price_range'], alpha=0.4)"
      ]
    },
    {
      "cell_type": "code",
      "execution_count": null,
      "id": "ac770c84",
      "metadata": {
        "colab": {
          "base_uri": "https://localhost:8080/"
        },
        "id": "ac770c84",
        "outputId": "017ae04d-c827-433a-ecb6-23ef60fe3b42"
      },
      "outputs": [
        {
          "data": {
            "text/plain": [
              "0.005     0.0\n",
              "0.010     0.0\n",
              "0.050     0.0\n",
              "0.100     0.0\n",
              "0.500     3.0\n",
              "0.900    11.0\n",
              "0.950    13.0\n",
              "0.990    16.0\n",
              "0.995    18.0\n",
              "Name: fc, dtype: float64"
            ]
          },
          "execution_count": 15,
          "metadata": {},
          "output_type": "execute_result"
        }
      ],
      "source": [
        "data_raw['fc'].quantile([0.005,.01,.05,.1,.5,.9,.95,.99,.995])"
      ]
    },
    {
      "cell_type": "markdown",
      "id": "9543ee65",
      "metadata": {
        "id": "9543ee65"
      },
      "source": [
        "###### Emissions are available"
      ]
    },
    {
      "cell_type": "markdown",
      "id": "Px7JCx8eq1Wm",
      "metadata": {
        "id": "Px7JCx8eq1Wm"
      },
      "source": [
        "##### four_g"
      ]
    },
    {
      "cell_type": "code",
      "execution_count": null,
      "id": "b046de50",
      "metadata": {
        "colab": {
          "base_uri": "https://localhost:8080/",
          "height": 283
        },
        "id": "b046de50",
        "outputId": "2c56672a-cf74-4793-e77b-84040585dd62"
      },
      "outputs": [
        {
          "data": {
            "text/plain": [
              "<matplotlib.collections.PathCollection at 0x7f6f5b3b8bd0>"
            ]
          },
          "execution_count": 16,
          "metadata": {},
          "output_type": "execute_result"
        },
        {
          "data": {
            "image/png": "[encoded data removed]",
            "text/plain": [
              "<Figure size 432x288 with 1 Axes>"
            ]
          },
          "metadata": {
            "needs_background": "light"
          },
          "output_type": "display_data"
        }
      ],
      "source": [
        "plt.scatter(data_raw['four_g'], data_raw['price_range'], alpha=0.4)"
      ]
    },
    {
      "cell_type": "markdown",
      "id": "5a1048cb",
      "metadata": {
        "id": "5a1048cb"
      },
      "source": [
        "###### Emissions are unavailable"
      ]
    },
    {
      "cell_type": "markdown",
      "id": "vhv7iwolq3hp",
      "metadata": {
        "id": "vhv7iwolq3hp"
      },
      "source": [
        "##### int_memory"
      ]
    },
    {
      "cell_type": "code",
      "execution_count": null,
      "id": "3fc9b565",
      "metadata": {
        "colab": {
          "base_uri": "https://localhost:8080/",
          "height": 283
        },
        "id": "3fc9b565",
        "outputId": "0d796236-efc1-4059-aaa3-04674c2f7bc4"
      },
      "outputs": [
        {
          "data": {
            "text/plain": [
              "<matplotlib.collections.PathCollection at 0x7f6f5b382650>"
            ]
          },
          "execution_count": 17,
          "metadata": {},
          "output_type": "execute_result"
        },
        {
          "data": {
            "image/png": "[encoded data removed]",
            "text/plain": [
              "<Figure size 432x288 with 1 Axes>"
            ]
          },
          "metadata": {
            "needs_background": "light"
          },
          "output_type": "display_data"
        }
      ],
      "source": [
        "plt.scatter(data_raw['int_memory'], data_raw['price_range'], alpha=0.4)"
      ]
    },
    {
      "cell_type": "code",
      "execution_count": null,
      "id": "8f6cd320",
      "metadata": {
        "colab": {
          "base_uri": "https://localhost:8080/"
        },
        "id": "8f6cd320",
        "outputId": "cdfc9537-eb7a-46da-9288-45fdeca40d3d"
      },
      "outputs": [
        {
          "data": {
            "text/plain": [
              "0.005     2.0\n",
              "0.010     2.0\n",
              "0.050     5.0\n",
              "0.100     7.9\n",
              "0.500    32.0\n",
              "0.900    57.0\n",
              "0.950    61.0\n",
              "0.990    64.0\n",
              "0.995    64.0\n",
              "Name: int_memory, dtype: float64"
            ]
          },
          "execution_count": 18,
          "metadata": {},
          "output_type": "execute_result"
        }
      ],
      "source": [
        "data_raw['int_memory'].quantile([0.005,.01,.05,.1,.5,.9,.95,.99,.995])"
      ]
    },
    {
      "cell_type": "markdown",
      "id": "2bf150e9",
      "metadata": {
        "id": "2bf150e9"
      },
      "source": [
        "###### Emissions are available"
      ]
    },
    {
      "cell_type": "markdown",
      "id": "hERE2B9-q404",
      "metadata": {
        "id": "hERE2B9-q404"
      },
      "source": [
        "##### m_dep"
      ]
    },
    {
      "cell_type": "code",
      "execution_count": null,
      "id": "ae0e9c7c",
      "metadata": {
        "colab": {
          "base_uri": "https://localhost:8080/",
          "height": 283
        },
        "id": "ae0e9c7c",
        "outputId": "acda05b3-0576-4614-8290-4e7c7fd626d3"
      },
      "outputs": [
        {
          "data": {
            "text/plain": [
              "<matplotlib.collections.PathCollection at 0x7f6f5b2a9610>"
            ]
          },
          "execution_count": 19,
          "metadata": {},
          "output_type": "execute_result"
        },
        {
          "data": {
            "image/png": "[encoded data removed]",
            "text/plain": [
              "<Figure size 432x288 with 1 Axes>"
            ]
          },
          "metadata": {
            "needs_background": "light"
          },
          "output_type": "display_data"
        }
      ],
      "source": [
        "plt.scatter(data_raw['m_dep'], data_raw['price_range'], alpha=0.4)"
      ]
    },
    {
      "cell_type": "code",
      "execution_count": null,
      "id": "e96701b3",
      "metadata": {
        "colab": {
          "base_uri": "https://localhost:8080/"
        },
        "id": "e96701b3",
        "outputId": "c50c6394-3454-4d2d-cf45-c3533d540bae"
      },
      "outputs": [
        {
          "data": {
            "text/plain": [
              "0.005    0.1\n",
              "0.010    0.1\n",
              "0.050    0.1\n",
              "0.100    0.1\n",
              "0.500    0.5\n",
              "0.900    0.9\n",
              "0.950    1.0\n",
              "0.990    1.0\n",
              "0.995    1.0\n",
              "Name: m_dep, dtype: float64"
            ]
          },
          "execution_count": 20,
          "metadata": {},
          "output_type": "execute_result"
        }
      ],
      "source": [
        "data_raw['m_dep'].quantile([0.005,.01,.05,.1,.5,.9,.95,.99,.995])"
      ]
    },
    {
      "cell_type": "markdown",
      "id": "0f24a0ee",
      "metadata": {
        "id": "0f24a0ee"
      },
      "source": [
        "###### Emissions are available"
      ]
    },
    {
      "cell_type": "markdown",
      "id": "q_N1Xi2dq6Wl",
      "metadata": {
        "id": "q_N1Xi2dq6Wl"
      },
      "source": [
        "##### mobile_wt"
      ]
    },
    {
      "cell_type": "code",
      "execution_count": null,
      "id": "a8fd11a1",
      "metadata": {
        "colab": {
          "base_uri": "https://localhost:8080/",
          "height": 283
        },
        "id": "a8fd11a1",
        "outputId": "7d8d2344-d3dc-4dde-8b3e-d8b264d0aef4"
      },
      "outputs": [
        {
          "data": {
            "text/plain": [
              "<matplotlib.collections.PathCollection at 0x7f6f5b20df10>"
            ]
          },
          "execution_count": 21,
          "metadata": {},
          "output_type": "execute_result"
        },
        {
          "data": {
            "image/png": "[encoded data removed]",
            "text/plain": [
              "<Figure size 432x288 with 1 Axes>"
            ]
          },
          "metadata": {
            "needs_background": "light"
          },
          "output_type": "display_data"
        }
      ],
      "source": [
        "plt.scatter(data_raw['mobile_wt'], data_raw['price_range'], alpha=0.4)"
      ]
    },
    {
      "cell_type": "code",
      "execution_count": null,
      "id": "cc3dbe01",
      "metadata": {
        "colab": {
          "base_uri": "https://localhost:8080/"
        },
        "id": "cc3dbe01",
        "outputId": "47bd2d5b-28e8-447d-b732-66017ee49e3c"
      },
      "outputs": [
        {
          "data": {
            "text/plain": [
              "0.005     80.0\n",
              "0.010     80.0\n",
              "0.050     86.0\n",
              "0.100     91.0\n",
              "0.500    141.0\n",
              "0.900    189.0\n",
              "0.950    196.0\n",
              "0.990    199.0\n",
              "0.995    200.0\n",
              "Name: mobile_wt, dtype: float64"
            ]
          },
          "execution_count": 22,
          "metadata": {},
          "output_type": "execute_result"
        }
      ],
      "source": [
        "data_raw['mobile_wt'].quantile([0.005,.01,.05,.1,.5,.9,.95,.99,.995])"
      ]
    },
    {
      "cell_type": "markdown",
      "id": "310b3f02",
      "metadata": {
        "id": "310b3f02"
      },
      "source": [
        "###### Emissions are available"
      ]
    },
    {
      "cell_type": "markdown",
      "id": "CNvHLhOtq7my",
      "metadata": {
        "id": "CNvHLhOtq7my"
      },
      "source": [
        "##### n_cores"
      ]
    },
    {
      "cell_type": "code",
      "execution_count": null,
      "id": "f8421c9a",
      "metadata": {
        "colab": {
          "base_uri": "https://localhost:8080/",
          "height": 283
        },
        "id": "f8421c9a",
        "outputId": "a7daa2d4-5e0e-4d01-db0e-af6059628290"
      },
      "outputs": [
        {
          "data": {
            "text/plain": [
              "<matplotlib.collections.PathCollection at 0x7f6f5b205690>"
            ]
          },
          "execution_count": 23,
          "metadata": {},
          "output_type": "execute_result"
        },
        {
          "data": {
            "image/png": "[encoded data removed]",
            "text/plain": [
              "<Figure size 432x288 with 1 Axes>"
            ]
          },
          "metadata": {
            "needs_background": "light"
          },
          "output_type": "display_data"
        }
      ],
      "source": [
        "plt.scatter(data_raw['n_cores'], data_raw['price_range'], alpha=0.4)"
      ]
    },
    {
      "cell_type": "markdown",
      "id": "e37bdf2d",
      "metadata": {
        "id": "e37bdf2d"
      },
      "source": [
        "###### Emissions are unavailable"
      ]
    },
    {
      "cell_type": "markdown",
      "id": "WwcEcHj2q9W-",
      "metadata": {
        "id": "WwcEcHj2q9W-"
      },
      "source": [
        "##### price_range"
      ]
    },
    {
      "cell_type": "code",
      "execution_count": null,
      "id": "294c10e0",
      "metadata": {
        "colab": {
          "base_uri": "https://localhost:8080/",
          "height": 283
        },
        "id": "294c10e0",
        "outputId": "5f305219-7209-42a6-b705-7c09a725242b"
      },
      "outputs": [
        {
          "data": {
            "text/plain": [
              "<matplotlib.collections.PathCollection at 0x7f6f5b185150>"
            ]
          },
          "execution_count": 24,
          "metadata": {},
          "output_type": "execute_result"
        },
        {
          "data": {
            "image/png": "[encoded data removed]",
            "text/plain": [
              "<Figure size 432x288 with 1 Axes>"
            ]
          },
          "metadata": {
            "needs_background": "light"
          },
          "output_type": "display_data"
        }
      ],
      "source": [
        "plt.scatter(data_raw['pc'], data_raw['price_range'], alpha=0.4)"
      ]
    },
    {
      "cell_type": "code",
      "execution_count": null,
      "id": "7b8c46b1",
      "metadata": {
        "colab": {
          "base_uri": "https://localhost:8080/"
        },
        "id": "7b8c46b1",
        "outputId": "8cf05ced-56ca-4013-e193-96d9f2fd5d60"
      },
      "outputs": [
        {
          "data": {
            "text/plain": [
              "0.005     0.0\n",
              "0.010     0.0\n",
              "0.050     0.0\n",
              "0.100     1.0\n",
              "0.500    10.0\n",
              "0.900    18.0\n",
              "0.950    20.0\n",
              "0.990    20.0\n",
              "0.995    20.0\n",
              "Name: pc, dtype: float64"
            ]
          },
          "execution_count": 25,
          "metadata": {},
          "output_type": "execute_result"
        }
      ],
      "source": [
        "data_raw['pc'].quantile([0.005,.01,.05,.1,.5,.9,.95,.99,.995])"
      ]
    },
    {
      "cell_type": "markdown",
      "id": "5fc82668",
      "metadata": {
        "id": "5fc82668"
      },
      "source": [
        "###### Emissions are available"
      ]
    },
    {
      "cell_type": "markdown",
      "id": "EZ5VRpBTq_Rx",
      "metadata": {
        "id": "EZ5VRpBTq_Rx"
      },
      "source": [
        "##### px_height"
      ]
    },
    {
      "cell_type": "code",
      "execution_count": null,
      "id": "9555bdf0",
      "metadata": {
        "colab": {
          "base_uri": "https://localhost:8080/",
          "height": 283
        },
        "id": "9555bdf0",
        "outputId": "4912e33f-4d31-4736-a460-5a73a3170803"
      },
      "outputs": [
        {
          "data": {
            "text/plain": [
              "<matplotlib.collections.PathCollection at 0x7f6f5b0f6750>"
            ]
          },
          "execution_count": 26,
          "metadata": {},
          "output_type": "execute_result"
        },
        {
          "data": {
            "image/png": "[encoded data removed]",
            "text/plain": [
              "<Figure size 432x288 with 1 Axes>"
            ]
          },
          "metadata": {
            "needs_background": "light"
          },
          "output_type": "display_data"
        }
      ],
      "source": [
        "plt.scatter(data_raw['px_height'], data_raw['price_range'], alpha=0.4)"
      ]
    },
    {
      "cell_type": "code",
      "execution_count": null,
      "id": "1f26fee1",
      "metadata": {
        "colab": {
          "base_uri": "https://localhost:8080/"
        },
        "id": "1f26fee1",
        "outputId": "c465b521-410e-402e-d74c-30951f52f1e1"
      },
      "outputs": [
        {
          "data": {
            "text/plain": [
              "0.005       5.995\n",
              "0.010      15.000\n",
              "0.050      70.950\n",
              "0.100     125.900\n",
              "0.500     564.000\n",
              "0.900    1285.000\n",
              "0.950    1485.050\n",
              "0.990    1791.010\n",
              "0.995    1858.055\n",
              "Name: px_height, dtype: float64"
            ]
          },
          "execution_count": 27,
          "metadata": {},
          "output_type": "execute_result"
        }
      ],
      "source": [
        "data_raw['px_height'].quantile([0.005,.01,.05,.1,.5,.9,.95,.99,.995])"
      ]
    },
    {
      "cell_type": "markdown",
      "id": "cd13e189",
      "metadata": {
        "id": "cd13e189"
      },
      "source": [
        "###### Emissions are unavailable"
      ]
    },
    {
      "cell_type": "markdown",
      "id": "H6AJqmlVrBJA",
      "metadata": {
        "id": "H6AJqmlVrBJA"
      },
      "source": [
        "##### px_width"
      ]
    },
    {
      "cell_type": "code",
      "execution_count": null,
      "id": "77fa7b84",
      "metadata": {
        "colab": {
          "base_uri": "https://localhost:8080/",
          "height": 283
        },
        "id": "77fa7b84",
        "outputId": "7c6bc224-928d-42b3-b371-10384a446311"
      },
      "outputs": [
        {
          "data": {
            "text/plain": [
              "<matplotlib.collections.PathCollection at 0x7f6f5b070d50>"
            ]
          },
          "execution_count": 28,
          "metadata": {},
          "output_type": "execute_result"
        },
        {
          "data": {
            "image/png": "[encoded data removed]",
            "text/plain": [
              "<Figure size 432x288 with 1 Axes>"
            ]
          },
          "metadata": {
            "needs_background": "light"
          },
          "output_type": "display_data"
        }
      ],
      "source": [
        "plt.scatter(data_raw['px_width'], data_raw['price_range'], alpha=0.4)"
      ]
    },
    {
      "cell_type": "code",
      "execution_count": null,
      "id": "e0d94a64",
      "metadata": {
        "colab": {
          "base_uri": "https://localhost:8080/"
        },
        "id": "e0d94a64",
        "outputId": "8c760d90-13c5-4bae-d997-e1f2c5643065"
      },
      "outputs": [
        {
          "data": {
            "text/plain": [
              "0.005     507.995\n",
              "0.010     512.990\n",
              "0.050     579.850\n",
              "0.100     661.900\n",
              "0.500    1247.000\n",
              "0.900    1854.000\n",
              "0.950    1929.050\n",
              "0.990    1987.000\n",
              "0.995    1990.005\n",
              "Name: px_width, dtype: float64"
            ]
          },
          "execution_count": 29,
          "metadata": {},
          "output_type": "execute_result"
        }
      ],
      "source": [
        "data_raw['px_width'].quantile([0.005,.01,.05,.1,.5,.9,.95,.99,.995])"
      ]
    },
    {
      "cell_type": "markdown",
      "id": "ad9a0bbe",
      "metadata": {
        "id": "ad9a0bbe"
      },
      "source": [
        "###### Emissions are available"
      ]
    },
    {
      "cell_type": "markdown",
      "id": "w1qbK0YXrCm_",
      "metadata": {
        "id": "w1qbK0YXrCm_"
      },
      "source": [
        "##### ram"
      ]
    },
    {
      "cell_type": "code",
      "execution_count": null,
      "id": "7f6df6e9",
      "metadata": {
        "colab": {
          "base_uri": "https://localhost:8080/",
          "height": 283
        },
        "id": "7f6df6e9",
        "outputId": "7d0cb866-c756-4f7f-972f-7faa7c33a409"
      },
      "outputs": [
        {
          "data": {
            "text/plain": [
              "<matplotlib.collections.PathCollection at 0x7f6f5afe1c50>"
            ]
          },
          "execution_count": 30,
          "metadata": {},
          "output_type": "execute_result"
        },
        {
          "data": {
            "image/png": "[encoded data removed]",
            "text/plain": [
              "<Figure size 432x288 with 1 Axes>"
            ]
          },
          "metadata": {
            "needs_background": "light"
          },
          "output_type": "display_data"
        }
      ],
      "source": [
        "plt.scatter(data_raw['ram'], data_raw['price_range'], alpha=0.4)"
      ]
    },
    {
      "cell_type": "code",
      "execution_count": null,
      "id": "e70f0d74",
      "metadata": {
        "colab": {
          "base_uri": "https://localhost:8080/"
        },
        "id": "e70f0d74",
        "outputId": "057cc662-0077-4061-a7a5-33f815cb7b40"
      },
      "outputs": [
        {
          "data": {
            "text/plain": [
              "0.005     277.995\n",
              "0.010     296.990\n",
              "0.050     445.000\n",
              "0.100     605.800\n",
              "0.500    2146.500\n",
              "0.900    3637.700\n",
              "0.950    3826.350\n",
              "0.990    3958.010\n",
              "0.995    3970.000\n",
              "Name: ram, dtype: float64"
            ]
          },
          "execution_count": 31,
          "metadata": {},
          "output_type": "execute_result"
        }
      ],
      "source": [
        "data_raw['ram'].quantile([0.005,.01,.05,.1,.5,.9,.95,.99,.995])"
      ]
    },
    {
      "cell_type": "markdown",
      "id": "db61b642",
      "metadata": {
        "id": "db61b642"
      },
      "source": [
        "###### Emissions are available"
      ]
    },
    {
      "cell_type": "markdown",
      "id": "xo2IkG1ArEB4",
      "metadata": {
        "id": "xo2IkG1ArEB4"
      },
      "source": [
        "##### sc_h"
      ]
    },
    {
      "cell_type": "code",
      "execution_count": null,
      "id": "f44f9996",
      "metadata": {
        "colab": {
          "base_uri": "https://localhost:8080/",
          "height": 283
        },
        "id": "f44f9996",
        "outputId": "386cd4e9-b52c-444e-a162-84ac2825c7b2"
      },
      "outputs": [
        {
          "data": {
            "text/plain": [
              "<matplotlib.collections.PathCollection at 0x7f6f5af5ab10>"
            ]
          },
          "execution_count": 32,
          "metadata": {},
          "output_type": "execute_result"
        },
        {
          "data": {
            "image/png": "[encoded data removed]",
            "text/plain": [
              "<Figure size 432x288 with 1 Axes>"
            ]
          },
          "metadata": {
            "needs_background": "light"
          },
          "output_type": "display_data"
        }
      ],
      "source": [
        "plt.scatter(data_raw['sc_h'], data_raw['price_range'], alpha=0.4)"
      ]
    },
    {
      "cell_type": "markdown",
      "id": "652c96e5",
      "metadata": {
        "id": "652c96e5"
      },
      "source": [
        "###### Emissions are unavailable"
      ]
    },
    {
      "cell_type": "markdown",
      "id": "vEum-q0NrHTw",
      "metadata": {
        "id": "vEum-q0NrHTw"
      },
      "source": [
        "##### sc_w"
      ]
    },
    {
      "cell_type": "code",
      "execution_count": null,
      "id": "c533cc71",
      "metadata": {
        "colab": {
          "base_uri": "https://localhost:8080/",
          "height": 283
        },
        "id": "c533cc71",
        "outputId": "9824ab04-739d-43e4-b164-684a78361266"
      },
      "outputs": [
        {
          "data": {
            "text/plain": [
              "<matplotlib.collections.PathCollection at 0x7f6f5aeca690>"
            ]
          },
          "execution_count": 33,
          "metadata": {},
          "output_type": "execute_result"
        },
        {
          "data": {
            "image/png": "[encoded data removed]",
            "text/plain": [
              "<Figure size 432x288 with 1 Axes>"
            ]
          },
          "metadata": {
            "needs_background": "light"
          },
          "output_type": "display_data"
        }
      ],
      "source": [
        "plt.scatter(data_raw['sc_w'], data_raw['price_range'], alpha=0.4)"
      ]
    },
    {
      "cell_type": "markdown",
      "id": "2748cf9e",
      "metadata": {
        "id": "2748cf9e"
      },
      "source": [
        "###### Emissions are unavailable"
      ]
    },
    {
      "cell_type": "markdown",
      "id": "7o0yFw0GrIpZ",
      "metadata": {
        "id": "7o0yFw0GrIpZ"
      },
      "source": [
        "##### talk_time"
      ]
    },
    {
      "cell_type": "code",
      "execution_count": null,
      "id": "11f14bbd",
      "metadata": {
        "colab": {
          "base_uri": "https://localhost:8080/",
          "height": 283
        },
        "id": "11f14bbd",
        "outputId": "7f97cb39-8a1f-44c5-ace9-a16d40b57784"
      },
      "outputs": [
        {
          "data": {
            "text/plain": [
              "<matplotlib.collections.PathCollection at 0x7f6f5aec0610>"
            ]
          },
          "execution_count": 34,
          "metadata": {},
          "output_type": "execute_result"
        },
        {
          "data": {
            "image/png": "[encoded data removed]",
            "text/plain": [
              "<Figure size 432x288 with 1 Axes>"
            ]
          },
          "metadata": {
            "needs_background": "light"
          },
          "output_type": "display_data"
        }
      ],
      "source": [
        "plt.scatter(data_raw['talk_time'], data_raw['price_range'], alpha=0.4)"
      ]
    },
    {
      "cell_type": "code",
      "execution_count": null,
      "id": "9e5db30c",
      "metadata": {
        "colab": {
          "base_uri": "https://localhost:8080/"
        },
        "id": "9e5db30c",
        "outputId": "92060a36-f53f-4472-bdbb-9459c7346d34"
      },
      "outputs": [
        {
          "data": {
            "text/plain": [
              "0.005     2.0\n",
              "0.010     2.0\n",
              "0.050     3.0\n",
              "0.100     4.0\n",
              "0.500    11.0\n",
              "0.900    19.0\n",
              "0.950    20.0\n",
              "0.990    20.0\n",
              "0.995    20.0\n",
              "Name: talk_time, dtype: float64"
            ]
          },
          "execution_count": 35,
          "metadata": {},
          "output_type": "execute_result"
        }
      ],
      "source": [
        "data_raw['talk_time'].quantile([0.005,.01,.05,.1,.5,.9,.95,.99,.995])"
      ]
    },
    {
      "cell_type": "markdown",
      "id": "bb785ca5",
      "metadata": {
        "id": "bb785ca5"
      },
      "source": [
        "###### Emissions are available"
      ]
    },
    {
      "cell_type": "markdown",
      "id": "cBLH4Ar3rJ7e",
      "metadata": {
        "id": "cBLH4Ar3rJ7e"
      },
      "source": [
        "##### three_g"
      ]
    },
    {
      "cell_type": "code",
      "execution_count": null,
      "id": "630be653",
      "metadata": {
        "colab": {
          "base_uri": "https://localhost:8080/",
          "height": 283
        },
        "id": "630be653",
        "outputId": "7ac24444-9279-4fcd-fa4f-7d4751f893ba"
      },
      "outputs": [
        {
          "data": {
            "text/plain": [
              "<matplotlib.collections.PathCollection at 0x7f6f5b352ad0>"
            ]
          },
          "execution_count": 36,
          "metadata": {},
          "output_type": "execute_result"
        },
        {
          "data": {
            "image/png": "[encoded data removed]",
            "text/plain": [
              "<Figure size 432x288 with 1 Axes>"
            ]
          },
          "metadata": {
            "needs_background": "light"
          },
          "output_type": "display_data"
        }
      ],
      "source": [
        "plt.scatter(data_raw['three_g'], data_raw['price_range'], alpha=0.4)"
      ]
    },
    {
      "cell_type": "markdown",
      "id": "102c0b8d",
      "metadata": {
        "id": "102c0b8d"
      },
      "source": [
        "###### Emissions are unavailable"
      ]
    },
    {
      "cell_type": "markdown",
      "id": "UKTrgeWfrLXn",
      "metadata": {
        "id": "UKTrgeWfrLXn"
      },
      "source": [
        "##### touch_screen"
      ]
    },
    {
      "cell_type": "code",
      "execution_count": null,
      "id": "d28af58a",
      "metadata": {
        "colab": {
          "base_uri": "https://localhost:8080/",
          "height": 283
        },
        "id": "d28af58a",
        "outputId": "6cabdb05-841e-4dfb-d7c6-e37c7a3727d4"
      },
      "outputs": [
        {
          "data": {
            "text/plain": [
              "<matplotlib.collections.PathCollection at 0x7f6f5b136290>"
            ]
          },
          "execution_count": 37,
          "metadata": {},
          "output_type": "execute_result"
        },
        {
          "data": {
            "image/png": "[encoded data removed]",
            "text/plain": [
              "<Figure size 432x288 with 1 Axes>"
            ]
          },
          "metadata": {
            "needs_background": "light"
          },
          "output_type": "display_data"
        }
      ],
      "source": [
        "plt.scatter(data_raw['touch_screen'], data_raw['price_range'], alpha=0.4)"
      ]
    },
    {
      "cell_type": "markdown",
      "id": "6a8a0ec6",
      "metadata": {
        "id": "6a8a0ec6"
      },
      "source": [
        "###### Emissions are unavailable"
      ]
    },
    {
      "cell_type": "markdown",
      "id": "J4QXtqHXrNgW",
      "metadata": {
        "id": "J4QXtqHXrNgW"
      },
      "source": [
        "##### price_range"
      ]
    },
    {
      "cell_type": "code",
      "execution_count": null,
      "id": "b2efc236",
      "metadata": {
        "colab": {
          "base_uri": "https://localhost:8080/",
          "height": 283
        },
        "id": "b2efc236",
        "outputId": "493f1e00-8397-406e-b358-a11542d4f6f3"
      },
      "outputs": [
        {
          "data": {
            "text/plain": [
              "<matplotlib.collections.PathCollection at 0x7f6f5ad51d90>"
            ]
          },
          "execution_count": 38,
          "metadata": {},
          "output_type": "execute_result"
        },
        {
          "data": {
            "image/png": "[encoded data removed]",
            "text/plain": [
              "<Figure size 432x288 with 1 Axes>"
            ]
          },
          "metadata": {
            "needs_background": "light"
          },
          "output_type": "display_data"
        }
      ],
      "source": [
        "plt.scatter(data_raw['wifi'], data_raw['price_range'], alpha=0.4)"
      ]
    },
    {
      "cell_type": "markdown",
      "id": "d503eebe",
      "metadata": {
        "id": "d503eebe"
      },
      "source": [
        "###### Emissions are unavailable"
      ]
    },
    {
      "cell_type": "markdown",
      "id": "V3mgaBmrucSV",
      "metadata": {
        "id": "V3mgaBmrucSV"
      },
      "source": [
        "#### Removal of emissions"
      ]
    },
    {
      "cell_type": "markdown",
      "id": "2221203a",
      "metadata": {
        "id": "2221203a"
      },
      "source": [
        "Let's delete all the rows of the table in which features with outliers go beyond the [$ 0.005 $, $ 0.995 $] quantiles."
      ]
    },
    {
      "cell_type": "code",
      "execution_count": null,
      "id": "da4ab4ca",
      "metadata": {
        "colab": {
          "base_uri": "https://localhost:8080/"
        },
        "id": "da4ab4ca",
        "outputId": "2f939896-5355-4bbd-af3c-2cf05d1272e5"
      },
      "outputs": [
        {
          "name": "stdout",
          "output_type": "stream",
          "text": [
            "Dataset contains data about 2000 phone models without pass with a description of 21 parameters\n"
          ]
        }
      ],
      "source": [
        "rows_without_pass = data_raw[\n",
        "    (data_raw['battery_power'] < data_raw['battery_power'].quantile(0.005)) | (data_raw['battery_power'] > data_raw['battery_power'].quantile(0.995)) | \n",
        "    (data_raw['clock_speed']  < data_raw['clock_speed' ].quantile(0.005)) | (data_raw['clock_speed']  > data_raw['clock_speed' ].quantile(0.995)) | \n",
        "    (data_raw['fc']  < data_raw['fc' ].quantile(0.005)) | (data_raw['fc']  > data_raw['fc' ].quantile(0.995)) |\n",
        "    (data_raw['int_memory']  < data_raw['int_memory' ].quantile(0.005)) | (data_raw['int_memory']  > data_raw['int_memory' ].quantile(0.995)) | \n",
        "    (data_raw['m_dep']  < data_raw['m_dep' ].quantile(0.005)) | (data_raw['m_dep']  > data_raw['m_dep' ].quantile(0.995)) |\n",
        "    (data_raw['mobile_wt']  < data_raw['mobile_wt' ].quantile(0.005)) | (data_raw['mobile_wt']  > data_raw['mobile_wt' ].quantile(0.995)) | \n",
        "    (data_raw['pc']  < data_raw['pc' ].quantile(0.005)) | (data_raw['pc']  > data_raw['pc' ].quantile(0.995)) |\n",
        "    (data_raw['px_width']  < data_raw['px_width' ].quantile(0.005)) | (data_raw['px_width']  > data_raw['px_width' ].quantile(0.995)) | \n",
        "    (data_raw['ram']  < data_raw['ram' ].quantile(0.005)) | (data_raw['ram']  > data_raw['ram' ].quantile(0.995)) |\n",
        "    (data_raw['talk_time']  < data_raw['talk_time' ].quantile(0.005)) | (data_raw['talk_time']  > data_raw['talk_time' ].quantile(0.995))].index\n",
        "data = data_raw.drop(rows_without_pass)\n",
        "\n",
        "print(\"Dataset contains data about\", data_raw.shape[0], \"phone models without pass with a description of\", data_raw.shape[1], \"parameters\")"
      ]
    },
    {
      "cell_type": "code",
      "execution_count": null,
      "id": "5f1cd807",
      "metadata": {
        "colab": {
          "base_uri": "https://localhost:8080/"
        },
        "id": "5f1cd807",
        "outputId": "c29c603c-7906-41a7-ee09-b4e6772b9ea2"
      },
      "outputs": [
        {
          "data": {
            "text/plain": [
              "Int64Index([  24,   69,  152,  185,  193,  219,  292,  309,  327,  467,  625,\n",
              "             634,  637,  655,  661,  696,  719,  736,  753,  799,  812,  854,\n",
              "             917,  926,  940,  947,  964,  987,  988, 1027, 1041, 1115, 1144,\n",
              "            1207, 1224, 1230, 1240, 1265, 1318, 1354, 1389, 1405, 1518, 1540,\n",
              "            1570, 1582, 1618, 1619, 1682, 1684, 1705, 1713, 1745, 1768, 1816,\n",
              "            1829, 1994],\n",
              "           dtype='int64')"
            ]
          },
          "execution_count": 40,
          "metadata": {},
          "output_type": "execute_result"
        }
      ],
      "source": [
        "rows_without_pass"
      ]
    },
    {
      "cell_type": "code",
      "execution_count": null,
      "id": "1kYid4D6ALlo",
      "metadata": {
        "id": "1kYid4D6ALlo"
      },
      "outputs": [],
      "source": [
        "test_without_pass = test_raw[\n",
        "    (test_raw['battery_power'] < test_raw['battery_power'].quantile(0.005)) | (test_raw['battery_power'] > test_raw['battery_power'].quantile(0.995)) | \n",
        "    (test_raw['clock_speed']  < test_raw['clock_speed' ].quantile(0.005)) | (test_raw['clock_speed']  > test_raw['clock_speed' ].quantile(0.995)) | \n",
        "    (test_raw['fc']  < test_raw['fc' ].quantile(0.005)) | (test_raw['fc']  > test_raw['fc' ].quantile(0.995)) |\n",
        "    (test_raw['int_memory']  < test_raw['int_memory' ].quantile(0.005)) | (test_raw['int_memory']  > test_raw['int_memory' ].quantile(0.995)) | \n",
        "    (test_raw['m_dep']  < test_raw['m_dep' ].quantile(0.005)) | (test_raw['m_dep']  > test_raw['m_dep' ].quantile(0.995)) |\n",
        "    (test_raw['mobile_wt']  < test_raw['mobile_wt' ].quantile(0.005)) | (test_raw['mobile_wt']  > test_raw['mobile_wt' ].quantile(0.995)) | \n",
        "    (test_raw['pc']  < test_raw['pc' ].quantile(0.005)) | (test_raw['pc']  > test_raw['pc' ].quantile(0.995)) |\n",
        "    (test_raw['px_width']  < test_raw['px_width' ].quantile(0.005)) | (test_raw['px_width']  > test_raw['px_width' ].quantile(0.995)) | \n",
        "    (test_raw['ram']  < test_raw['ram' ].quantile(0.005)) | (test_raw['ram']  > test_raw['ram' ].quantile(0.995)) |\n",
        "    (test_raw['talk_time']  < test_raw['talk_time' ].quantile(0.005)) | (test_raw['talk_time']  > test_raw['talk_time' ].quantile(0.995))].index\n",
        "test = test_raw.drop(test_without_pass)"
      ]
    },
    {
      "cell_type": "markdown",
      "id": "da2ed4dd",
      "metadata": {
        "id": "da2ed4dd"
      },
      "source": [
        "## 2. Data visualization and calculation of basic characteristics"
      ]
    },
    {
      "cell_type": "code",
      "execution_count": null,
      "id": "90c28beb",
      "metadata": {
        "colab": {
          "base_uri": "https://localhost:8080/",
          "height": 320
        },
        "id": "90c28beb",
        "outputId": "2f9eec2d-b679-4917-c647-f7d1d17677f1"
      },
      "outputs": [
        {
          "data": {
            "text/html": [
              "<div>\n",
              "<style scoped>\n",
              "    .dataframe tbody tr th:only-of-type {\n",
              "        vertical-align: middle;\n",
              "    }\n",
              "\n",
              "    .dataframe tbody tr th {\n",
              "        vertical-align: top;\n",
              "    }\n",
              "\n",
              "    .dataframe thead th {\n",
              "        text-align: right;\n",
              "    }\n",
              "</style>\n",
              "<table border=\"1\" class=\"dataframe\">\n",
              "  <thead>\n",
              "    <tr style=\"text-align: right;\">\n",
              "      <th></th>\n",
              "      <th>battery_power</th>\n",
              "      <th>blue</th>\n",
              "      <th>clock_speed</th>\n",
              "      <th>dual_sim</th>\n",
              "      <th>fc</th>\n",
              "      <th>four_g</th>\n",
              "      <th>int_memory</th>\n",
              "      <th>m_dep</th>\n",
              "      <th>mobile_wt</th>\n",
              "      <th>n_cores</th>\n",
              "      <th>pc</th>\n",
              "      <th>px_height</th>\n",
              "      <th>px_width</th>\n",
              "      <th>ram</th>\n",
              "      <th>sc_h</th>\n",
              "      <th>sc_w</th>\n",
              "      <th>talk_time</th>\n",
              "      <th>three_g</th>\n",
              "      <th>touch_screen</th>\n",
              "      <th>wifi</th>\n",
              "      <th>price_range</th>\n",
              "    </tr>\n",
              "  </thead>\n",
              "  <tbody>\n",
              "    <tr>\n",
              "      <th>count</th>\n",
              "      <td>1943.000000</td>\n",
              "      <td>1943.000000</td>\n",
              "      <td>1943.000000</td>\n",
              "      <td>1943.000000</td>\n",
              "      <td>1943.000000</td>\n",
              "      <td>1943.000000</td>\n",
              "      <td>1943.000000</td>\n",
              "      <td>1943.000000</td>\n",
              "      <td>1943.00000</td>\n",
              "      <td>1943.000000</td>\n",
              "      <td>1943.000000</td>\n",
              "      <td>1943.000000</td>\n",
              "      <td>1943.000000</td>\n",
              "      <td>1943.000000</td>\n",
              "      <td>1943.000000</td>\n",
              "      <td>1943.000000</td>\n",
              "      <td>1943.000000</td>\n",
              "      <td>1943.000000</td>\n",
              "      <td>1943.000000</td>\n",
              "      <td>1943.000000</td>\n",
              "      <td>1943.000000</td>\n",
              "    </tr>\n",
              "    <tr>\n",
              "      <th>mean</th>\n",
              "      <td>1237.001544</td>\n",
              "      <td>0.497169</td>\n",
              "      <td>1.520690</td>\n",
              "      <td>0.507977</td>\n",
              "      <td>4.304683</td>\n",
              "      <td>0.519815</td>\n",
              "      <td>32.058157</td>\n",
              "      <td>0.501287</td>\n",
              "      <td>140.30211</td>\n",
              "      <td>4.512609</td>\n",
              "      <td>9.922800</td>\n",
              "      <td>645.888832</td>\n",
              "      <td>1250.928461</td>\n",
              "      <td>2125.989192</td>\n",
              "      <td>12.300051</td>\n",
              "      <td>5.748842</td>\n",
              "      <td>11.016984</td>\n",
              "      <td>0.759650</td>\n",
              "      <td>0.505404</td>\n",
              "      <td>0.508492</td>\n",
              "      <td>1.499743</td>\n",
              "    </tr>\n",
              "    <tr>\n",
              "      <th>std</th>\n",
              "      <td>437.052313</td>\n",
              "      <td>0.500121</td>\n",
              "      <td>0.818418</td>\n",
              "      <td>0.500065</td>\n",
              "      <td>4.345507</td>\n",
              "      <td>0.499736</td>\n",
              "      <td>18.151928</td>\n",
              "      <td>0.288919</td>\n",
              "      <td>35.36240</td>\n",
              "      <td>2.287458</td>\n",
              "      <td>6.079224</td>\n",
              "      <td>442.368889</td>\n",
              "      <td>428.276505</td>\n",
              "      <td>1076.484304</td>\n",
              "      <td>4.221474</td>\n",
              "      <td>4.359929</td>\n",
              "      <td>5.470473</td>\n",
              "      <td>0.427406</td>\n",
              "      <td>0.500100</td>\n",
              "      <td>0.500057</td>\n",
              "      <td>1.114863</td>\n",
              "    </tr>\n",
              "    <tr>\n",
              "      <th>min</th>\n",
              "      <td>504.000000</td>\n",
              "      <td>0.000000</td>\n",
              "      <td>0.500000</td>\n",
              "      <td>0.000000</td>\n",
              "      <td>0.000000</td>\n",
              "      <td>0.000000</td>\n",
              "      <td>2.000000</td>\n",
              "      <td>0.100000</td>\n",
              "      <td>80.00000</td>\n",
              "      <td>1.000000</td>\n",
              "      <td>0.000000</td>\n",
              "      <td>0.000000</td>\n",
              "      <td>508.000000</td>\n",
              "      <td>278.000000</td>\n",
              "      <td>5.000000</td>\n",
              "      <td>0.000000</td>\n",
              "      <td>2.000000</td>\n",
              "      <td>0.000000</td>\n",
              "      <td>0.000000</td>\n",
              "      <td>0.000000</td>\n",
              "      <td>0.000000</td>\n",
              "    </tr>\n",
              "    <tr>\n",
              "      <th>25%</th>\n",
              "      <td>851.500000</td>\n",
              "      <td>0.000000</td>\n",
              "      <td>0.700000</td>\n",
              "      <td>0.000000</td>\n",
              "      <td>1.000000</td>\n",
              "      <td>0.000000</td>\n",
              "      <td>16.000000</td>\n",
              "      <td>0.200000</td>\n",
              "      <td>109.00000</td>\n",
              "      <td>3.000000</td>\n",
              "      <td>5.000000</td>\n",
              "      <td>286.000000</td>\n",
              "      <td>877.500000</td>\n",
              "      <td>1210.500000</td>\n",
              "      <td>9.000000</td>\n",
              "      <td>2.000000</td>\n",
              "      <td>6.000000</td>\n",
              "      <td>1.000000</td>\n",
              "      <td>0.000000</td>\n",
              "      <td>0.000000</td>\n",
              "      <td>1.000000</td>\n",
              "    </tr>\n",
              "    <tr>\n",
              "      <th>50%</th>\n",
              "      <td>1225.000000</td>\n",
              "      <td>0.000000</td>\n",
              "      <td>1.500000</td>\n",
              "      <td>1.000000</td>\n",
              "      <td>3.000000</td>\n",
              "      <td>1.000000</td>\n",
              "      <td>32.000000</td>\n",
              "      <td>0.500000</td>\n",
              "      <td>141.00000</td>\n",
              "      <td>4.000000</td>\n",
              "      <td>10.000000</td>\n",
              "      <td>570.000000</td>\n",
              "      <td>1247.000000</td>\n",
              "      <td>2148.000000</td>\n",
              "      <td>12.000000</td>\n",
              "      <td>5.000000</td>\n",
              "      <td>11.000000</td>\n",
              "      <td>1.000000</td>\n",
              "      <td>1.000000</td>\n",
              "      <td>1.000000</td>\n",
              "      <td>1.000000</td>\n",
              "    </tr>\n",
              "    <tr>\n",
              "      <th>75%</th>\n",
              "      <td>1614.000000</td>\n",
              "      <td>1.000000</td>\n",
              "      <td>2.200000</td>\n",
              "      <td>1.000000</td>\n",
              "      <td>7.000000</td>\n",
              "      <td>1.000000</td>\n",
              "      <td>48.000000</td>\n",
              "      <td>0.800000</td>\n",
              "      <td>170.00000</td>\n",
              "      <td>7.000000</td>\n",
              "      <td>15.000000</td>\n",
              "      <td>949.000000</td>\n",
              "      <td>1629.500000</td>\n",
              "      <td>3058.000000</td>\n",
              "      <td>16.000000</td>\n",
              "      <td>9.000000</td>\n",
              "      <td>16.000000</td>\n",
              "      <td>1.000000</td>\n",
              "      <td>1.000000</td>\n",
              "      <td>1.000000</td>\n",
              "      <td>2.000000</td>\n",
              "    </tr>\n",
              "    <tr>\n",
              "      <th>max</th>\n",
              "      <td>1992.000000</td>\n",
              "      <td>1.000000</td>\n",
              "      <td>3.000000</td>\n",
              "      <td>1.000000</td>\n",
              "      <td>18.000000</td>\n",
              "      <td>1.000000</td>\n",
              "      <td>64.000000</td>\n",
              "      <td>1.000000</td>\n",
              "      <td>200.00000</td>\n",
              "      <td>8.000000</td>\n",
              "      <td>20.000000</td>\n",
              "      <td>1960.000000</td>\n",
              "      <td>1990.000000</td>\n",
              "      <td>3970.000000</td>\n",
              "      <td>19.000000</td>\n",
              "      <td>18.000000</td>\n",
              "      <td>20.000000</td>\n",
              "      <td>1.000000</td>\n",
              "      <td>1.000000</td>\n",
              "      <td>1.000000</td>\n",
              "      <td>3.000000</td>\n",
              "    </tr>\n",
              "  </tbody>\n",
              "</table>\n",
              "</div>"
            ],
            "text/plain": [
              "       battery_power         blue  ...         wifi  price_range\n",
              "count    1943.000000  1943.000000  ...  1943.000000  1943.000000\n",
              "mean     1237.001544     0.497169  ...     0.508492     1.499743\n",
              "std       437.052313     0.500121  ...     0.500057     1.114863\n",
              "min       504.000000     0.000000  ...     0.000000     0.000000\n",
              "25%       851.500000     0.000000  ...     0.000000     1.000000\n",
              "50%      1225.000000     0.000000  ...     1.000000     1.000000\n",
              "75%      1614.000000     1.000000  ...     1.000000     2.000000\n",
              "max      1992.000000     1.000000  ...     1.000000     3.000000\n",
              "\n",
              "[8 rows x 21 columns]"
            ]
          },
          "execution_count": 42,
          "metadata": {},
          "output_type": "execute_result"
        }
      ],
      "source": [
        "data.describe()"
      ]
    },
    {
      "cell_type": "markdown",
      "id": "744fdfa5",
      "metadata": {
        "id": "744fdfa5"
      },
      "source": [
        "In the description we see:\n",
        "\n",
        "1. count - the number of values for each feature. Due to gaps in the table, all values are different. The minimum value for dual_sim = 2867, the number of gaps = 12, which is 0.4% of the total.\n",
        "2.mean - mean value\n",
        "3.std - standard deviation\n",
        "4.min - minimum value\n",
        "5.25% - first quartile\n",
        "6.50% - median\n",
        "7.75% - third quartile\n",
        "8.max - maximum value (note suspiciously large values - outliers, which we will fight with in the future)"
      ]
    },
    {
      "cell_type": "markdown",
      "id": "X5csIwu5wDj9",
      "metadata": {
        "id": "X5csIwu5wDj9"
      },
      "source": [
        "Consider some of the characteristics"
      ]
    },
    {
      "cell_type": "code",
      "execution_count": null,
      "id": "1d7080ad",
      "metadata": {
        "colab": {
          "base_uri": "https://localhost:8080/",
          "height": 369
        },
        "id": "1d7080ad",
        "outputId": "d82f77c7-9272-44a2-8722-2284a9649ec6"
      },
      "outputs": [
        {
          "data": {
            "image/png": "[encoded data removed]",
            "text/plain": [
              "<Figure size 360x360 with 1 Axes>"
            ]
          },
          "metadata": {
            "needs_background": "light"
          },
          "output_type": "display_data"
        }
      ],
      "source": [
        "sns.displot(data['dual_sim'], bins=2)\n",
        "plt.grid()"
      ]
    },
    {
      "cell_type": "markdown",
      "id": "02640e2a",
      "metadata": {
        "id": "02640e2a"
      },
      "source": [
        "The histogram shows the distribution in 2 categories: the presence and absence of support for 2 sim cards. Average = 0.511336, deviation = 0.499959. We can conclude that slightly more than half of the models have 2 sim cards."
      ]
    },
    {
      "cell_type": "code",
      "execution_count": null,
      "id": "a36a6a48",
      "metadata": {
        "colab": {
          "base_uri": "https://localhost:8080/",
          "height": 369
        },
        "id": "a36a6a48",
        "outputId": "3fa37f86-d1f4-4897-8789-ffa524f6939f"
      },
      "outputs": [
        {
          "data": {
            "image/png": "[encoded data removed]",
            "text/plain": [
              "<Figure size 360x360 with 1 Axes>"
            ]
          },
          "metadata": {
            "needs_background": "light"
          },
          "output_type": "display_data"
        }
      ],
      "source": [
        "sns.displot(data['touch_screen'], bins=2)\n",
        "plt.grid()"
      ]
    },
    {
      "cell_type": "markdown",
      "id": "aa55748b",
      "metadata": {
        "id": "aa55748b"
      },
      "source": [
        "We see a normal distribution by categories: the presence and absence of a touch screen. With an average = 0.507650 and a deviation = 0.500028, that is, the number of models with a touch screen and a regular one is approximately equal."
      ]
    },
    {
      "cell_type": "code",
      "execution_count": null,
      "id": "ad2bcf15",
      "metadata": {
        "colab": {
          "base_uri": "https://localhost:8080/",
          "height": 369
        },
        "id": "ad2bcf15",
        "outputId": "54f5fad8-46df-4001-c060-bf5ca9724473"
      },
      "outputs": [
        {
          "data": {
            "image/png": "[encoded data removed]",
            "text/plain": [
              "<Figure size 360x360 with 1 Axes>"
            ]
          },
          "metadata": {
            "needs_background": "light"
          },
          "output_type": "display_data"
        }
      ],
      "source": [
        "sns.displot(data['ram'], bins=20)\n",
        "plt.grid()"
      ]
    },
    {
      "cell_type": "markdown",
      "id": "6c81aa00",
      "metadata": {
        "id": "6c81aa00"
      },
      "source": [
        "Distribution of RAM with average = 2136 and deviation = 1083. In this case, 25% = 1210, 50% = 2181, 75% = 3068."
      ]
    },
    {
      "cell_type": "markdown",
      "id": "dzsUOoOfxbRZ",
      "metadata": {
        "id": "dzsUOoOfxbRZ"
      },
      "source": [
        "### Calculate the correlation matrix"
      ]
    },
    {
      "cell_type": "code",
      "execution_count": null,
      "id": "e797d441",
      "metadata": {
        "colab": {
          "base_uri": "https://localhost:8080/",
          "height": 728
        },
        "id": "e797d441",
        "outputId": "d0b2cbfb-1998-4df0-937b-6ece2924c93a"
      },
      "outputs": [
        {
          "data": {
            "text/html": [
              "<div>\n",
              "<style scoped>\n",
              "    .dataframe tbody tr th:only-of-type {\n",
              "        vertical-align: middle;\n",
              "    }\n",
              "\n",
              "    .dataframe tbody tr th {\n",
              "        vertical-align: top;\n",
              "    }\n",
              "\n",
              "    .dataframe thead th {\n",
              "        text-align: right;\n",
              "    }\n",
              "</style>\n",
              "<table border=\"1\" class=\"dataframe\">\n",
              "  <thead>\n",
              "    <tr style=\"text-align: right;\">\n",
              "      <th></th>\n",
              "      <th>battery_power</th>\n",
              "      <th>blue</th>\n",
              "      <th>clock_speed</th>\n",
              "      <th>dual_sim</th>\n",
              "      <th>fc</th>\n",
              "      <th>four_g</th>\n",
              "      <th>int_memory</th>\n",
              "      <th>m_dep</th>\n",
              "      <th>mobile_wt</th>\n",
              "      <th>n_cores</th>\n",
              "      <th>pc</th>\n",
              "      <th>px_height</th>\n",
              "      <th>px_width</th>\n",
              "      <th>ram</th>\n",
              "      <th>sc_h</th>\n",
              "      <th>sc_w</th>\n",
              "      <th>talk_time</th>\n",
              "      <th>three_g</th>\n",
              "      <th>touch_screen</th>\n",
              "      <th>wifi</th>\n",
              "      <th>price_range</th>\n",
              "    </tr>\n",
              "  </thead>\n",
              "  <tbody>\n",
              "    <tr>\n",
              "      <th>battery_power</th>\n",
              "      <td>1.000000</td>\n",
              "      <td>0.002581</td>\n",
              "      <td>0.011580</td>\n",
              "      <td>-0.037543</td>\n",
              "      <td>0.036593</td>\n",
              "      <td>0.017101</td>\n",
              "      <td>-0.001801</td>\n",
              "      <td>0.036657</td>\n",
              "      <td>0.004701</td>\n",
              "      <td>-0.041971</td>\n",
              "      <td>0.036280</td>\n",
              "      <td>0.010915</td>\n",
              "      <td>-0.007400</td>\n",
              "      <td>0.004242</td>\n",
              "      <td>-0.035409</td>\n",
              "      <td>-0.028381</td>\n",
              "      <td>0.050741</td>\n",
              "      <td>0.006031</td>\n",
              "      <td>-0.011606</td>\n",
              "      <td>-0.008304</td>\n",
              "      <td>0.206171</td>\n",
              "    </tr>\n",
              "    <tr>\n",
              "      <th>blue</th>\n",
              "      <td>0.002581</td>\n",
              "      <td>1.000000</td>\n",
              "      <td>0.030085</td>\n",
              "      <td>0.031490</td>\n",
              "      <td>0.001582</td>\n",
              "      <td>0.012071</td>\n",
              "      <td>0.048544</td>\n",
              "      <td>0.006618</td>\n",
              "      <td>-0.011584</td>\n",
              "      <td>0.038629</td>\n",
              "      <td>-0.014637</td>\n",
              "      <td>-0.007093</td>\n",
              "      <td>-0.033772</td>\n",
              "      <td>0.030273</td>\n",
              "      <td>-0.013134</td>\n",
              "      <td>-0.004341</td>\n",
              "      <td>0.010652</td>\n",
              "      <td>-0.028479</td>\n",
              "      <td>0.007782</td>\n",
              "      <td>-0.023068</td>\n",
              "      <td>0.022394</td>\n",
              "    </tr>\n",
              "    <tr>\n",
              "      <th>clock_speed</th>\n",
              "      <td>0.011580</td>\n",
              "      <td>0.030085</td>\n",
              "      <td>1.000000</td>\n",
              "      <td>0.002365</td>\n",
              "      <td>0.005046</td>\n",
              "      <td>-0.049224</td>\n",
              "      <td>0.004990</td>\n",
              "      <td>-0.016424</td>\n",
              "      <td>0.008385</td>\n",
              "      <td>-0.006603</td>\n",
              "      <td>-0.000714</td>\n",
              "      <td>-0.023249</td>\n",
              "      <td>-0.013453</td>\n",
              "      <td>0.006603</td>\n",
              "      <td>-0.031890</td>\n",
              "      <td>-0.012022</td>\n",
              "      <td>-0.009372</td>\n",
              "      <td>-0.050549</td>\n",
              "      <td>0.018598</td>\n",
              "      <td>-0.027733</td>\n",
              "      <td>-0.004453</td>\n",
              "    </tr>\n",
              "    <tr>\n",
              "      <th>dual_sim</th>\n",
              "      <td>-0.037543</td>\n",
              "      <td>0.031490</td>\n",
              "      <td>0.002365</td>\n",
              "      <td>1.000000</td>\n",
              "      <td>-0.030503</td>\n",
              "      <td>-0.000118</td>\n",
              "      <td>-0.006376</td>\n",
              "      <td>-0.021277</td>\n",
              "      <td>-0.008537</td>\n",
              "      <td>-0.021583</td>\n",
              "      <td>-0.021648</td>\n",
              "      <td>-0.021542</td>\n",
              "      <td>0.013738</td>\n",
              "      <td>0.040846</td>\n",
              "      <td>-0.006867</td>\n",
              "      <td>-0.008764</td>\n",
              "      <td>-0.040049</td>\n",
              "      <td>-0.013912</td>\n",
              "      <td>-0.014071</td>\n",
              "      <td>0.029073</td>\n",
              "      <td>0.018246</td>\n",
              "    </tr>\n",
              "    <tr>\n",
              "      <th>fc</th>\n",
              "      <td>0.036593</td>\n",
              "      <td>0.001582</td>\n",
              "      <td>0.005046</td>\n",
              "      <td>-0.030503</td>\n",
              "      <td>1.000000</td>\n",
              "      <td>-0.013215</td>\n",
              "      <td>-0.031782</td>\n",
              "      <td>0.004445</td>\n",
              "      <td>0.027261</td>\n",
              "      <td>-0.015099</td>\n",
              "      <td>0.644857</td>\n",
              "      <td>-0.005947</td>\n",
              "      <td>-0.005872</td>\n",
              "      <td>0.014350</td>\n",
              "      <td>-0.013239</td>\n",
              "      <td>-0.006504</td>\n",
              "      <td>-0.007929</td>\n",
              "      <td>0.005347</td>\n",
              "      <td>-0.012605</td>\n",
              "      <td>0.021321</td>\n",
              "      <td>0.022549</td>\n",
              "    </tr>\n",
              "    <tr>\n",
              "      <th>four_g</th>\n",
              "      <td>0.017101</td>\n",
              "      <td>0.012071</td>\n",
              "      <td>-0.049224</td>\n",
              "      <td>-0.000118</td>\n",
              "      <td>-0.013215</td>\n",
              "      <td>1.000000</td>\n",
              "      <td>0.007394</td>\n",
              "      <td>-0.001782</td>\n",
              "      <td>-0.018303</td>\n",
              "      <td>-0.032314</td>\n",
              "      <td>0.004063</td>\n",
              "      <td>-0.023525</td>\n",
              "      <td>0.008491</td>\n",
              "      <td>0.004174</td>\n",
              "      <td>0.024884</td>\n",
              "      <td>0.039390</td>\n",
              "      <td>-0.046365</td>\n",
              "      <td>0.585242</td>\n",
              "      <td>0.015540</td>\n",
              "      <td>-0.017674</td>\n",
              "      <td>0.014104</td>\n",
              "    </tr>\n",
              "    <tr>\n",
              "      <th>int_memory</th>\n",
              "      <td>-0.001801</td>\n",
              "      <td>0.048544</td>\n",
              "      <td>0.004990</td>\n",
              "      <td>-0.006376</td>\n",
              "      <td>-0.031782</td>\n",
              "      <td>0.007394</td>\n",
              "      <td>1.000000</td>\n",
              "      <td>0.006063</td>\n",
              "      <td>-0.034821</td>\n",
              "      <td>-0.029837</td>\n",
              "      <td>-0.031359</td>\n",
              "      <td>0.008717</td>\n",
              "      <td>-0.009760</td>\n",
              "      <td>0.034336</td>\n",
              "      <td>0.037101</td>\n",
              "      <td>0.009463</td>\n",
              "      <td>-0.002437</td>\n",
              "      <td>-0.010675</td>\n",
              "      <td>-0.022810</td>\n",
              "      <td>0.008427</td>\n",
              "      <td>0.046705</td>\n",
              "    </tr>\n",
              "    <tr>\n",
              "      <th>m_dep</th>\n",
              "      <td>0.036657</td>\n",
              "      <td>0.006618</td>\n",
              "      <td>-0.016424</td>\n",
              "      <td>-0.021277</td>\n",
              "      <td>0.004445</td>\n",
              "      <td>-0.001782</td>\n",
              "      <td>0.006063</td>\n",
              "      <td>1.000000</td>\n",
              "      <td>0.022415</td>\n",
              "      <td>-0.012374</td>\n",
              "      <td>0.027615</td>\n",
              "      <td>0.027631</td>\n",
              "      <td>0.019930</td>\n",
              "      <td>-0.002105</td>\n",
              "      <td>-0.024086</td>\n",
              "      <td>-0.015972</td>\n",
              "      <td>0.013539</td>\n",
              "      <td>-0.015008</td>\n",
              "      <td>0.000130</td>\n",
              "      <td>-0.028054</td>\n",
              "      <td>0.006316</td>\n",
              "    </tr>\n",
              "    <tr>\n",
              "      <th>mobile_wt</th>\n",
              "      <td>0.004701</td>\n",
              "      <td>-0.011584</td>\n",
              "      <td>0.008385</td>\n",
              "      <td>-0.008537</td>\n",
              "      <td>0.027261</td>\n",
              "      <td>-0.018303</td>\n",
              "      <td>-0.034821</td>\n",
              "      <td>0.022415</td>\n",
              "      <td>1.000000</td>\n",
              "      <td>-0.017868</td>\n",
              "      <td>0.018897</td>\n",
              "      <td>0.003660</td>\n",
              "      <td>-0.001852</td>\n",
              "      <td>0.006364</td>\n",
              "      <td>-0.036871</td>\n",
              "      <td>-0.021975</td>\n",
              "      <td>0.000165</td>\n",
              "      <td>0.002217</td>\n",
              "      <td>-0.010444</td>\n",
              "      <td>0.003771</td>\n",
              "      <td>-0.023750</td>\n",
              "    </tr>\n",
              "    <tr>\n",
              "      <th>n_cores</th>\n",
              "      <td>-0.041971</td>\n",
              "      <td>0.038629</td>\n",
              "      <td>-0.006603</td>\n",
              "      <td>-0.021583</td>\n",
              "      <td>-0.015099</td>\n",
              "      <td>-0.032314</td>\n",
              "      <td>-0.029837</td>\n",
              "      <td>-0.012374</td>\n",
              "      <td>-0.017868</td>\n",
              "      <td>1.000000</td>\n",
              "      <td>-0.001004</td>\n",
              "      <td>-0.006691</td>\n",
              "      <td>0.019641</td>\n",
              "      <td>0.006910</td>\n",
              "      <td>0.002514</td>\n",
              "      <td>0.027476</td>\n",
              "      <td>0.013418</td>\n",
              "      <td>-0.016123</td>\n",
              "      <td>0.027286</td>\n",
              "      <td>-0.013261</td>\n",
              "      <td>0.003888</td>\n",
              "    </tr>\n",
              "    <tr>\n",
              "      <th>pc</th>\n",
              "      <td>0.036280</td>\n",
              "      <td>-0.014637</td>\n",
              "      <td>-0.000714</td>\n",
              "      <td>-0.021648</td>\n",
              "      <td>0.644857</td>\n",
              "      <td>0.004063</td>\n",
              "      <td>-0.031359</td>\n",
              "      <td>0.027615</td>\n",
              "      <td>0.018897</td>\n",
              "      <td>-0.001004</td>\n",
              "      <td>1.000000</td>\n",
              "      <td>-0.013415</td>\n",
              "      <td>0.002940</td>\n",
              "      <td>0.033512</td>\n",
              "      <td>0.006401</td>\n",
              "      <td>-0.018528</td>\n",
              "      <td>0.014749</td>\n",
              "      <td>0.005539</td>\n",
              "      <td>-0.003758</td>\n",
              "      <td>0.005636</td>\n",
              "      <td>0.038517</td>\n",
              "    </tr>\n",
              "    <tr>\n",
              "      <th>px_height</th>\n",
              "      <td>0.010915</td>\n",
              "      <td>-0.007093</td>\n",
              "      <td>-0.023249</td>\n",
              "      <td>-0.021542</td>\n",
              "      <td>-0.005947</td>\n",
              "      <td>-0.023525</td>\n",
              "      <td>0.008717</td>\n",
              "      <td>0.027631</td>\n",
              "      <td>0.003660</td>\n",
              "      <td>-0.006691</td>\n",
              "      <td>-0.013415</td>\n",
              "      <td>1.000000</td>\n",
              "      <td>0.507737</td>\n",
              "      <td>-0.020365</td>\n",
              "      <td>0.057811</td>\n",
              "      <td>0.040687</td>\n",
              "      <td>-0.015759</td>\n",
              "      <td>-0.032300</td>\n",
              "      <td>0.017476</td>\n",
              "      <td>0.046004</td>\n",
              "      <td>0.148554</td>\n",
              "    </tr>\n",
              "    <tr>\n",
              "      <th>px_width</th>\n",
              "      <td>-0.007400</td>\n",
              "      <td>-0.033772</td>\n",
              "      <td>-0.013453</td>\n",
              "      <td>0.013738</td>\n",
              "      <td>-0.005872</td>\n",
              "      <td>0.008491</td>\n",
              "      <td>-0.009760</td>\n",
              "      <td>0.019930</td>\n",
              "      <td>-0.001852</td>\n",
              "      <td>0.019641</td>\n",
              "      <td>0.002940</td>\n",
              "      <td>0.507737</td>\n",
              "      <td>1.000000</td>\n",
              "      <td>0.000458</td>\n",
              "      <td>0.025505</td>\n",
              "      <td>0.035268</td>\n",
              "      <td>-0.002027</td>\n",
              "      <td>-0.001554</td>\n",
              "      <td>-0.002721</td>\n",
              "      <td>0.027494</td>\n",
              "      <td>0.161604</td>\n",
              "    </tr>\n",
              "    <tr>\n",
              "      <th>ram</th>\n",
              "      <td>0.004242</td>\n",
              "      <td>0.030273</td>\n",
              "      <td>0.006603</td>\n",
              "      <td>0.040846</td>\n",
              "      <td>0.014350</td>\n",
              "      <td>0.004174</td>\n",
              "      <td>0.034336</td>\n",
              "      <td>-0.002105</td>\n",
              "      <td>0.006364</td>\n",
              "      <td>0.006910</td>\n",
              "      <td>0.033512</td>\n",
              "      <td>-0.020365</td>\n",
              "      <td>0.000458</td>\n",
              "      <td>1.000000</td>\n",
              "      <td>0.016884</td>\n",
              "      <td>0.037634</td>\n",
              "      <td>0.010316</td>\n",
              "      <td>0.013637</td>\n",
              "      <td>-0.036194</td>\n",
              "      <td>0.021205</td>\n",
              "      <td>0.916774</td>\n",
              "    </tr>\n",
              "    <tr>\n",
              "      <th>sc_h</th>\n",
              "      <td>-0.035409</td>\n",
              "      <td>-0.013134</td>\n",
              "      <td>-0.031890</td>\n",
              "      <td>-0.006867</td>\n",
              "      <td>-0.013239</td>\n",
              "      <td>0.024884</td>\n",
              "      <td>0.037101</td>\n",
              "      <td>-0.024086</td>\n",
              "      <td>-0.036871</td>\n",
              "      <td>0.002514</td>\n",
              "      <td>0.006401</td>\n",
              "      <td>0.057811</td>\n",
              "      <td>0.025505</td>\n",
              "      <td>0.016884</td>\n",
              "      <td>1.000000</td>\n",
              "      <td>0.506487</td>\n",
              "      <td>-0.014402</td>\n",
              "      <td>0.010595</td>\n",
              "      <td>-0.019184</td>\n",
              "      <td>0.021600</td>\n",
              "      <td>0.023157</td>\n",
              "    </tr>\n",
              "    <tr>\n",
              "      <th>sc_w</th>\n",
              "      <td>-0.028381</td>\n",
              "      <td>-0.004341</td>\n",
              "      <td>-0.012022</td>\n",
              "      <td>-0.008764</td>\n",
              "      <td>-0.006504</td>\n",
              "      <td>0.039390</td>\n",
              "      <td>0.009463</td>\n",
              "      <td>-0.015972</td>\n",
              "      <td>-0.021975</td>\n",
              "      <td>0.027476</td>\n",
              "      <td>-0.018528</td>\n",
              "      <td>0.040687</td>\n",
              "      <td>0.035268</td>\n",
              "      <td>0.037634</td>\n",
              "      <td>0.506487</td>\n",
              "      <td>1.000000</td>\n",
              "      <td>-0.018734</td>\n",
              "      <td>0.030869</td>\n",
              "      <td>0.010542</td>\n",
              "      <td>0.031210</td>\n",
              "      <td>0.038230</td>\n",
              "    </tr>\n",
              "    <tr>\n",
              "      <th>talk_time</th>\n",
              "      <td>0.050741</td>\n",
              "      <td>0.010652</td>\n",
              "      <td>-0.009372</td>\n",
              "      <td>-0.040049</td>\n",
              "      <td>-0.007929</td>\n",
              "      <td>-0.046365</td>\n",
              "      <td>-0.002437</td>\n",
              "      <td>0.013539</td>\n",
              "      <td>0.000165</td>\n",
              "      <td>0.013418</td>\n",
              "      <td>0.014749</td>\n",
              "      <td>-0.015759</td>\n",
              "      <td>-0.002027</td>\n",
              "      <td>0.010316</td>\n",
              "      <td>-0.014402</td>\n",
              "      <td>-0.018734</td>\n",
              "      <td>1.000000</td>\n",
              "      <td>-0.045824</td>\n",
              "      <td>0.019071</td>\n",
              "      <td>-0.024430</td>\n",
              "      <td>0.018871</td>\n",
              "    </tr>\n",
              "    <tr>\n",
              "      <th>three_g</th>\n",
              "      <td>0.006031</td>\n",
              "      <td>-0.028479</td>\n",
              "      <td>-0.050549</td>\n",
              "      <td>-0.013912</td>\n",
              "      <td>0.005347</td>\n",
              "      <td>0.585242</td>\n",
              "      <td>-0.010675</td>\n",
              "      <td>-0.015008</td>\n",
              "      <td>0.002217</td>\n",
              "      <td>-0.016123</td>\n",
              "      <td>0.005539</td>\n",
              "      <td>-0.032300</td>\n",
              "      <td>-0.001554</td>\n",
              "      <td>0.013637</td>\n",
              "      <td>0.010595</td>\n",
              "      <td>0.030869</td>\n",
              "      <td>-0.045824</td>\n",
              "      <td>1.000000</td>\n",
              "      <td>0.012103</td>\n",
              "      <td>0.005941</td>\n",
              "      <td>0.019862</td>\n",
              "    </tr>\n",
              "    <tr>\n",
              "      <th>touch_screen</th>\n",
              "      <td>-0.011606</td>\n",
              "      <td>0.007782</td>\n",
              "      <td>0.018598</td>\n",
              "      <td>-0.014071</td>\n",
              "      <td>-0.012605</td>\n",
              "      <td>0.015540</td>\n",
              "      <td>-0.022810</td>\n",
              "      <td>0.000130</td>\n",
              "      <td>-0.010444</td>\n",
              "      <td>0.027286</td>\n",
              "      <td>-0.003758</td>\n",
              "      <td>0.017476</td>\n",
              "      <td>-0.002721</td>\n",
              "      <td>-0.036194</td>\n",
              "      <td>-0.019184</td>\n",
              "      <td>0.010542</td>\n",
              "      <td>0.019071</td>\n",
              "      <td>0.012103</td>\n",
              "      <td>1.000000</td>\n",
              "      <td>0.009597</td>\n",
              "      <td>-0.034863</td>\n",
              "    </tr>\n",
              "    <tr>\n",
              "      <th>wifi</th>\n",
              "      <td>-0.008304</td>\n",
              "      <td>-0.023068</td>\n",
              "      <td>-0.027733</td>\n",
              "      <td>0.029073</td>\n",
              "      <td>0.021321</td>\n",
              "      <td>-0.017674</td>\n",
              "      <td>0.008427</td>\n",
              "      <td>-0.028054</td>\n",
              "      <td>0.003771</td>\n",
              "      <td>-0.013261</td>\n",
              "      <td>0.005636</td>\n",
              "      <td>0.046004</td>\n",
              "      <td>0.027494</td>\n",
              "      <td>0.021205</td>\n",
              "      <td>0.021600</td>\n",
              "      <td>0.031210</td>\n",
              "      <td>-0.024430</td>\n",
              "      <td>0.005941</td>\n",
              "      <td>0.009597</td>\n",
              "      <td>1.000000</td>\n",
              "      <td>0.015013</td>\n",
              "    </tr>\n",
              "    <tr>\n",
              "      <th>price_range</th>\n",
              "      <td>0.206171</td>\n",
              "      <td>0.022394</td>\n",
              "      <td>-0.004453</td>\n",
              "      <td>0.018246</td>\n",
              "      <td>0.022549</td>\n",
              "      <td>0.014104</td>\n",
              "      <td>0.046705</td>\n",
              "      <td>0.006316</td>\n",
              "      <td>-0.023750</td>\n",
              "      <td>0.003888</td>\n",
              "      <td>0.038517</td>\n",
              "      <td>0.148554</td>\n",
              "      <td>0.161604</td>\n",
              "      <td>0.916774</td>\n",
              "      <td>0.023157</td>\n",
              "      <td>0.038230</td>\n",
              "      <td>0.018871</td>\n",
              "      <td>0.019862</td>\n",
              "      <td>-0.034863</td>\n",
              "      <td>0.015013</td>\n",
              "      <td>1.000000</td>\n",
              "    </tr>\n",
              "  </tbody>\n",
              "</table>\n",
              "</div>"
            ],
            "text/plain": [
              "               battery_power      blue  ...      wifi  price_range\n",
              "battery_power       1.000000  0.002581  ... -0.008304     0.206171\n",
              "blue                0.002581  1.000000  ... -0.023068     0.022394\n",
              "clock_speed         0.011580  0.030085  ... -0.027733    -0.004453\n",
              "dual_sim           -0.037543  0.031490  ...  0.029073     0.018246\n",
              "fc                  0.036593  0.001582  ...  0.021321     0.022549\n",
              "four_g              0.017101  0.012071  ... -0.017674     0.014104\n",
              "int_memory         -0.001801  0.048544  ...  0.008427     0.046705\n",
              "m_dep               0.036657  0.006618  ... -0.028054     0.006316\n",
              "mobile_wt           0.004701 -0.011584  ...  0.003771    -0.023750\n",
              "n_cores            -0.041971  0.038629  ... -0.013261     0.003888\n",
              "pc                  0.036280 -0.014637  ...  0.005636     0.038517\n",
              "px_height           0.010915 -0.007093  ...  0.046004     0.148554\n",
              "px_width           -0.007400 -0.033772  ...  0.027494     0.161604\n",
              "ram                 0.004242  0.030273  ...  0.021205     0.916774\n",
              "sc_h               -0.035409 -0.013134  ...  0.021600     0.023157\n",
              "sc_w               -0.028381 -0.004341  ...  0.031210     0.038230\n",
              "talk_time           0.050741  0.010652  ... -0.024430     0.018871\n",
              "three_g             0.006031 -0.028479  ...  0.005941     0.019862\n",
              "touch_screen       -0.011606  0.007782  ...  0.009597    -0.034863\n",
              "wifi               -0.008304 -0.023068  ...  1.000000     0.015013\n",
              "price_range         0.206171  0.022394  ...  0.015013     1.000000\n",
              "\n",
              "[21 rows x 21 columns]"
            ]
          },
          "execution_count": 46,
          "metadata": {},
          "output_type": "execute_result"
        }
      ],
      "source": [
        "corr_matrix = data.corr()\n",
        "corr_matrix"
      ]
    },
    {
      "cell_type": "code",
      "execution_count": null,
      "id": "0f104c1f",
      "metadata": {
        "colab": {
          "base_uri": "https://localhost:8080/",
          "height": 349
        },
        "id": "0f104c1f",
        "outputId": "3024d934-d541-47ad-fd28-32e09fc0049c"
      },
      "outputs": [
        {
          "data": {
            "text/plain": [
              "<matplotlib.axes._subplots.AxesSubplot at 0x7f6f520ea690>"
            ]
          },
          "execution_count": 47,
          "metadata": {},
          "output_type": "execute_result"
        },
        {
          "data": {
            "image/png": "[encoded data removed]",
            "text/plain": [
              "<Figure size 432x288 with 2 Axes>"
            ]
          },
          "metadata": {
            "needs_background": "light"
          },
          "output_type": "display_data"
        }
      ],
      "source": [
        "sns.heatmap(corr_matrix, square=True, cmap='coolwarm')"
      ]
    },
    {
      "cell_type": "markdown",
      "id": "cae8a5f7",
      "metadata": {
        "id": "cae8a5f7"
      },
      "source": [
        "### Correlation coefficients exceeding the specified value:"
      ]
    },
    {
      "cell_type": "code",
      "execution_count": null,
      "id": "85e1658f",
      "metadata": {
        "colab": {
          "base_uri": "https://localhost:8080/",
          "height": 728
        },
        "id": "85e1658f",
        "outputId": "6877d154-3f43-408f-e336-de2653a3feb2"
      },
      "outputs": [
        {
          "data": {
            "text/html": [
              "<div>\n",
              "<style scoped>\n",
              "    .dataframe tbody tr th:only-of-type {\n",
              "        vertical-align: middle;\n",
              "    }\n",
              "\n",
              "    .dataframe tbody tr th {\n",
              "        vertical-align: top;\n",
              "    }\n",
              "\n",
              "    .dataframe thead th {\n",
              "        text-align: right;\n",
              "    }\n",
              "</style>\n",
              "<table border=\"1\" class=\"dataframe\">\n",
              "  <thead>\n",
              "    <tr style=\"text-align: right;\">\n",
              "      <th></th>\n",
              "      <th>battery_power</th>\n",
              "      <th>blue</th>\n",
              "      <th>clock_speed</th>\n",
              "      <th>dual_sim</th>\n",
              "      <th>fc</th>\n",
              "      <th>four_g</th>\n",
              "      <th>int_memory</th>\n",
              "      <th>m_dep</th>\n",
              "      <th>mobile_wt</th>\n",
              "      <th>n_cores</th>\n",
              "      <th>pc</th>\n",
              "      <th>px_height</th>\n",
              "      <th>px_width</th>\n",
              "      <th>ram</th>\n",
              "      <th>sc_h</th>\n",
              "      <th>sc_w</th>\n",
              "      <th>talk_time</th>\n",
              "      <th>three_g</th>\n",
              "      <th>touch_screen</th>\n",
              "      <th>wifi</th>\n",
              "      <th>price_range</th>\n",
              "    </tr>\n",
              "  </thead>\n",
              "  <tbody>\n",
              "    <tr>\n",
              "      <th>battery_power</th>\n",
              "      <td>True</td>\n",
              "      <td>False</td>\n",
              "      <td>False</td>\n",
              "      <td>False</td>\n",
              "      <td>False</td>\n",
              "      <td>False</td>\n",
              "      <td>False</td>\n",
              "      <td>False</td>\n",
              "      <td>False</td>\n",
              "      <td>False</td>\n",
              "      <td>False</td>\n",
              "      <td>False</td>\n",
              "      <td>False</td>\n",
              "      <td>False</td>\n",
              "      <td>False</td>\n",
              "      <td>False</td>\n",
              "      <td>False</td>\n",
              "      <td>False</td>\n",
              "      <td>False</td>\n",
              "      <td>False</td>\n",
              "      <td>False</td>\n",
              "    </tr>\n",
              "    <tr>\n",
              "      <th>blue</th>\n",
              "      <td>False</td>\n",
              "      <td>True</td>\n",
              "      <td>False</td>\n",
              "      <td>False</td>\n",
              "      <td>False</td>\n",
              "      <td>False</td>\n",
              "      <td>False</td>\n",
              "      <td>False</td>\n",
              "      <td>False</td>\n",
              "      <td>False</td>\n",
              "      <td>False</td>\n",
              "      <td>False</td>\n",
              "      <td>False</td>\n",
              "      <td>False</td>\n",
              "      <td>False</td>\n",
              "      <td>False</td>\n",
              "      <td>False</td>\n",
              "      <td>False</td>\n",
              "      <td>False</td>\n",
              "      <td>False</td>\n",
              "      <td>False</td>\n",
              "    </tr>\n",
              "    <tr>\n",
              "      <th>clock_speed</th>\n",
              "      <td>False</td>\n",
              "      <td>False</td>\n",
              "      <td>True</td>\n",
              "      <td>False</td>\n",
              "      <td>False</td>\n",
              "      <td>False</td>\n",
              "      <td>False</td>\n",
              "      <td>False</td>\n",
              "      <td>False</td>\n",
              "      <td>False</td>\n",
              "      <td>False</td>\n",
              "      <td>False</td>\n",
              "      <td>False</td>\n",
              "      <td>False</td>\n",
              "      <td>False</td>\n",
              "      <td>False</td>\n",
              "      <td>False</td>\n",
              "      <td>False</td>\n",
              "      <td>False</td>\n",
              "      <td>False</td>\n",
              "      <td>False</td>\n",
              "    </tr>\n",
              "    <tr>\n",
              "      <th>dual_sim</th>\n",
              "      <td>False</td>\n",
              "      <td>False</td>\n",
              "      <td>False</td>\n",
              "      <td>True</td>\n",
              "      <td>False</td>\n",
              "      <td>False</td>\n",
              "      <td>False</td>\n",
              "      <td>False</td>\n",
              "      <td>False</td>\n",
              "      <td>False</td>\n",
              "      <td>False</td>\n",
              "      <td>False</td>\n",
              "      <td>False</td>\n",
              "      <td>False</td>\n",
              "      <td>False</td>\n",
              "      <td>False</td>\n",
              "      <td>False</td>\n",
              "      <td>False</td>\n",
              "      <td>False</td>\n",
              "      <td>False</td>\n",
              "      <td>False</td>\n",
              "    </tr>\n",
              "    <tr>\n",
              "      <th>fc</th>\n",
              "      <td>False</td>\n",
              "      <td>False</td>\n",
              "      <td>False</td>\n",
              "      <td>False</td>\n",
              "      <td>True</td>\n",
              "      <td>False</td>\n",
              "      <td>False</td>\n",
              "      <td>False</td>\n",
              "      <td>False</td>\n",
              "      <td>False</td>\n",
              "      <td>True</td>\n",
              "      <td>False</td>\n",
              "      <td>False</td>\n",
              "      <td>False</td>\n",
              "      <td>False</td>\n",
              "      <td>False</td>\n",
              "      <td>False</td>\n",
              "      <td>False</td>\n",
              "      <td>False</td>\n",
              "      <td>False</td>\n",
              "      <td>False</td>\n",
              "    </tr>\n",
              "    <tr>\n",
              "      <th>four_g</th>\n",
              "      <td>False</td>\n",
              "      <td>False</td>\n",
              "      <td>False</td>\n",
              "      <td>False</td>\n",
              "      <td>False</td>\n",
              "      <td>True</td>\n",
              "      <td>False</td>\n",
              "      <td>False</td>\n",
              "      <td>False</td>\n",
              "      <td>False</td>\n",
              "      <td>False</td>\n",
              "      <td>False</td>\n",
              "      <td>False</td>\n",
              "      <td>False</td>\n",
              "      <td>False</td>\n",
              "      <td>False</td>\n",
              "      <td>False</td>\n",
              "      <td>True</td>\n",
              "      <td>False</td>\n",
              "      <td>False</td>\n",
              "      <td>False</td>\n",
              "    </tr>\n",
              "    <tr>\n",
              "      <th>int_memory</th>\n",
              "      <td>False</td>\n",
              "      <td>False</td>\n",
              "      <td>False</td>\n",
              "      <td>False</td>\n",
              "      <td>False</td>\n",
              "      <td>False</td>\n",
              "      <td>True</td>\n",
              "      <td>False</td>\n",
              "      <td>False</td>\n",
              "      <td>False</td>\n",
              "      <td>False</td>\n",
              "      <td>False</td>\n",
              "      <td>False</td>\n",
              "      <td>False</td>\n",
              "      <td>False</td>\n",
              "      <td>False</td>\n",
              "      <td>False</td>\n",
              "      <td>False</td>\n",
              "      <td>False</td>\n",
              "      <td>False</td>\n",
              "      <td>False</td>\n",
              "    </tr>\n",
              "    <tr>\n",
              "      <th>m_dep</th>\n",
              "      <td>False</td>\n",
              "      <td>False</td>\n",
              "      <td>False</td>\n",
              "      <td>False</td>\n",
              "      <td>False</td>\n",
              "      <td>False</td>\n",
              "      <td>False</td>\n",
              "      <td>True</td>\n",
              "      <td>False</td>\n",
              "      <td>False</td>\n",
              "      <td>False</td>\n",
              "      <td>False</td>\n",
              "      <td>False</td>\n",
              "      <td>False</td>\n",
              "      <td>False</td>\n",
              "      <td>False</td>\n",
              "      <td>False</td>\n",
              "      <td>False</td>\n",
              "      <td>False</td>\n",
              "      <td>False</td>\n",
              "      <td>False</td>\n",
              "    </tr>\n",
              "    <tr>\n",
              "      <th>mobile_wt</th>\n",
              "      <td>False</td>\n",
              "      <td>False</td>\n",
              "      <td>False</td>\n",
              "      <td>False</td>\n",
              "      <td>False</td>\n",
              "      <td>False</td>\n",
              "      <td>False</td>\n",
              "      <td>False</td>\n",
              "      <td>True</td>\n",
              "      <td>False</td>\n",
              "      <td>False</td>\n",
              "      <td>False</td>\n",
              "      <td>False</td>\n",
              "      <td>False</td>\n",
              "      <td>False</td>\n",
              "      <td>False</td>\n",
              "      <td>False</td>\n",
              "      <td>False</td>\n",
              "      <td>False</td>\n",
              "      <td>False</td>\n",
              "      <td>False</td>\n",
              "    </tr>\n",
              "    <tr>\n",
              "      <th>n_cores</th>\n",
              "      <td>False</td>\n",
              "      <td>False</td>\n",
              "      <td>False</td>\n",
              "      <td>False</td>\n",
              "      <td>False</td>\n",
              "      <td>False</td>\n",
              "      <td>False</td>\n",
              "      <td>False</td>\n",
              "      <td>False</td>\n",
              "      <td>True</td>\n",
              "      <td>False</td>\n",
              "      <td>False</td>\n",
              "      <td>False</td>\n",
              "      <td>False</td>\n",
              "      <td>False</td>\n",
              "      <td>False</td>\n",
              "      <td>False</td>\n",
              "      <td>False</td>\n",
              "      <td>False</td>\n",
              "      <td>False</td>\n",
              "      <td>False</td>\n",
              "    </tr>\n",
              "    <tr>\n",
              "      <th>pc</th>\n",
              "      <td>False</td>\n",
              "      <td>False</td>\n",
              "      <td>False</td>\n",
              "      <td>False</td>\n",
              "      <td>True</td>\n",
              "      <td>False</td>\n",
              "      <td>False</td>\n",
              "      <td>False</td>\n",
              "      <td>False</td>\n",
              "      <td>False</td>\n",
              "      <td>True</td>\n",
              "      <td>False</td>\n",
              "      <td>False</td>\n",
              "      <td>False</td>\n",
              "      <td>False</td>\n",
              "      <td>False</td>\n",
              "      <td>False</td>\n",
              "      <td>False</td>\n",
              "      <td>False</td>\n",
              "      <td>False</td>\n",
              "      <td>False</td>\n",
              "    </tr>\n",
              "    <tr>\n",
              "      <th>px_height</th>\n",
              "      <td>False</td>\n",
              "      <td>False</td>\n",
              "      <td>False</td>\n",
              "      <td>False</td>\n",
              "      <td>False</td>\n",
              "      <td>False</td>\n",
              "      <td>False</td>\n",
              "      <td>False</td>\n",
              "      <td>False</td>\n",
              "      <td>False</td>\n",
              "      <td>False</td>\n",
              "      <td>True</td>\n",
              "      <td>True</td>\n",
              "      <td>False</td>\n",
              "      <td>False</td>\n",
              "      <td>False</td>\n",
              "      <td>False</td>\n",
              "      <td>False</td>\n",
              "      <td>False</td>\n",
              "      <td>False</td>\n",
              "      <td>False</td>\n",
              "    </tr>\n",
              "    <tr>\n",
              "      <th>px_width</th>\n",
              "      <td>False</td>\n",
              "      <td>False</td>\n",
              "      <td>False</td>\n",
              "      <td>False</td>\n",
              "      <td>False</td>\n",
              "      <td>False</td>\n",
              "      <td>False</td>\n",
              "      <td>False</td>\n",
              "      <td>False</td>\n",
              "      <td>False</td>\n",
              "      <td>False</td>\n",
              "      <td>True</td>\n",
              "      <td>True</td>\n",
              "      <td>False</td>\n",
              "      <td>False</td>\n",
              "      <td>False</td>\n",
              "      <td>False</td>\n",
              "      <td>False</td>\n",
              "      <td>False</td>\n",
              "      <td>False</td>\n",
              "      <td>False</td>\n",
              "    </tr>\n",
              "    <tr>\n",
              "      <th>ram</th>\n",
              "      <td>False</td>\n",
              "      <td>False</td>\n",
              "      <td>False</td>\n",
              "      <td>False</td>\n",
              "      <td>False</td>\n",
              "      <td>False</td>\n",
              "      <td>False</td>\n",
              "      <td>False</td>\n",
              "      <td>False</td>\n",
              "      <td>False</td>\n",
              "      <td>False</td>\n",
              "      <td>False</td>\n",
              "      <td>False</td>\n",
              "      <td>True</td>\n",
              "      <td>False</td>\n",
              "      <td>False</td>\n",
              "      <td>False</td>\n",
              "      <td>False</td>\n",
              "      <td>False</td>\n",
              "      <td>False</td>\n",
              "      <td>True</td>\n",
              "    </tr>\n",
              "    <tr>\n",
              "      <th>sc_h</th>\n",
              "      <td>False</td>\n",
              "      <td>False</td>\n",
              "      <td>False</td>\n",
              "      <td>False</td>\n",
              "      <td>False</td>\n",
              "      <td>False</td>\n",
              "      <td>False</td>\n",
              "      <td>False</td>\n",
              "      <td>False</td>\n",
              "      <td>False</td>\n",
              "      <td>False</td>\n",
              "      <td>False</td>\n",
              "      <td>False</td>\n",
              "      <td>False</td>\n",
              "      <td>True</td>\n",
              "      <td>True</td>\n",
              "      <td>False</td>\n",
              "      <td>False</td>\n",
              "      <td>False</td>\n",
              "      <td>False</td>\n",
              "      <td>False</td>\n",
              "    </tr>\n",
              "    <tr>\n",
              "      <th>sc_w</th>\n",
              "      <td>False</td>\n",
              "      <td>False</td>\n",
              "      <td>False</td>\n",
              "      <td>False</td>\n",
              "      <td>False</td>\n",
              "      <td>False</td>\n",
              "      <td>False</td>\n",
              "      <td>False</td>\n",
              "      <td>False</td>\n",
              "      <td>False</td>\n",
              "      <td>False</td>\n",
              "      <td>False</td>\n",
              "      <td>False</td>\n",
              "      <td>False</td>\n",
              "      <td>True</td>\n",
              "      <td>True</td>\n",
              "      <td>False</td>\n",
              "      <td>False</td>\n",
              "      <td>False</td>\n",
              "      <td>False</td>\n",
              "      <td>False</td>\n",
              "    </tr>\n",
              "    <tr>\n",
              "      <th>talk_time</th>\n",
              "      <td>False</td>\n",
              "      <td>False</td>\n",
              "      <td>False</td>\n",
              "      <td>False</td>\n",
              "      <td>False</td>\n",
              "      <td>False</td>\n",
              "      <td>False</td>\n",
              "      <td>False</td>\n",
              "      <td>False</td>\n",
              "      <td>False</td>\n",
              "      <td>False</td>\n",
              "      <td>False</td>\n",
              "      <td>False</td>\n",
              "      <td>False</td>\n",
              "      <td>False</td>\n",
              "      <td>False</td>\n",
              "      <td>True</td>\n",
              "      <td>False</td>\n",
              "      <td>False</td>\n",
              "      <td>False</td>\n",
              "      <td>False</td>\n",
              "    </tr>\n",
              "    <tr>\n",
              "      <th>three_g</th>\n",
              "      <td>False</td>\n",
              "      <td>False</td>\n",
              "      <td>False</td>\n",
              "      <td>False</td>\n",
              "      <td>False</td>\n",
              "      <td>True</td>\n",
              "      <td>False</td>\n",
              "      <td>False</td>\n",
              "      <td>False</td>\n",
              "      <td>False</td>\n",
              "      <td>False</td>\n",
              "      <td>False</td>\n",
              "      <td>False</td>\n",
              "      <td>False</td>\n",
              "      <td>False</td>\n",
              "      <td>False</td>\n",
              "      <td>False</td>\n",
              "      <td>True</td>\n",
              "      <td>False</td>\n",
              "      <td>False</td>\n",
              "      <td>False</td>\n",
              "    </tr>\n",
              "    <tr>\n",
              "      <th>touch_screen</th>\n",
              "      <td>False</td>\n",
              "      <td>False</td>\n",
              "      <td>False</td>\n",
              "      <td>False</td>\n",
              "      <td>False</td>\n",
              "      <td>False</td>\n",
              "      <td>False</td>\n",
              "      <td>False</td>\n",
              "      <td>False</td>\n",
              "      <td>False</td>\n",
              "      <td>False</td>\n",
              "      <td>False</td>\n",
              "      <td>False</td>\n",
              "      <td>False</td>\n",
              "      <td>False</td>\n",
              "      <td>False</td>\n",
              "      <td>False</td>\n",
              "      <td>False</td>\n",
              "      <td>True</td>\n",
              "      <td>False</td>\n",
              "      <td>False</td>\n",
              "    </tr>\n",
              "    <tr>\n",
              "      <th>wifi</th>\n",
              "      <td>False</td>\n",
              "      <td>False</td>\n",
              "      <td>False</td>\n",
              "      <td>False</td>\n",
              "      <td>False</td>\n",
              "      <td>False</td>\n",
              "      <td>False</td>\n",
              "      <td>False</td>\n",
              "      <td>False</td>\n",
              "      <td>False</td>\n",
              "      <td>False</td>\n",
              "      <td>False</td>\n",
              "      <td>False</td>\n",
              "      <td>False</td>\n",
              "      <td>False</td>\n",
              "      <td>False</td>\n",
              "      <td>False</td>\n",
              "      <td>False</td>\n",
              "      <td>False</td>\n",
              "      <td>True</td>\n",
              "      <td>False</td>\n",
              "    </tr>\n",
              "    <tr>\n",
              "      <th>price_range</th>\n",
              "      <td>False</td>\n",
              "      <td>False</td>\n",
              "      <td>False</td>\n",
              "      <td>False</td>\n",
              "      <td>False</td>\n",
              "      <td>False</td>\n",
              "      <td>False</td>\n",
              "      <td>False</td>\n",
              "      <td>False</td>\n",
              "      <td>False</td>\n",
              "      <td>False</td>\n",
              "      <td>False</td>\n",
              "      <td>False</td>\n",
              "      <td>True</td>\n",
              "      <td>False</td>\n",
              "      <td>False</td>\n",
              "      <td>False</td>\n",
              "      <td>False</td>\n",
              "      <td>False</td>\n",
              "      <td>False</td>\n",
              "      <td>True</td>\n",
              "    </tr>\n",
              "  </tbody>\n",
              "</table>\n",
              "</div>"
            ],
            "text/plain": [
              "               battery_power   blue  ...   wifi  price_range\n",
              "battery_power           True  False  ...  False        False\n",
              "blue                   False   True  ...  False        False\n",
              "clock_speed            False  False  ...  False        False\n",
              "dual_sim               False  False  ...  False        False\n",
              "fc                     False  False  ...  False        False\n",
              "four_g                 False  False  ...  False        False\n",
              "int_memory             False  False  ...  False        False\n",
              "m_dep                  False  False  ...  False        False\n",
              "mobile_wt              False  False  ...  False        False\n",
              "n_cores                False  False  ...  False        False\n",
              "pc                     False  False  ...  False        False\n",
              "px_height              False  False  ...  False        False\n",
              "px_width               False  False  ...  False        False\n",
              "ram                    False  False  ...  False         True\n",
              "sc_h                   False  False  ...  False        False\n",
              "sc_w                   False  False  ...  False        False\n",
              "talk_time              False  False  ...  False        False\n",
              "three_g                False  False  ...  False        False\n",
              "touch_screen           False  False  ...  False        False\n",
              "wifi                   False  False  ...   True        False\n",
              "price_range            False  False  ...  False         True\n",
              "\n",
              "[21 rows x 21 columns]"
            ]
          },
          "execution_count": 48,
          "metadata": {},
          "output_type": "execute_result"
        }
      ],
      "source": [
        "corr_matrix >= 0.5"
      ]
    },
    {
      "cell_type": "markdown",
      "id": "32cee35e",
      "metadata": {
        "id": "32cee35e"
      },
      "source": [
        "Correlation coefficients> 0.5 have: px_width and px_height, sc_h and sc_w, four_g and three_g, price_range and ram, which indicates the presence of a relationship between the features.\n",
        "For features with a correlation coefficient <0.5, we can say that the relationship between them is weak.\n",
        "\n"
      ]
    },
    {
      "cell_type": "markdown",
      "id": "T-f5F_qKy6Nh",
      "metadata": {
        "id": "T-f5F_qKy6Nh"
      },
      "source": [
        "### Consider categorical features "
      ]
    },
    {
      "cell_type": "code",
      "execution_count": null,
      "id": "d5214312",
      "metadata": {
        "colab": {
          "base_uri": "https://localhost:8080/"
        },
        "id": "d5214312",
        "outputId": "2cf9dc81-e75c-46ba-9f9a-de3159d0abf9"
      },
      "outputs": [
        {
          "data": {
            "text/plain": [
              "0    977\n",
              "1    966\n",
              "Name: blue, dtype: int64"
            ]
          },
          "execution_count": 49,
          "metadata": {},
          "output_type": "execute_result"
        }
      ],
      "source": [
        "data['blue'].value_counts()"
      ]
    },
    {
      "cell_type": "code",
      "execution_count": null,
      "id": "bea902d2",
      "metadata": {
        "colab": {
          "base_uri": "https://localhost:8080/",
          "height": 297
        },
        "id": "bea902d2",
        "outputId": "cf1ca910-9ddf-4b38-e023-d2b30d79ce1e"
      },
      "outputs": [
        {
          "data": {
            "text/plain": [
              "<matplotlib.axes._subplots.AxesSubplot at 0x7f6f51fefed0>"
            ]
          },
          "execution_count": 50,
          "metadata": {},
          "output_type": "execute_result"
        },
        {
          "data": {
            "image/png": "[encoded data removed]",
            "text/plain": [
              "<Figure size 432x288 with 1 Axes>"
            ]
          },
          "metadata": {
            "needs_background": "light"
          },
          "output_type": "display_data"
        }
      ],
      "source": [
        "sns.countplot(x='blue', data=data)"
      ]
    },
    {
      "cell_type": "markdown",
      "id": "195016b2",
      "metadata": {
        "id": "195016b2"
      },
      "source": [
        "The number of models with bluetooth is approximately equal to the number of models without it."
      ]
    },
    {
      "cell_type": "code",
      "execution_count": null,
      "id": "88e76433",
      "metadata": {
        "colab": {
          "base_uri": "https://localhost:8080/"
        },
        "id": "88e76433",
        "outputId": "e80eefb5-b13f-483a-b06e-461cd0545d6c"
      },
      "outputs": [
        {
          "data": {
            "text/plain": [
              "1    987\n",
              "0    956\n",
              "Name: dual_sim, dtype: int64"
            ]
          },
          "execution_count": 51,
          "metadata": {},
          "output_type": "execute_result"
        }
      ],
      "source": [
        "data['dual_sim'].value_counts()"
      ]
    },
    {
      "cell_type": "code",
      "execution_count": null,
      "id": "00b2de76",
      "metadata": {
        "colab": {
          "base_uri": "https://localhost:8080/",
          "height": 298
        },
        "id": "00b2de76",
        "outputId": "1e61462f-67e9-433f-d77d-51e591c93735"
      },
      "outputs": [
        {
          "data": {
            "text/plain": [
              "<matplotlib.axes._subplots.AxesSubplot at 0x7f6f51fbe650>"
            ]
          },
          "execution_count": 52,
          "metadata": {},
          "output_type": "execute_result"
        },
        {
          "data": {
            "image/png": "[encoded data removed]",
            "text/plain": [
              "<Figure size 432x288 with 1 Axes>"
            ]
          },
          "metadata": {
            "needs_background": "light"
          },
          "output_type": "display_data"
        }
      ],
      "source": [
        "sns.countplot(x='dual_sim', data=data)"
      ]
    },
    {
      "cell_type": "markdown",
      "id": "cae337d1",
      "metadata": {
        "id": "cae337d1"
      },
      "source": [
        "The number of models with support for 2 SIM cards is slightly larger"
      ]
    },
    {
      "cell_type": "code",
      "execution_count": null,
      "id": "0009160a",
      "metadata": {
        "colab": {
          "base_uri": "https://localhost:8080/"
        },
        "id": "0009160a",
        "outputId": "20bde494-a61d-4214-dc4b-02a29d3020f0"
      },
      "outputs": [
        {
          "data": {
            "text/plain": [
              "1    1010\n",
              "0     933\n",
              "Name: four_g, dtype: int64"
            ]
          },
          "execution_count": 53,
          "metadata": {},
          "output_type": "execute_result"
        }
      ],
      "source": [
        "data['four_g'].value_counts()"
      ]
    },
    {
      "cell_type": "code",
      "execution_count": null,
      "id": "e7e5e0f6",
      "metadata": {
        "colab": {
          "base_uri": "https://localhost:8080/",
          "height": 298
        },
        "id": "e7e5e0f6",
        "outputId": "0f1a8190-18da-4af4-8aba-984f0af6d5a4"
      },
      "outputs": [
        {
          "data": {
            "text/plain": [
              "<matplotlib.axes._subplots.AxesSubplot at 0x7f6f51f192d0>"
            ]
          },
          "execution_count": 54,
          "metadata": {},
          "output_type": "execute_result"
        },
        {
          "data": {
            "image/png": "[encoded data removed]",
            "text/plain": [
              "<Figure size 432x288 with 1 Axes>"
            ]
          },
          "metadata": {
            "needs_background": "light"
          },
          "output_type": "display_data"
        }
      ],
      "source": [
        "sns.countplot(x='four_g', data=data)"
      ]
    },
    {
      "cell_type": "markdown",
      "id": "146e840f",
      "metadata": {
        "id": "146e840f"
      },
      "source": [
        "The number of 4G models is slightly higher."
      ]
    },
    {
      "cell_type": "code",
      "execution_count": null,
      "id": "d56c5e38",
      "metadata": {
        "colab": {
          "base_uri": "https://localhost:8080/"
        },
        "id": "d56c5e38",
        "outputId": "675f912e-295e-41fd-a275-19cb3d2441cf"
      },
      "outputs": [
        {
          "data": {
            "text/plain": [
              "1    1476\n",
              "0     467\n",
              "Name: three_g, dtype: int64"
            ]
          },
          "execution_count": 55,
          "metadata": {},
          "output_type": "execute_result"
        }
      ],
      "source": [
        "data['three_g'].value_counts()"
      ]
    },
    {
      "cell_type": "code",
      "execution_count": null,
      "id": "3e00cbf0",
      "metadata": {
        "colab": {
          "base_uri": "https://localhost:8080/",
          "height": 298
        },
        "id": "3e00cbf0",
        "outputId": "a16a9ea7-95b7-422f-ab0b-dedd29e73802"
      },
      "outputs": [
        {
          "data": {
            "text/plain": [
              "<matplotlib.axes._subplots.AxesSubplot at 0x7f6f51eda3d0>"
            ]
          },
          "execution_count": 56,
          "metadata": {},
          "output_type": "execute_result"
        },
        {
          "data": {
            "image/png": "[encoded data removed]",
            "text/plain": [
              "<Figure size 432x288 with 1 Axes>"
            ]
          },
          "metadata": {
            "needs_background": "light"
          },
          "output_type": "display_data"
        }
      ],
      "source": [
        "sns.countplot(x='three_g', data=data)"
      ]
    },
    {
      "cell_type": "markdown",
      "id": "71e68841",
      "metadata": {
        "id": "71e68841"
      },
      "source": [
        "The number of models with 3G support is about 3 times more"
      ]
    },
    {
      "cell_type": "code",
      "execution_count": null,
      "id": "b655a4e1",
      "metadata": {
        "colab": {
          "base_uri": "https://localhost:8080/"
        },
        "id": "b655a4e1",
        "outputId": "f93c9644-323e-4f65-990c-d4d1bcb065db"
      },
      "outputs": [
        {
          "data": {
            "text/plain": [
              "1    982\n",
              "0    961\n",
              "Name: touch_screen, dtype: int64"
            ]
          },
          "execution_count": 57,
          "metadata": {},
          "output_type": "execute_result"
        }
      ],
      "source": [
        "data['touch_screen'].value_counts()"
      ]
    },
    {
      "cell_type": "code",
      "execution_count": null,
      "id": "53810a9a",
      "metadata": {
        "colab": {
          "base_uri": "https://localhost:8080/",
          "height": 298
        },
        "id": "53810a9a",
        "outputId": "7c0d422d-29a2-4aee-8580-512f6bec84f0"
      },
      "outputs": [
        {
          "data": {
            "text/plain": [
              "<matplotlib.axes._subplots.AxesSubplot at 0x7f6f51e42d90>"
            ]
          },
          "execution_count": 58,
          "metadata": {},
          "output_type": "execute_result"
        },
        {
          "data": {
            "image/png": "[encoded data removed]",
            "text/plain": [
              "<Figure size 432x288 with 1 Axes>"
            ]
          },
          "metadata": {
            "needs_background": "light"
          },
          "output_type": "display_data"
        }
      ],
      "source": [
        "sns.countplot(x='touch_screen', data=data)"
      ]
    },
    {
      "cell_type": "markdown",
      "id": "ba677e92",
      "metadata": {
        "id": "ba677e92"
      },
      "source": [
        "The number of models with a touchscreen is approximately equal to the number of models without it"
      ]
    },
    {
      "cell_type": "code",
      "execution_count": null,
      "id": "b45e72df",
      "metadata": {
        "colab": {
          "base_uri": "https://localhost:8080/"
        },
        "id": "b45e72df",
        "outputId": "08d60c3c-9088-49ee-9b6f-def3226b5862"
      },
      "outputs": [
        {
          "data": {
            "text/plain": [
              "1    988\n",
              "0    955\n",
              "Name: wifi, dtype: int64"
            ]
          },
          "execution_count": 59,
          "metadata": {},
          "output_type": "execute_result"
        }
      ],
      "source": [
        "data['wifi'].value_counts()"
      ]
    },
    {
      "cell_type": "code",
      "execution_count": null,
      "id": "ebc6d39d",
      "metadata": {
        "colab": {
          "base_uri": "https://localhost:8080/",
          "height": 297
        },
        "id": "ebc6d39d",
        "outputId": "20a55ddd-602c-41f0-ee25-5597e4bed5e3"
      },
      "outputs": [
        {
          "data": {
            "text/plain": [
              "<matplotlib.axes._subplots.AxesSubplot at 0x7f6f51e27d90>"
            ]
          },
          "execution_count": 60,
          "metadata": {},
          "output_type": "execute_result"
        },
        {
          "data": {
            "image/png": "[encoded data removed]",
            "text/plain": [
              "<Figure size 432x288 with 1 Axes>"
            ]
          },
          "metadata": {
            "needs_background": "light"
          },
          "output_type": "display_data"
        }
      ],
      "source": [
        "sns.countplot(x='wifi', data=data)"
      ]
    },
    {
      "cell_type": "markdown",
      "id": "2cd0072f",
      "metadata": {
        "id": "2cd0072f"
      },
      "source": [
        "The number of models with WiFi support is slightly higher"
      ]
    },
    {
      "cell_type": "code",
      "execution_count": null,
      "id": "290b5632",
      "metadata": {
        "colab": {
          "base_uri": "https://localhost:8080/"
        },
        "id": "290b5632",
        "outputId": "d54cd057-a0fa-4433-e863-c6b9770eefac"
      },
      "outputs": [
        {
          "data": {
            "text/plain": [
              "1    490\n",
              "2    489\n",
              "3    482\n",
              "0    482\n",
              "Name: price_range, dtype: int64"
            ]
          },
          "execution_count": 61,
          "metadata": {},
          "output_type": "execute_result"
        }
      ],
      "source": [
        "data['price_range'].value_counts()"
      ]
    },
    {
      "cell_type": "code",
      "execution_count": null,
      "id": "96b68524",
      "metadata": {
        "colab": {
          "base_uri": "https://localhost:8080/",
          "height": 298
        },
        "id": "96b68524",
        "outputId": "12e89b0a-6668-4e0c-cf88-0f1acaa94665"
      },
      "outputs": [
        {
          "data": {
            "text/plain": [
              "<matplotlib.axes._subplots.AxesSubplot at 0x7f6f51d81350>"
            ]
          },
          "execution_count": 62,
          "metadata": {},
          "output_type": "execute_result"
        },
        {
          "data": {
            "image/png": "[encoded data removed]",
            "text/plain": [
              "<Figure size 432x288 with 1 Axes>"
            ]
          },
          "metadata": {
            "needs_background": "light"
          },
          "output_type": "display_data"
        }
      ],
      "source": [
        "sns.countplot(x='price_range', data=data)"
      ]
    },
    {
      "cell_type": "markdown",
      "id": "3a58d38b",
      "metadata": {
        "id": "3a58d38b"
      },
      "source": [
        "The price range is set approximately the same"
      ]
    },
    {
      "cell_type": "markdown",
      "id": "f51d4205",
      "metadata": {
        "id": "f51d4205"
      },
      "source": [
        "## 3. Handling Missing Values\n"
      ]
    },
    {
      "cell_type": "markdown",
      "id": "6HZuxO8v0nb3",
      "metadata": {
        "id": "6HZuxO8v0nb3"
      },
      "source": [
        "The number of missing values is small"
      ]
    },
    {
      "cell_type": "code",
      "execution_count": null,
      "id": "6526084c",
      "metadata": {
        "colab": {
          "base_uri": "https://localhost:8080/"
        },
        "id": "6526084c",
        "outputId": "05d3cf8a-fd93-41ca-96e2-0a7ba6a5e98c"
      },
      "outputs": [
        {
          "name": "stdout",
          "output_type": "stream",
          "text": [
            "(1943, 21)\n"
          ]
        },
        {
          "data": {
            "text/plain": [
              "battery_power    0\n",
              "blue             0\n",
              "clock_speed      0\n",
              "dual_sim         0\n",
              "fc               0\n",
              "four_g           0\n",
              "int_memory       0\n",
              "m_dep            0\n",
              "mobile_wt        0\n",
              "n_cores          0\n",
              "pc               0\n",
              "px_height        0\n",
              "px_width         0\n",
              "ram              0\n",
              "sc_h             0\n",
              "sc_w             0\n",
              "talk_time        0\n",
              "three_g          0\n",
              "touch_screen     0\n",
              "wifi             0\n",
              "price_range      0\n",
              "dtype: int64"
            ]
          },
          "execution_count": 63,
          "metadata": {},
          "output_type": "execute_result"
        }
      ],
      "source": [
        "data.dropna(axis=0, how='all', subset=['battery_power'], inplace=True)\n",
        "data.dropna(axis=0, how='all', subset=['blue'], inplace=True)\n",
        "data.dropna(axis=0, how='all', subset=['clock_speed'], inplace=True)\n",
        "data.dropna(axis=0, how='all', subset=['dual_sim'], inplace=True)\n",
        "data.dropna(axis=0, how='all', subset=['fc'], inplace=True)\n",
        "data.dropna(axis=0, how='all', subset=['four_g'], inplace=True)\n",
        "data.dropna(axis=0, how='all', subset=['int_memory'], inplace=True)\n",
        "data.dropna(axis=0, how='all', subset=['m_dep'], inplace=True)\n",
        "data.dropna(axis=0, how='all', subset=['mobile_wt'], inplace=True)\n",
        "data.dropna(axis=0, how='all', subset=['n_cores'], inplace=True)\n",
        "data.dropna(axis=0, how='all', subset=['pc'], inplace=True)\n",
        "data.dropna(axis=0, how='all', subset=['px_height'], inplace=True)\n",
        "data.dropna(axis=0, how='all', subset=['px_width'], inplace=True)\n",
        "data.dropna(axis=0, how='all', subset=['ram'], inplace=True)\n",
        "data.dropna(axis=0, how='all', subset=['sc_h'], inplace=True)\n",
        "data.dropna(axis=0, how='all', subset=['sc_w'], inplace=True)\n",
        "data.dropna(axis=0, how='all', subset=['talk_time'], inplace=True)\n",
        "data.dropna(axis=0, how='all', subset=['three_g'], inplace=True)\n",
        "data.dropna(axis=0, how='all', subset=['touch_screen'], inplace=True)\n",
        "data.dropna(axis=0, how='all', subset=['wifi'], inplace=True)\n",
        "print(data.shape)\n",
        "data.isna().sum()"
      ]
    },
    {
      "cell_type": "markdown",
      "id": "42522220",
      "metadata": {
        "id": "42522220"
      },
      "source": [
        "## 4. Processing categorical features"
      ]
    },
    {
      "cell_type": "markdown",
      "id": "i4pZM8Uo0zHI",
      "metadata": {
        "id": "i4pZM8Uo0zHI"
      },
      "source": [
        "All categorical features are already specified by numerical values"
      ]
    },
    {
      "cell_type": "markdown",
      "id": "1VX-lqGi045w",
      "metadata": {
        "id": "1VX-lqGi045w"
      },
      "source": [
        "## 5. Normalization"
      ]
    },
    {
      "cell_type": "markdown",
      "id": "VwHK5fjO051b",
      "metadata": {
        "id": "VwHK5fjO051b"
      },
      "source": [
        "Let us carry out normalization using a linear transformation to the segment [0, 1] "
      ]
    },
    {
      "cell_type": "code",
      "execution_count": null,
      "id": "7331ba7a",
      "metadata": {
        "colab": {
          "base_uri": "https://localhost:8080/",
          "height": 320
        },
        "id": "7331ba7a",
        "outputId": "3ba21c76-063b-419a-efbc-05d4314248a5"
      },
      "outputs": [
        {
          "data": {
            "text/html": [
              "<div>\n",
              "<style scoped>\n",
              "    .dataframe tbody tr th:only-of-type {\n",
              "        vertical-align: middle;\n",
              "    }\n",
              "\n",
              "    .dataframe tbody tr th {\n",
              "        vertical-align: top;\n",
              "    }\n",
              "\n",
              "    .dataframe thead th {\n",
              "        text-align: right;\n",
              "    }\n",
              "</style>\n",
              "<table border=\"1\" class=\"dataframe\">\n",
              "  <thead>\n",
              "    <tr style=\"text-align: right;\">\n",
              "      <th></th>\n",
              "      <th>battery_power</th>\n",
              "      <th>blue</th>\n",
              "      <th>clock_speed</th>\n",
              "      <th>dual_sim</th>\n",
              "      <th>fc</th>\n",
              "      <th>four_g</th>\n",
              "      <th>int_memory</th>\n",
              "      <th>m_dep</th>\n",
              "      <th>mobile_wt</th>\n",
              "      <th>n_cores</th>\n",
              "      <th>pc</th>\n",
              "      <th>px_height</th>\n",
              "      <th>px_width</th>\n",
              "      <th>ram</th>\n",
              "      <th>sc_h</th>\n",
              "      <th>sc_w</th>\n",
              "      <th>talk_time</th>\n",
              "      <th>three_g</th>\n",
              "      <th>touch_screen</th>\n",
              "      <th>wifi</th>\n",
              "      <th>price_range</th>\n",
              "    </tr>\n",
              "  </thead>\n",
              "  <tbody>\n",
              "    <tr>\n",
              "      <th>count</th>\n",
              "      <td>1943.000000</td>\n",
              "      <td>1943.000000</td>\n",
              "      <td>1943.000000</td>\n",
              "      <td>1943.000000</td>\n",
              "      <td>1943.000000</td>\n",
              "      <td>1943.000000</td>\n",
              "      <td>1943.000000</td>\n",
              "      <td>1943.000000</td>\n",
              "      <td>1943.000000</td>\n",
              "      <td>1943.000000</td>\n",
              "      <td>1943.000000</td>\n",
              "      <td>1943.000000</td>\n",
              "      <td>1943.000000</td>\n",
              "      <td>1943.000000</td>\n",
              "      <td>1943.000000</td>\n",
              "      <td>1943.000000</td>\n",
              "      <td>1943.000000</td>\n",
              "      <td>1943.000000</td>\n",
              "      <td>1943.000000</td>\n",
              "      <td>1943.000000</td>\n",
              "      <td>1943.000000</td>\n",
              "    </tr>\n",
              "    <tr>\n",
              "      <th>mean</th>\n",
              "      <td>0.492609</td>\n",
              "      <td>0.497169</td>\n",
              "      <td>0.408276</td>\n",
              "      <td>0.507977</td>\n",
              "      <td>0.239149</td>\n",
              "      <td>0.519815</td>\n",
              "      <td>0.484809</td>\n",
              "      <td>0.445874</td>\n",
              "      <td>0.502518</td>\n",
              "      <td>0.501801</td>\n",
              "      <td>0.496140</td>\n",
              "      <td>0.329535</td>\n",
              "      <td>0.501301</td>\n",
              "      <td>0.500539</td>\n",
              "      <td>0.521432</td>\n",
              "      <td>0.319380</td>\n",
              "      <td>0.500944</td>\n",
              "      <td>0.759650</td>\n",
              "      <td>0.505404</td>\n",
              "      <td>0.508492</td>\n",
              "      <td>0.499914</td>\n",
              "    </tr>\n",
              "    <tr>\n",
              "      <th>std</th>\n",
              "      <td>0.293718</td>\n",
              "      <td>0.500121</td>\n",
              "      <td>0.327367</td>\n",
              "      <td>0.500065</td>\n",
              "      <td>0.241417</td>\n",
              "      <td>0.499736</td>\n",
              "      <td>0.292773</td>\n",
              "      <td>0.321021</td>\n",
              "      <td>0.294687</td>\n",
              "      <td>0.326780</td>\n",
              "      <td>0.303961</td>\n",
              "      <td>0.225698</td>\n",
              "      <td>0.288985</td>\n",
              "      <td>0.291572</td>\n",
              "      <td>0.301534</td>\n",
              "      <td>0.242218</td>\n",
              "      <td>0.303915</td>\n",
              "      <td>0.427406</td>\n",
              "      <td>0.500100</td>\n",
              "      <td>0.500057</td>\n",
              "      <td>0.371621</td>\n",
              "    </tr>\n",
              "    <tr>\n",
              "      <th>min</th>\n",
              "      <td>0.000000</td>\n",
              "      <td>0.000000</td>\n",
              "      <td>0.000000</td>\n",
              "      <td>0.000000</td>\n",
              "      <td>0.000000</td>\n",
              "      <td>0.000000</td>\n",
              "      <td>0.000000</td>\n",
              "      <td>0.000000</td>\n",
              "      <td>0.000000</td>\n",
              "      <td>0.000000</td>\n",
              "      <td>0.000000</td>\n",
              "      <td>0.000000</td>\n",
              "      <td>0.000000</td>\n",
              "      <td>0.000000</td>\n",
              "      <td>0.000000</td>\n",
              "      <td>0.000000</td>\n",
              "      <td>0.000000</td>\n",
              "      <td>0.000000</td>\n",
              "      <td>0.000000</td>\n",
              "      <td>0.000000</td>\n",
              "      <td>0.000000</td>\n",
              "    </tr>\n",
              "    <tr>\n",
              "      <th>25%</th>\n",
              "      <td>0.233535</td>\n",
              "      <td>0.000000</td>\n",
              "      <td>0.080000</td>\n",
              "      <td>0.000000</td>\n",
              "      <td>0.055556</td>\n",
              "      <td>0.000000</td>\n",
              "      <td>0.225806</td>\n",
              "      <td>0.111111</td>\n",
              "      <td>0.241667</td>\n",
              "      <td>0.285714</td>\n",
              "      <td>0.250000</td>\n",
              "      <td>0.145918</td>\n",
              "      <td>0.249325</td>\n",
              "      <td>0.252573</td>\n",
              "      <td>0.285714</td>\n",
              "      <td>0.111111</td>\n",
              "      <td>0.222222</td>\n",
              "      <td>1.000000</td>\n",
              "      <td>0.000000</td>\n",
              "      <td>0.000000</td>\n",
              "      <td>0.333333</td>\n",
              "    </tr>\n",
              "    <tr>\n",
              "      <th>50%</th>\n",
              "      <td>0.484543</td>\n",
              "      <td>0.000000</td>\n",
              "      <td>0.400000</td>\n",
              "      <td>1.000000</td>\n",
              "      <td>0.166667</td>\n",
              "      <td>1.000000</td>\n",
              "      <td>0.483871</td>\n",
              "      <td>0.444444</td>\n",
              "      <td>0.508333</td>\n",
              "      <td>0.428571</td>\n",
              "      <td>0.500000</td>\n",
              "      <td>0.290816</td>\n",
              "      <td>0.498650</td>\n",
              "      <td>0.506501</td>\n",
              "      <td>0.500000</td>\n",
              "      <td>0.277778</td>\n",
              "      <td>0.500000</td>\n",
              "      <td>1.000000</td>\n",
              "      <td>1.000000</td>\n",
              "      <td>1.000000</td>\n",
              "      <td>0.333333</td>\n",
              "    </tr>\n",
              "    <tr>\n",
              "      <th>75%</th>\n",
              "      <td>0.745968</td>\n",
              "      <td>1.000000</td>\n",
              "      <td>0.680000</td>\n",
              "      <td>1.000000</td>\n",
              "      <td>0.388889</td>\n",
              "      <td>1.000000</td>\n",
              "      <td>0.741935</td>\n",
              "      <td>0.777778</td>\n",
              "      <td>0.750000</td>\n",
              "      <td>0.857143</td>\n",
              "      <td>0.750000</td>\n",
              "      <td>0.484184</td>\n",
              "      <td>0.756748</td>\n",
              "      <td>0.752979</td>\n",
              "      <td>0.785714</td>\n",
              "      <td>0.500000</td>\n",
              "      <td>0.777778</td>\n",
              "      <td>1.000000</td>\n",
              "      <td>1.000000</td>\n",
              "      <td>1.000000</td>\n",
              "      <td>0.666667</td>\n",
              "    </tr>\n",
              "    <tr>\n",
              "      <th>max</th>\n",
              "      <td>1.000000</td>\n",
              "      <td>1.000000</td>\n",
              "      <td>1.000000</td>\n",
              "      <td>1.000000</td>\n",
              "      <td>1.000000</td>\n",
              "      <td>1.000000</td>\n",
              "      <td>1.000000</td>\n",
              "      <td>1.000000</td>\n",
              "      <td>1.000000</td>\n",
              "      <td>1.000000</td>\n",
              "      <td>1.000000</td>\n",
              "      <td>1.000000</td>\n",
              "      <td>1.000000</td>\n",
              "      <td>1.000000</td>\n",
              "      <td>1.000000</td>\n",
              "      <td>1.000000</td>\n",
              "      <td>1.000000</td>\n",
              "      <td>1.000000</td>\n",
              "      <td>1.000000</td>\n",
              "      <td>1.000000</td>\n",
              "      <td>1.000000</td>\n",
              "    </tr>\n",
              "  </tbody>\n",
              "</table>\n",
              "</div>"
            ],
            "text/plain": [
              "       battery_power         blue  ...         wifi  price_range\n",
              "count    1943.000000  1943.000000  ...  1943.000000  1943.000000\n",
              "mean        0.492609     0.497169  ...     0.508492     0.499914\n",
              "std         0.293718     0.500121  ...     0.500057     0.371621\n",
              "min         0.000000     0.000000  ...     0.000000     0.000000\n",
              "25%         0.233535     0.000000  ...     0.000000     0.333333\n",
              "50%         0.484543     0.000000  ...     1.000000     0.333333\n",
              "75%         0.745968     1.000000  ...     1.000000     0.666667\n",
              "max         1.000000     1.000000  ...     1.000000     1.000000\n",
              "\n",
              "[8 rows x 21 columns]"
            ]
          },
          "execution_count": 64,
          "metadata": {},
          "output_type": "execute_result"
        }
      ],
      "source": [
        "data_norm = (data - data.min(axis=0)) / (data.max(axis=0) - data.min(axis=0))\n",
        "data_norm.describe()"
      ]
    },
    {
      "cell_type": "code",
      "execution_count": null,
      "id": "IM8aRSOPAjKC",
      "metadata": {
        "colab": {
          "base_uri": "https://localhost:8080/",
          "height": 320
        },
        "id": "IM8aRSOPAjKC",
        "outputId": "e4b67d21-1ea8-48b0-c5f6-40aec702f270"
      },
      "outputs": [
        {
          "data": {
            "text/html": [
              "<div>\n",
              "<style scoped>\n",
              "    .dataframe tbody tr th:only-of-type {\n",
              "        vertical-align: middle;\n",
              "    }\n",
              "\n",
              "    .dataframe tbody tr th {\n",
              "        vertical-align: top;\n",
              "    }\n",
              "\n",
              "    .dataframe thead th {\n",
              "        text-align: right;\n",
              "    }\n",
              "</style>\n",
              "<table border=\"1\" class=\"dataframe\">\n",
              "  <thead>\n",
              "    <tr style=\"text-align: right;\">\n",
              "      <th></th>\n",
              "      <th>id</th>\n",
              "      <th>battery_power</th>\n",
              "      <th>blue</th>\n",
              "      <th>clock_speed</th>\n",
              "      <th>dual_sim</th>\n",
              "      <th>fc</th>\n",
              "      <th>four_g</th>\n",
              "      <th>int_memory</th>\n",
              "      <th>m_dep</th>\n",
              "      <th>mobile_wt</th>\n",
              "      <th>n_cores</th>\n",
              "      <th>pc</th>\n",
              "      <th>px_height</th>\n",
              "      <th>px_width</th>\n",
              "      <th>ram</th>\n",
              "      <th>sc_h</th>\n",
              "      <th>sc_w</th>\n",
              "      <th>talk_time</th>\n",
              "      <th>three_g</th>\n",
              "      <th>touch_screen</th>\n",
              "      <th>wifi</th>\n",
              "    </tr>\n",
              "  </thead>\n",
              "  <tbody>\n",
              "    <tr>\n",
              "      <th>count</th>\n",
              "      <td>964.000000</td>\n",
              "      <td>964.000000</td>\n",
              "      <td>964.000000</td>\n",
              "      <td>964.000000</td>\n",
              "      <td>964.000000</td>\n",
              "      <td>964.000000</td>\n",
              "      <td>964.000000</td>\n",
              "      <td>964.000000</td>\n",
              "      <td>964.000000</td>\n",
              "      <td>964.000000</td>\n",
              "      <td>964.000000</td>\n",
              "      <td>964.000000</td>\n",
              "      <td>964.000000</td>\n",
              "      <td>964.000000</td>\n",
              "      <td>964.000000</td>\n",
              "      <td>964.000000</td>\n",
              "      <td>964.000000</td>\n",
              "      <td>964.000000</td>\n",
              "      <td>964.000000</td>\n",
              "      <td>964.00000</td>\n",
              "      <td>964.000000</td>\n",
              "    </tr>\n",
              "    <tr>\n",
              "      <th>mean</th>\n",
              "      <td>0.501050</td>\n",
              "      <td>0.498452</td>\n",
              "      <td>0.519710</td>\n",
              "      <td>0.418382</td>\n",
              "      <td>0.515560</td>\n",
              "      <td>0.253976</td>\n",
              "      <td>0.485477</td>\n",
              "      <td>0.507847</td>\n",
              "      <td>0.463347</td>\n",
              "      <td>0.499677</td>\n",
              "      <td>0.473622</td>\n",
              "      <td>0.501245</td>\n",
              "      <td>0.328798</td>\n",
              "      <td>0.493417</td>\n",
              "      <td>0.502286</td>\n",
              "      <td>0.497333</td>\n",
              "      <td>0.292301</td>\n",
              "      <td>0.505417</td>\n",
              "      <td>0.757261</td>\n",
              "      <td>0.50000</td>\n",
              "      <td>0.502075</td>\n",
              "    </tr>\n",
              "    <tr>\n",
              "      <th>std</th>\n",
              "      <td>0.289765</td>\n",
              "      <td>0.288954</td>\n",
              "      <td>0.499871</td>\n",
              "      <td>0.331756</td>\n",
              "      <td>0.500017</td>\n",
              "      <td>0.245872</td>\n",
              "      <td>0.500048</td>\n",
              "      <td>0.292799</td>\n",
              "      <td>0.311815</td>\n",
              "      <td>0.292050</td>\n",
              "      <td>0.327727</td>\n",
              "      <td>0.304890</td>\n",
              "      <td>0.227005</td>\n",
              "      <td>0.294332</td>\n",
              "      <td>0.292977</td>\n",
              "      <td>0.306684</td>\n",
              "      <td>0.234572</td>\n",
              "      <td>0.305430</td>\n",
              "      <td>0.428961</td>\n",
              "      <td>0.50026</td>\n",
              "      <td>0.500255</td>\n",
              "    </tr>\n",
              "    <tr>\n",
              "      <th>min</th>\n",
              "      <td>0.000000</td>\n",
              "      <td>0.000000</td>\n",
              "      <td>0.000000</td>\n",
              "      <td>0.000000</td>\n",
              "      <td>0.000000</td>\n",
              "      <td>0.000000</td>\n",
              "      <td>0.000000</td>\n",
              "      <td>0.000000</td>\n",
              "      <td>0.000000</td>\n",
              "      <td>0.000000</td>\n",
              "      <td>0.000000</td>\n",
              "      <td>0.000000</td>\n",
              "      <td>0.000000</td>\n",
              "      <td>0.000000</td>\n",
              "      <td>0.000000</td>\n",
              "      <td>0.000000</td>\n",
              "      <td>0.000000</td>\n",
              "      <td>0.000000</td>\n",
              "      <td>0.000000</td>\n",
              "      <td>0.00000</td>\n",
              "      <td>0.000000</td>\n",
              "    </tr>\n",
              "    <tr>\n",
              "      <th>25%</th>\n",
              "      <td>0.252002</td>\n",
              "      <td>0.261141</td>\n",
              "      <td>0.000000</td>\n",
              "      <td>0.080000</td>\n",
              "      <td>0.000000</td>\n",
              "      <td>0.055556</td>\n",
              "      <td>0.000000</td>\n",
              "      <td>0.258065</td>\n",
              "      <td>0.222222</td>\n",
              "      <td>0.243697</td>\n",
              "      <td>0.142857</td>\n",
              "      <td>0.250000</td>\n",
              "      <td>0.136864</td>\n",
              "      <td>0.219215</td>\n",
              "      <td>0.259856</td>\n",
              "      <td>0.214286</td>\n",
              "      <td>0.111111</td>\n",
              "      <td>0.263889</td>\n",
              "      <td>1.000000</td>\n",
              "      <td>0.00000</td>\n",
              "      <td>0.000000</td>\n",
              "    </tr>\n",
              "    <tr>\n",
              "      <th>50%</th>\n",
              "      <td>0.500000</td>\n",
              "      <td>0.496624</td>\n",
              "      <td>1.000000</td>\n",
              "      <td>0.400000</td>\n",
              "      <td>1.000000</td>\n",
              "      <td>0.166667</td>\n",
              "      <td>0.000000</td>\n",
              "      <td>0.516129</td>\n",
              "      <td>0.444444</td>\n",
              "      <td>0.495798</td>\n",
              "      <td>0.428571</td>\n",
              "      <td>0.500000</td>\n",
              "      <td>0.296539</td>\n",
              "      <td>0.502030</td>\n",
              "      <td>0.507341</td>\n",
              "      <td>0.500000</td>\n",
              "      <td>0.222222</td>\n",
              "      <td>0.500000</td>\n",
              "      <td>1.000000</td>\n",
              "      <td>0.50000</td>\n",
              "      <td>1.000000</td>\n",
              "    </tr>\n",
              "    <tr>\n",
              "      <th>75%</th>\n",
              "      <td>0.754004</td>\n",
              "      <td>0.754389</td>\n",
              "      <td>1.000000</td>\n",
              "      <td>0.720000</td>\n",
              "      <td>1.000000</td>\n",
              "      <td>0.388889</td>\n",
              "      <td>1.000000</td>\n",
              "      <td>0.758065</td>\n",
              "      <td>0.777778</td>\n",
              "      <td>0.756303</td>\n",
              "      <td>0.714286</td>\n",
              "      <td>0.800000</td>\n",
              "      <td>0.472601</td>\n",
              "      <td>0.760656</td>\n",
              "      <td>0.752243</td>\n",
              "      <td>0.785714</td>\n",
              "      <td>0.444444</td>\n",
              "      <td>0.777778</td>\n",
              "      <td>1.000000</td>\n",
              "      <td>1.00000</td>\n",
              "      <td>1.000000</td>\n",
              "    </tr>\n",
              "    <tr>\n",
              "      <th>max</th>\n",
              "      <td>1.000000</td>\n",
              "      <td>1.000000</td>\n",
              "      <td>1.000000</td>\n",
              "      <td>1.000000</td>\n",
              "      <td>1.000000</td>\n",
              "      <td>1.000000</td>\n",
              "      <td>1.000000</td>\n",
              "      <td>1.000000</td>\n",
              "      <td>1.000000</td>\n",
              "      <td>1.000000</td>\n",
              "      <td>1.000000</td>\n",
              "      <td>1.000000</td>\n",
              "      <td>1.000000</td>\n",
              "      <td>1.000000</td>\n",
              "      <td>1.000000</td>\n",
              "      <td>1.000000</td>\n",
              "      <td>1.000000</td>\n",
              "      <td>1.000000</td>\n",
              "      <td>1.000000</td>\n",
              "      <td>1.00000</td>\n",
              "      <td>1.000000</td>\n",
              "    </tr>\n",
              "  </tbody>\n",
              "</table>\n",
              "</div>"
            ],
            "text/plain": [
              "               id  battery_power  ...  touch_screen        wifi\n",
              "count  964.000000     964.000000  ...     964.00000  964.000000\n",
              "mean     0.501050       0.498452  ...       0.50000    0.502075\n",
              "std      0.289765       0.288954  ...       0.50026    0.500255\n",
              "min      0.000000       0.000000  ...       0.00000    0.000000\n",
              "25%      0.252002       0.261141  ...       0.00000    0.000000\n",
              "50%      0.500000       0.496624  ...       0.50000    1.000000\n",
              "75%      0.754004       0.754389  ...       1.00000    1.000000\n",
              "max      1.000000       1.000000  ...       1.00000    1.000000\n",
              "\n",
              "[8 rows x 21 columns]"
            ]
          },
          "execution_count": 65,
          "metadata": {},
          "output_type": "execute_result"
        }
      ],
      "source": [
        "test_norm = (test - test.min(axis=0)) / (test.max(axis=0) - test.min(axis=0))\n",
        "test_norm.describe()"
      ]
    },
    {
      "cell_type": "markdown",
      "id": "16f9cb4c",
      "metadata": {
        "id": "16f9cb4c"
      },
      "source": [
        "## 6. Training and test samples"
      ]
    },
    {
      "cell_type": "markdown",
      "id": "2i3ycWD11H7o",
      "metadata": {
        "id": "2i3ycWD11H7o"
      },
      "source": [
        "We use all the signs for classification. Let's split the data into training and test samples. We will take 75% for the training, the rest - for the test "
      ]
    },
    {
      "cell_type": "code",
      "execution_count": null,
      "id": "a448ae95",
      "metadata": {
        "colab": {
          "base_uri": "https://localhost:8080/"
        },
        "id": "a448ae95",
        "outputId": "36844d3f-4f4c-4b00-c504-0a8432344764"
      },
      "outputs": [
        {
          "data": {
            "text/plain": [
              "(1457, 486)"
            ]
          },
          "execution_count": 66,
          "metadata": {},
          "output_type": "execute_result"
        }
      ],
      "source": [
        "X = data_norm.drop(['price_range'], axis=1)\n",
        "y = data['price_range']\n",
        "\n",
        "from sklearn.model_selection import train_test_split\n",
        "X_train, X_test, y_train, y_test = train_test_split(X, y, test_size = 0.25, random_state = 42)\n",
        "\n",
        "N_train, _ = X_train.shape \n",
        "N_test,  _ = X_test.shape \n",
        "\n",
        "N_train, N_test"
      ]
    },
    {
      "cell_type": "code",
      "execution_count": null,
      "id": "XXofnbg64TMQ",
      "metadata": {
        "colab": {
          "base_uri": "https://localhost:8080/"
        },
        "id": "XXofnbg64TMQ",
        "outputId": "ea45143e-4a21-450e-9962-1bb5183278a1"
      },
      "outputs": [
        {
          "data": {
            "text/plain": [
              "1657    1\n",
              "1443    0\n",
              "1771    2\n",
              "1085    2\n",
              "315     3\n",
              "       ..\n",
              "1591    2\n",
              "1104    1\n",
              "1342    1\n",
              "343     3\n",
              "891     3\n",
              "Name: price_range, Length: 486, dtype: int64"
            ]
          },
          "execution_count": 67,
          "metadata": {},
          "output_type": "execute_result"
        }
      ],
      "source": [
        "y_test"
      ]
    },
    {
      "cell_type": "markdown",
      "id": "e055206e",
      "metadata": {
        "id": "e055206e"
      },
      "source": [
        "## 7. Model training\n",
        "\n"
      ]
    },
    {
      "cell_type": "markdown",
      "id": "tD_jjALk2w04",
      "metadata": {
        "id": "tD_jjALk2w04"
      },
      "source": [
        "### K nearest neighbors"
      ]
    },
    {
      "cell_type": "markdown",
      "id": "JoLbzW8s2NKP",
      "metadata": {
        "id": "JoLbzW8s2NKP"
      },
      "source": [
        "#### K nearest neighbors (K = 5 - default )"
      ]
    },
    {
      "cell_type": "code",
      "execution_count": null,
      "id": "f93cb0d8",
      "metadata": {
        "colab": {
          "base_uri": "https://localhost:8080/"
        },
        "id": "f93cb0d8",
        "outputId": "b71deae2-24a1-4a99-ca85-7232ad031a7b"
      },
      "outputs": [
        {
          "name": "stdout",
          "output_type": "stream",
          "text": [
            "Accuracy. Train : 62.46%, Test: 39.30%. \n"
          ]
        }
      ],
      "source": [
        "from sklearn.neighbors import KNeighborsClassifier\n",
        "\n",
        "knn_def = KNeighborsClassifier()\n",
        "knn_def.fit(X_train, y_train)\n",
        "knn_train_pred = 100 * knn_def.score(X_train, y_train)\n",
        "knn_test_pred = 100 * knn_def.score(X_test, y_test)\n",
        "print(\"Accuracy. Train : {:.2f}%, Test: {:.2f}%. \".format(knn_train_pred, knn_test_pred))"
      ]
    },
    {
      "cell_type": "markdown",
      "id": "91c9d69a",
      "metadata": {
        "id": "91c9d69a"
      },
      "source": [
        "#### K nearest neighbors (K = 7)"
      ]
    },
    {
      "cell_type": "code",
      "execution_count": null,
      "id": "91f71e36",
      "metadata": {
        "colab": {
          "base_uri": "https://localhost:8080/"
        },
        "id": "91f71e36",
        "outputId": "67f97c66-8901-4237-ab10-e98b81f50684"
      },
      "outputs": [
        {
          "name": "stdout",
          "output_type": "stream",
          "text": [
            "Accuracy. Train : 60.33%, Test: 41.77%. \n"
          ]
        }
      ],
      "source": [
        "knn_9 = KNeighborsClassifier(n_neighbors = 9)\n",
        "knn_9.fit(X_train, y_train)\n",
        "knn_train_pred = 100 * knn_9.score(X_train, y_train)\n",
        "knn_test_pred = 100 * knn_9.score(X_test, y_test)\n",
        "print(\"Accuracy. Train : {:.2f}%, Test: {:.2f}%. \".format(knn_train_pred, knn_test_pred))"
      ]
    },
    {
      "cell_type": "markdown",
      "id": "5258d37d",
      "metadata": {
        "id": "5258d37d"
      },
      "source": [
        "#### K nearest neighbors (K = 2)"
      ]
    },
    {
      "cell_type": "code",
      "execution_count": null,
      "id": "17b6a187",
      "metadata": {
        "colab": {
          "base_uri": "https://localhost:8080/"
        },
        "id": "17b6a187",
        "outputId": "5e39d282-ff42-495a-8cb4-44e003955a9b"
      },
      "outputs": [
        {
          "name": "stdout",
          "output_type": "stream",
          "text": [
            "Accuracy. Train : 70.08%, Test: 34.16%. \n"
          ]
        }
      ],
      "source": [
        "knn_2 = KNeighborsClassifier(n_neighbors = 2)\n",
        "knn_2.fit(X_train, y_train)\n",
        "knn_train_pred = 100 * knn_2.score(X_train, y_train)\n",
        "knn_test_pred = 100 * knn_2.score(X_test, y_test)\n",
        "print(\"Accuracy. Train : {:.2f}%, Test: {:.2f}%. \".format(knn_train_pred, knn_test_pred))"
      ]
    },
    {
      "cell_type": "markdown",
      "id": "5542c53d",
      "metadata": {
        "id": "5542c53d"
      },
      "source": [
        "The accuracy has increased. Let's calculate the root mean square error for the algorithm with the default number of nearest neighbors"
      ]
    },
    {
      "cell_type": "code",
      "execution_count": null,
      "id": "146ce68f",
      "metadata": {
        "colab": {
          "base_uri": "https://localhost:8080/"
        },
        "id": "146ce68f",
        "outputId": "0b2e43a3-9fb8-4542-8c67-1d29dc82006a"
      },
      "outputs": [
        {
          "name": "stdout",
          "output_type": "stream",
          "text": [
            "MSE. Train : 2.04, Test: 2.36. \n"
          ]
        }
      ],
      "source": [
        "knn_train_pred = knn_def.score(X_train, y_train)\n",
        "knn_test_pred = knn_def.score(X_test, y_test)\n",
        "MSE_train = np.mean((knn_train_pred - y_train)**2)\n",
        "MSE_test  = np.mean((knn_test_pred - y_test)**2)\n",
        "print(\"MSE. Train : {:.2f}, Test: {:.2f}. \".format(MSE_train, MSE_test))"
      ]
    },
    {
      "cell_type": "markdown",
      "id": "4009819f",
      "metadata": {
        "id": "4009819f"
      },
      "source": [
        "### Decision tree"
      ]
    },
    {
      "cell_type": "markdown",
      "id": "H57VhVP-2qiu",
      "metadata": {
        "id": "H57VhVP-2qiu"
      },
      "source": [
        "#### Use default parameters - no depth"
      ]
    },
    {
      "cell_type": "code",
      "execution_count": null,
      "id": "529b4198",
      "metadata": {
        "colab": {
          "base_uri": "https://localhost:8080/"
        },
        "id": "529b4198",
        "outputId": "b145fe30-d6a2-4c9f-8f8c-ae5632feb65d"
      },
      "outputs": [
        {
          "name": "stdout",
          "output_type": "stream",
          "text": [
            "Depth: 14\n",
            "Leaves: 157\n",
            "Accuracy. Train : 100.00%, Test: 82.92%. \n"
          ]
        }
      ],
      "source": [
        "from sklearn.tree import DecisionTreeClassifier\n",
        "desTrCl = DecisionTreeClassifier()\n",
        "desTrCl.fit(X_train,y_train)\n",
        "desTrCl_train_sc = 100 * desTrCl.score(X_train, y_train)\n",
        "print ('Depth:', desTrCl.get_depth())\n",
        "print ('Leaves:', desTrCl.get_n_leaves())\n",
        "desTrCl_test_sc = 100 * desTrCl.score(X_test, y_test)\n",
        "print(\"Accuracy. Train : {:.2f}%, Test: {:.2f}%. \".format(desTrCl_train_sc, desTrCl_test_sc))"
      ]
    },
    {
      "cell_type": "markdown",
      "id": "68f538d2",
      "metadata": {
        "id": "68f538d2"
      },
      "source": [
        "#### Maximum depth = 12. Reduced to 6"
      ]
    },
    {
      "cell_type": "code",
      "execution_count": null,
      "id": "ff1c106f",
      "metadata": {
        "colab": {
          "base_uri": "https://localhost:8080/"
        },
        "id": "ff1c106f",
        "outputId": "d407986c-0137-4547-e126-23809ea3528f"
      },
      "outputs": [
        {
          "name": "stdout",
          "output_type": "stream",
          "text": [
            "Depth: 6\n",
            "Leaves: 59\n",
            "Accuracy. Train : 91.63%, Test: 84.98%. \n"
          ]
        }
      ],
      "source": [
        "desTrCl_6 = DecisionTreeClassifier(max_depth=6)\n",
        "desTrCl_6.fit(X_train,y_train)\n",
        "desTrCl_train_sc = 100 * desTrCl_6.score(X_train, y_train)\n",
        "print ('Depth:', desTrCl_6.get_depth())\n",
        "print ('Leaves:', desTrCl_6.get_n_leaves())\n",
        "desTrCl_test_sc = 100 * desTrCl_6.score(X_test, y_test)\n",
        "print(\"Accuracy. Train : {:.2f}%, Test: {:.2f}%. \".format(desTrCl_train_sc, desTrCl_test_sc))"
      ]
    },
    {
      "cell_type": "markdown",
      "id": "4e1a09ac",
      "metadata": {
        "id": "4e1a09ac"
      },
      "source": [
        "The quality of the model on the test and training samples has decreased."
      ]
    },
    {
      "cell_type": "markdown",
      "id": "O3VNse9J3QWz",
      "metadata": {
        "id": "O3VNse9J3QWz"
      },
      "source": [
        "#### Increase the depth to 9"
      ]
    },
    {
      "cell_type": "code",
      "execution_count": null,
      "id": "80b46a45",
      "metadata": {
        "colab": {
          "base_uri": "https://localhost:8080/"
        },
        "id": "80b46a45",
        "outputId": "0d8a9f2f-42f1-4033-c5f7-b7a7e7bd2841"
      },
      "outputs": [
        {
          "name": "stdout",
          "output_type": "stream",
          "text": [
            "Depth: 9\n",
            "Leaves: 136\n",
            "Accuracy. Train : 98.63%, Test: 84.36%. \n"
          ]
        }
      ],
      "source": [
        "desTrCl_9 = DecisionTreeClassifier(max_depth=9)\n",
        "desTrCl_9.fit(X_train,y_train)\n",
        "desTrCl_train_sc = 100 * desTrCl_9.score(X_train, y_train)\n",
        "print ('Depth:', desTrCl_9.get_depth())\n",
        "print ('Leaves:', desTrCl_9.get_n_leaves())\n",
        "desTrCl_test_sc = 100 * desTrCl_9.score(X_test, y_test)\n",
        "print(\"Accuracy. Train : {:.2f}%, Test: {:.2f}%. \".format(desTrCl_train_sc, desTrCl_test_sc))"
      ]
    },
    {
      "cell_type": "markdown",
      "id": "NTsS4igX3ahq",
      "metadata": {
        "id": "NTsS4igX3ahq"
      },
      "source": [
        "The quality of the model on the test and training samples has increased.\n",
        "\n",
        "The decision tree algorithm turned out to be more accurate than the k-nearest neighbors algorithm for the optimal parameters of each of the methods, both on the training sample and on the test one."
      ]
    },
    {
      "cell_type": "markdown",
      "id": "7Sio15RG3cvS",
      "metadata": {
        "id": "7Sio15RG3cvS"
      },
      "source": [
        "## 10. General conclusions"
      ]
    },
    {
      "cell_type": "markdown",
      "id": "wdjEAvlx3d4h",
      "metadata": {
        "id": "wdjEAvlx3d4h"
      },
      "source": [
        "The work analyzed data on the price range of mobile phones and solved the classification problem using models that were trained by the methods of K-nearest neighbors and a decision tree.\n",
        "\n",
        "In the course of the work carried out:\n",
        "1. Dealing with emissions\n",
        "2. Calculation of the main statistical characteristics and their analysis\n",
        "3. Handling missing values ​​(deleting rows with missing values)\n",
        "4. Normalization of quantitative features (using a linear transformation to the segment [0, 1])\n",
        "5. Partitioning the data into training and test samples\n",
        "6. Choosing a classification algorithm and checking the quality of the model\n",
        "7. Comparison of 2 models, the decision tree algorithm turned out to be better than the k-nearest neighbors method."
      ]
    },
    {
      "cell_type": "markdown",
      "id": "WR7RxiD3OFQx",
      "metadata": {
        "id": "WR7RxiD3OFQx"
      },
      "source": [
        "## Test dataset classification"
      ]
    },
    {
      "cell_type": "code",
      "execution_count": null,
      "id": "zrbT8R4kJWal",
      "metadata": {
        "id": "zrbT8R4kJWal"
      },
      "outputs": [],
      "source": [
        "test_norm = test_norm.drop(['id'], axis=1)\n",
        "test_pred = desTrCl_6.predict(test_norm)\n"
      ]
    },
    {
      "cell_type": "markdown",
      "id": "9b60076a",
      "metadata": {
        "id": "9b60076a"
      },
      "source": [
        "# For last Step - HW 6"
      ]
    },
    {
      "cell_type": "markdown",
      "id": "a55a4b37",
      "metadata": {
        "id": "a55a4b37"
      },
      "source": [
        "## Init"
      ]
    },
    {
      "cell_type": "code",
      "execution_count": null,
      "id": "1e72760c",
      "metadata": {
        "id": "1e72760c"
      },
      "outputs": [],
      "source": [
        "from tqdm import tqdm\n",
        "from sklearn.neural_network import MLPClassifier\n",
        "from sklearn.model_selection import train_test_split\n",
        "from sklearn.metrics import accuracy_score"
      ]
    },
    {
      "cell_type": "markdown",
      "id": "0a720715",
      "metadata": {
        "id": "0a720715"
      },
      "source": [
        "## 1. Database merge"
      ]
    },
    {
      "cell_type": "code",
      "execution_count": null,
      "id": "7054dbd9",
      "metadata": {
        "id": "7054dbd9",
        "outputId": "b3003238-21f4-4167-f7da-dbc8fe54cb0f"
      },
      "outputs": [
        {
          "data": {
            "text/plain": [
              "(3000, 21)"
            ]
          },
          "execution_count": 2,
          "metadata": {},
          "output_type": "execute_result"
        }
      ],
      "source": [
        "data = pd.merge(data_raw, test_raw, how='outer')\n",
        "data.shape"
      ]
    },
    {
      "cell_type": "markdown",
      "id": "46db0ece",
      "metadata": {
        "id": "46db0ece"
      },
      "source": [
        "Удаление выбросов"
      ]
    },
    {
      "cell_type": "code",
      "execution_count": null,
      "id": "9f86bf31",
      "metadata": {
        "id": "9f86bf31",
        "outputId": "0b4ec23e-dc91-4c55-f9da-544f67f4986b"
      },
      "outputs": [
        {
          "data": {
            "text/plain": [
              "(2879, 21)"
            ]
          },
          "execution_count": 3,
          "metadata": {},
          "output_type": "execute_result"
        }
      ],
      "source": [
        "rows_to_drop = data[\n",
        "    (data['battery_power'] < data['battery_power'].quantile(0.005)) | (data['battery_power'] > data['battery_power'].quantile(0.995)) | \n",
        "    (data['clock_speed']  < data['clock_speed' ].quantile(0.005)) | (data['clock_speed']  > data['clock_speed' ].quantile(0.995)) | \n",
        "    (data['fc']  < data['fc' ].quantile(0.005)) | (data['fc']  > data['fc' ].quantile(0.995)) |\n",
        "    (data['int_memory']  < data['int_memory' ].quantile(0.005)) | (data['int_memory']  > data['int_memory' ].quantile(0.995)) | \n",
        "    (data['m_dep']  < data['m_dep' ].quantile(0.005)) | (data['m_dep']  > data['m_dep' ].quantile(0.995)) |\n",
        "    (data['mobile_wt']  < data['mobile_wt' ].quantile(0.005)) | (data['mobile_wt']  > data['mobile_wt' ].quantile(0.995)) | \n",
        "    (data['pc']  < data['pc' ].quantile(0.005)) | (data['pc']  > data['pc' ].quantile(0.995)) |\n",
        "    (data['px_width']  < data['px_width' ].quantile(0.005)) | (data['px_width']  > data['px_width' ].quantile(0.995)) | \n",
        "    (data['ram']  < data['ram' ].quantile(0.005)) | (data['ram']  > data['ram' ].quantile(0.995)) |\n",
        "    (data['talk_time']  < data['talk_time' ].quantile(0.005)) | (data['talk_time']  > data['talk_time' ].quantile(0.995))].index\n",
        "data = data.drop(rows_to_drop)\n",
        "data.shape"
      ]
    },
    {
      "cell_type": "code",
      "execution_count": null,
      "id": "370873eb",
      "metadata": {
        "id": "370873eb",
        "outputId": "cef8dccd-736c-4e33-e2f4-2b474e85180a"
      },
      "outputs": [
        {
          "name": "stdout",
          "output_type": "stream",
          "text": [
            "(2721, 21)\n"
          ]
        },
        {
          "data": {
            "text/plain": [
              "battery_power    0\n",
              "blue             0\n",
              "clock_speed      0\n",
              "dual_sim         0\n",
              "fc               0\n",
              "four_g           0\n",
              "int_memory       0\n",
              "m_dep            0\n",
              "mobile_wt        0\n",
              "n_cores          0\n",
              "pc               0\n",
              "px_height        0\n",
              "px_width         0\n",
              "ram              0\n",
              "sc_h             0\n",
              "sc_w             0\n",
              "talk_time        0\n",
              "three_g          0\n",
              "touch_screen     0\n",
              "wifi             0\n",
              "price_range      0\n",
              "dtype: int64"
            ]
          },
          "execution_count": 4,
          "metadata": {},
          "output_type": "execute_result"
        }
      ],
      "source": [
        "data.dropna(axis=0, how='all', subset=['battery_power'], inplace=True)\n",
        "data.dropna(axis=0, how='all', subset=['blue'], inplace=True)\n",
        "data.dropna(axis=0, how='all', subset=['clock_speed'], inplace=True)\n",
        "data.dropna(axis=0, how='all', subset=['dual_sim'], inplace=True)\n",
        "data.dropna(axis=0, how='all', subset=['fc'], inplace=True)\n",
        "data.dropna(axis=0, how='all', subset=['four_g'], inplace=True)\n",
        "data.dropna(axis=0, how='all', subset=['int_memory'], inplace=True)\n",
        "data.dropna(axis=0, how='all', subset=['m_dep'], inplace=True)\n",
        "data.dropna(axis=0, how='all', subset=['mobile_wt'], inplace=True)\n",
        "data.dropna(axis=0, how='all', subset=['n_cores'], inplace=True)\n",
        "data.dropna(axis=0, how='all', subset=['pc'], inplace=True)\n",
        "data.dropna(axis=0, how='all', subset=['px_height'], inplace=True)\n",
        "data.dropna(axis=0, how='all', subset=['px_width'], inplace=True)\n",
        "data.dropna(axis=0, how='all', subset=['ram'], inplace=True)\n",
        "data.dropna(axis=0, how='all', subset=['sc_h'], inplace=True)\n",
        "data.dropna(axis=0, how='all', subset=['sc_w'], inplace=True)\n",
        "data.dropna(axis=0, how='all', subset=['talk_time'], inplace=True)\n",
        "data.dropna(axis=0, how='all', subset=['three_g'], inplace=True)\n",
        "data.dropna(axis=0, how='all', subset=['touch_screen'], inplace=True)\n",
        "data.dropna(axis=0, how='all', subset=['wifi'], inplace=True)\n",
        "print(data.shape)\n",
        "data.isna().sum()"
      ]
    },
    {
      "cell_type": "markdown",
      "id": "f994cbb3",
      "metadata": {
        "id": "f994cbb3"
      },
      "source": [
        "Нормализация"
      ]
    },
    {
      "cell_type": "code",
      "execution_count": null,
      "id": "1aa1a50f",
      "metadata": {
        "id": "1aa1a50f",
        "outputId": "1851864b-7d92-498b-90c3-2f771c0a91b6"
      },
      "outputs": [
        {
          "data": {
            "text/html": [
              "<div>\n",
              "<style scoped>\n",
              "    .dataframe tbody tr th:only-of-type {\n",
              "        vertical-align: middle;\n",
              "    }\n",
              "\n",
              "    .dataframe tbody tr th {\n",
              "        vertical-align: top;\n",
              "    }\n",
              "\n",
              "    .dataframe thead th {\n",
              "        text-align: right;\n",
              "    }\n",
              "</style>\n",
              "<table border=\"1\" class=\"dataframe\">\n",
              "  <thead>\n",
              "    <tr style=\"text-align: right;\">\n",
              "      <th></th>\n",
              "      <th>battery_power</th>\n",
              "      <th>blue</th>\n",
              "      <th>clock_speed</th>\n",
              "      <th>dual_sim</th>\n",
              "      <th>fc</th>\n",
              "      <th>four_g</th>\n",
              "      <th>int_memory</th>\n",
              "      <th>m_dep</th>\n",
              "      <th>mobile_wt</th>\n",
              "      <th>n_cores</th>\n",
              "      <th>...</th>\n",
              "      <th>px_height</th>\n",
              "      <th>px_width</th>\n",
              "      <th>ram</th>\n",
              "      <th>sc_h</th>\n",
              "      <th>sc_w</th>\n",
              "      <th>talk_time</th>\n",
              "      <th>three_g</th>\n",
              "      <th>touch_screen</th>\n",
              "      <th>wifi</th>\n",
              "      <th>price_range</th>\n",
              "    </tr>\n",
              "  </thead>\n",
              "  <tbody>\n",
              "    <tr>\n",
              "      <th>count</th>\n",
              "      <td>2721.000000</td>\n",
              "      <td>2721.000000</td>\n",
              "      <td>2721.000000</td>\n",
              "      <td>2721.000000</td>\n",
              "      <td>2721.000000</td>\n",
              "      <td>2721.000000</td>\n",
              "      <td>2721.000000</td>\n",
              "      <td>2721.000000</td>\n",
              "      <td>2721.000000</td>\n",
              "      <td>2721.000000</td>\n",
              "      <td>...</td>\n",
              "      <td>2721.000000</td>\n",
              "      <td>2721.000000</td>\n",
              "      <td>2721.000000</td>\n",
              "      <td>2721.000000</td>\n",
              "      <td>2721.000000</td>\n",
              "      <td>2721.000000</td>\n",
              "      <td>2721.000000</td>\n",
              "      <td>2721.000000</td>\n",
              "      <td>2721.000000</td>\n",
              "      <td>2721.000000</td>\n",
              "    </tr>\n",
              "    <tr>\n",
              "      <th>mean</th>\n",
              "      <td>0.494282</td>\n",
              "      <td>0.488423</td>\n",
              "      <td>0.409247</td>\n",
              "      <td>0.508269</td>\n",
              "      <td>0.238985</td>\n",
              "      <td>0.514149</td>\n",
              "      <td>0.490190</td>\n",
              "      <td>0.448242</td>\n",
              "      <td>0.506517</td>\n",
              "      <td>0.504069</td>\n",
              "      <td>...</td>\n",
              "      <td>0.327427</td>\n",
              "      <td>0.499883</td>\n",
              "      <td>0.505929</td>\n",
              "      <td>0.524203</td>\n",
              "      <td>0.318857</td>\n",
              "      <td>0.498489</td>\n",
              "      <td>0.755972</td>\n",
              "      <td>0.505696</td>\n",
              "      <td>0.514884</td>\n",
              "      <td>0.507902</td>\n",
              "    </tr>\n",
              "    <tr>\n",
              "      <th>std</th>\n",
              "      <td>0.293952</td>\n",
              "      <td>0.499958</td>\n",
              "      <td>0.328669</td>\n",
              "      <td>0.500024</td>\n",
              "      <td>0.241883</td>\n",
              "      <td>0.499892</td>\n",
              "      <td>0.293178</td>\n",
              "      <td>0.318928</td>\n",
              "      <td>0.294342</td>\n",
              "      <td>0.326937</td>\n",
              "      <td>...</td>\n",
              "      <td>0.226641</td>\n",
              "      <td>0.289104</td>\n",
              "      <td>0.292533</td>\n",
              "      <td>0.300177</td>\n",
              "      <td>0.242910</td>\n",
              "      <td>0.301650</td>\n",
              "      <td>0.429588</td>\n",
              "      <td>0.500059</td>\n",
              "      <td>0.499870</td>\n",
              "      <td>0.373484</td>\n",
              "    </tr>\n",
              "    <tr>\n",
              "      <th>min</th>\n",
              "      <td>0.000000</td>\n",
              "      <td>0.000000</td>\n",
              "      <td>0.000000</td>\n",
              "      <td>0.000000</td>\n",
              "      <td>0.000000</td>\n",
              "      <td>0.000000</td>\n",
              "      <td>0.000000</td>\n",
              "      <td>0.000000</td>\n",
              "      <td>0.000000</td>\n",
              "      <td>0.000000</td>\n",
              "      <td>...</td>\n",
              "      <td>0.000000</td>\n",
              "      <td>0.000000</td>\n",
              "      <td>0.000000</td>\n",
              "      <td>0.000000</td>\n",
              "      <td>0.000000</td>\n",
              "      <td>0.000000</td>\n",
              "      <td>0.000000</td>\n",
              "      <td>0.000000</td>\n",
              "      <td>0.000000</td>\n",
              "      <td>0.000000</td>\n",
              "    </tr>\n",
              "    <tr>\n",
              "      <th>25%</th>\n",
              "      <td>0.233557</td>\n",
              "      <td>0.000000</td>\n",
              "      <td>0.080000</td>\n",
              "      <td>0.000000</td>\n",
              "      <td>0.055556</td>\n",
              "      <td>0.000000</td>\n",
              "      <td>0.225806</td>\n",
              "      <td>0.111111</td>\n",
              "      <td>0.241667</td>\n",
              "      <td>0.285714</td>\n",
              "      <td>...</td>\n",
              "      <td>0.140306</td>\n",
              "      <td>0.247811</td>\n",
              "      <td>0.254531</td>\n",
              "      <td>0.285714</td>\n",
              "      <td>0.111111</td>\n",
              "      <td>0.222222</td>\n",
              "      <td>1.000000</td>\n",
              "      <td>0.000000</td>\n",
              "      <td>0.000000</td>\n",
              "      <td>0.333333</td>\n",
              "    </tr>\n",
              "    <tr>\n",
              "      <th>50%</th>\n",
              "      <td>0.489933</td>\n",
              "      <td>0.000000</td>\n",
              "      <td>0.400000</td>\n",
              "      <td>1.000000</td>\n",
              "      <td>0.166667</td>\n",
              "      <td>1.000000</td>\n",
              "      <td>0.483871</td>\n",
              "      <td>0.444444</td>\n",
              "      <td>0.516667</td>\n",
              "      <td>0.428571</td>\n",
              "      <td>...</td>\n",
              "      <td>0.286224</td>\n",
              "      <td>0.498316</td>\n",
              "      <td>0.520151</td>\n",
              "      <td>0.500000</td>\n",
              "      <td>0.277778</td>\n",
              "      <td>0.500000</td>\n",
              "      <td>1.000000</td>\n",
              "      <td>1.000000</td>\n",
              "      <td>1.000000</td>\n",
              "      <td>0.666667</td>\n",
              "    </tr>\n",
              "    <tr>\n",
              "      <th>75%</th>\n",
              "      <td>0.746980</td>\n",
              "      <td>1.000000</td>\n",
              "      <td>0.680000</td>\n",
              "      <td>1.000000</td>\n",
              "      <td>0.388889</td>\n",
              "      <td>1.000000</td>\n",
              "      <td>0.741935</td>\n",
              "      <td>0.777778</td>\n",
              "      <td>0.758333</td>\n",
              "      <td>0.857143</td>\n",
              "      <td>...</td>\n",
              "      <td>0.485204</td>\n",
              "      <td>0.750168</td>\n",
              "      <td>0.757371</td>\n",
              "      <td>0.785714</td>\n",
              "      <td>0.500000</td>\n",
              "      <td>0.777778</td>\n",
              "      <td>1.000000</td>\n",
              "      <td>1.000000</td>\n",
              "      <td>1.000000</td>\n",
              "      <td>1.000000</td>\n",
              "    </tr>\n",
              "    <tr>\n",
              "      <th>max</th>\n",
              "      <td>1.000000</td>\n",
              "      <td>1.000000</td>\n",
              "      <td>1.000000</td>\n",
              "      <td>1.000000</td>\n",
              "      <td>1.000000</td>\n",
              "      <td>1.000000</td>\n",
              "      <td>1.000000</td>\n",
              "      <td>1.000000</td>\n",
              "      <td>1.000000</td>\n",
              "      <td>1.000000</td>\n",
              "      <td>...</td>\n",
              "      <td>1.000000</td>\n",
              "      <td>1.000000</td>\n",
              "      <td>1.000000</td>\n",
              "      <td>1.000000</td>\n",
              "      <td>1.000000</td>\n",
              "      <td>1.000000</td>\n",
              "      <td>1.000000</td>\n",
              "      <td>1.000000</td>\n",
              "      <td>1.000000</td>\n",
              "      <td>1.000000</td>\n",
              "    </tr>\n",
              "  </tbody>\n",
              "</table>\n",
              "<p>8 rows × 21 columns</p>\n",
              "</div>"
            ],
            "text/plain": [
              "       battery_power         blue  clock_speed     dual_sim           fc  \\\n",
              "count    2721.000000  2721.000000  2721.000000  2721.000000  2721.000000   \n",
              "mean        0.494282     0.488423     0.409247     0.508269     0.238985   \n",
              "std         0.293952     0.499958     0.328669     0.500024     0.241883   \n",
              "min         0.000000     0.000000     0.000000     0.000000     0.000000   \n",
              "25%         0.233557     0.000000     0.080000     0.000000     0.055556   \n",
              "50%         0.489933     0.000000     0.400000     1.000000     0.166667   \n",
              "75%         0.746980     1.000000     0.680000     1.000000     0.388889   \n",
              "max         1.000000     1.000000     1.000000     1.000000     1.000000   \n",
              "\n",
              "            four_g   int_memory        m_dep    mobile_wt      n_cores  ...  \\\n",
              "count  2721.000000  2721.000000  2721.000000  2721.000000  2721.000000  ...   \n",
              "mean      0.514149     0.490190     0.448242     0.506517     0.504069  ...   \n",
              "std       0.499892     0.293178     0.318928     0.294342     0.326937  ...   \n",
              "min       0.000000     0.000000     0.000000     0.000000     0.000000  ...   \n",
              "25%       0.000000     0.225806     0.111111     0.241667     0.285714  ...   \n",
              "50%       1.000000     0.483871     0.444444     0.516667     0.428571  ...   \n",
              "75%       1.000000     0.741935     0.777778     0.758333     0.857143  ...   \n",
              "max       1.000000     1.000000     1.000000     1.000000     1.000000  ...   \n",
              "\n",
              "         px_height     px_width          ram         sc_h         sc_w  \\\n",
              "count  2721.000000  2721.000000  2721.000000  2721.000000  2721.000000   \n",
              "mean      0.327427     0.499883     0.505929     0.524203     0.318857   \n",
              "std       0.226641     0.289104     0.292533     0.300177     0.242910   \n",
              "min       0.000000     0.000000     0.000000     0.000000     0.000000   \n",
              "25%       0.140306     0.247811     0.254531     0.285714     0.111111   \n",
              "50%       0.286224     0.498316     0.520151     0.500000     0.277778   \n",
              "75%       0.485204     0.750168     0.757371     0.785714     0.500000   \n",
              "max       1.000000     1.000000     1.000000     1.000000     1.000000   \n",
              "\n",
              "         talk_time      three_g  touch_screen         wifi  price_range  \n",
              "count  2721.000000  2721.000000   2721.000000  2721.000000  2721.000000  \n",
              "mean      0.498489     0.755972      0.505696     0.514884     0.507902  \n",
              "std       0.301650     0.429588      0.500059     0.499870     0.373484  \n",
              "min       0.000000     0.000000      0.000000     0.000000     0.000000  \n",
              "25%       0.222222     1.000000      0.000000     0.000000     0.333333  \n",
              "50%       0.500000     1.000000      1.000000     1.000000     0.666667  \n",
              "75%       0.777778     1.000000      1.000000     1.000000     1.000000  \n",
              "max       1.000000     1.000000      1.000000     1.000000     1.000000  \n",
              "\n",
              "[8 rows x 21 columns]"
            ]
          },
          "execution_count": 5,
          "metadata": {},
          "output_type": "execute_result"
        }
      ],
      "source": [
        "data_norm = (data - data.min(axis=0)) / (data.max(axis=0) - data.min(axis=0))\n",
        "data_norm.describe()"
      ]
    },
    {
      "cell_type": "markdown",
      "source": [
        "## 2. Selection of hyperparameters"
      ],
      "metadata": {
        "id": "KhZTL3xenJB_"
      },
      "id": "KhZTL3xenJB_"
    },
    {
      "cell_type": "markdown",
      "id": "f89e660c",
      "metadata": {
        "id": "f89e660c"
      },
      "source": [
        "\n",
        "### Подбор числа нейронов в однослойном классификаторе\n",
        "В качестве  алгоритма оптимизации выберем алгоритм Adam, в качестве функции активации выберем Relu, в качетве метрики оценки классификатора возьмем accuracy_score."
      ]
    },
    {
      "cell_type": "code",
      "execution_count": null,
      "id": "bfe1b2d3",
      "metadata": {
        "id": "bfe1b2d3",
        "outputId": "17742494-94c0-47bd-de85-50ade6448d09"
      },
      "outputs": [
        {
          "name": "stderr",
          "output_type": "stream",
          "text": [
            "100%|██████████| 60/60 [03:24<00:00,  3.41s/it]\n"
          ]
        }
      ],
      "source": [
        "hidden_layer_size = np.linspace(1, 60, 60)\n",
        "hidden_layer_size = hidden_layer_size.astype(int)\n",
        "test_err, train_err = [], []\n",
        "train_acc, test_acc = [], []\n",
        "\n",
        "for size in tqdm(hidden_layer_size):\n",
        "    model = MLPClassifier(hidden_layer_sizes=(size,), \n",
        "                          solver='adam', activation='relu', max_iter=3000, random_state=13)\n",
        "    model.fit(X_train, y_train)\n",
        "\n",
        "    y_train_pred = model.predict(X_train)\n",
        "    y_test_pred = model.predict(X_test)\n",
        "    \n",
        "    train_err.append(np.mean(y_train != y_train_pred))\n",
        "    test_err.append(np.mean(y_test != y_test_pred))\n",
        "    \n",
        "    train_acc.append(accuracy_score(y_train, y_train_pred))\n",
        "    test_acc.append(accuracy_score(y_test, y_test_pred))"
      ]
    },
    {
      "cell_type": "code",
      "execution_count": null,
      "id": "4a00365c",
      "metadata": {
        "id": "4a00365c",
        "outputId": "49fe9a0f-a03d-4789-d4d7-4230925eb24e"
      },
      "outputs": [
        {
          "name": "stdout",
          "output_type": "stream",
          "text": [
            "Train: minimum value error = 0.0, number of neurons = 14\n",
            "Test: minimum value error = 0.016152716593245228, number of neurons = 3\n"
          ]
        },
        {
          "data": {
            "image/png": "[encoded data removed]",
            "text/plain": [
              "<Figure size 432x288 with 1 Axes>"
            ]
          },
          "metadata": {
            "needs_background": "light"
          },
          "output_type": "display_data"
        }
      ],
      "source": [
        "plt.plot(hidden_layer_size, train_err, 'b-o', label = 'train')\n",
        "plt.plot(hidden_layer_size, test_err, 'r-o', label = 'test')\n",
        "plt.xlim([np.min(hidden_layer_size), np.max(hidden_layer_size)])\n",
        "plt.title('Error is as a function of hidden_layer_size')\n",
        "plt.xlabel('hidden_layer_size')\n",
        "plt.ylabel('error')\n",
        "plt.legend()\n",
        "\n",
        "print(f\"Train: minimum value error = {np.min(train_err)}, number of neurons = {hidden_layer_size[np.argmin(train_err)]}\")\n",
        "print(f\"Test: minimum value error = {np.min(test_err)}, number of neurons = {hidden_layer_size[np.argmin(test_err)]}\")"
      ]
    },
    {
      "cell_type": "markdown",
      "id": "efecbebb",
      "metadata": {
        "id": "efecbebb"
      },
      "source": [
        "Рассмотрим как у нас менялась метрика в зависимости от гиперпараметра"
      ]
    },
    {
      "cell_type": "code",
      "execution_count": null,
      "id": "c7384b4a",
      "metadata": {
        "id": "c7384b4a",
        "outputId": "9daba447-ec4a-469b-f920-8b185df79892"
      },
      "outputs": [
        {
          "name": "stdout",
          "output_type": "stream",
          "text": [
            "Train: maximum value accuracy = 1.0, number of neurons = 14\n",
            "Test: maximum value accuracy = 0.9838472834067548, number of neurons = 3\n"
          ]
        },
        {
          "data": {
            "image/png": "[encoded data removed]",
            "text/plain": [
              "<Figure size 432x288 with 1 Axes>"
            ]
          },
          "metadata": {
            "needs_background": "light"
          },
          "output_type": "display_data"
        }
      ],
      "source": [
        "plt.plot(hidden_layer_size, train_acc, 'r-o', label = 'train')\n",
        "plt.plot(hidden_layer_size, test_acc, 'b-o', label = 'test')\n",
        "plt.xlim([np.min(hidden_layer_size), np.max(hidden_layer_size)])\n",
        "plt.title('Accuracy is a function of hidden_layer_size')\n",
        "plt.xlabel('hidden_layer_size')\n",
        "plt.ylabel('Accuracy')\n",
        "plt.legend()\n",
        "\n",
        "print(f\"Train: maximum value accuracy = {np.max(train_acc)}, number of neurons = {hidden_layer_size[np.argmax(train_acc)]}\")\n",
        "print(f\"Test: maximum value accuracy = {np.max(test_acc)}, number of neurons = {hidden_layer_size[np.argmax(test_acc)]}\")"
      ]
    },
    {
      "cell_type": "markdown",
      "id": "9b96f6d6",
      "metadata": {
        "id": "9b96f6d6"
      },
      "source": [
        "### Подбор числа нейронов в двухслойном классификаторе"
      ]
    },
    {
      "cell_type": "code",
      "execution_count": null,
      "id": "27f5679a",
      "metadata": {
        "id": "27f5679a",
        "outputId": "821d627b-87d5-4572-9157-f59c88b26565"
      },
      "outputs": [
        {
          "name": "stderr",
          "output_type": "stream",
          "text": [
            "10it [03:58, 23.81s/it]\n"
          ]
        }
      ],
      "source": [
        "n = 10\n",
        "sizes = np.linspace(1, 60, n).astype(int)\n",
        "test_err = np.zeros((n, n))\n",
        "train_err = np.zeros((n, n))\n",
        "train_acc = np.zeros((n, n))\n",
        "test_acc = np.zeros((n, n))\n",
        "\n",
        "for i, size_1 in tqdm(enumerate(sizes)):\n",
        "    for j, size_2 in enumerate(sizes):\n",
        "        model = MLPClassifier(hidden_layer_sizes=(size_1, size_2, ), \n",
        "                              solver='adam', activation='relu', max_iter=3000, random_state=13)\n",
        "        model.fit(X_train, y_train)\n",
        "\n",
        "        y_train_pred = model.predict(X_train)\n",
        "        y_test_pred = model.predict(X_test)\n",
        "\n",
        "        train_err[i][j] = np.mean(y_train != y_train_pred)\n",
        "        test_err[i][j] = np.mean(y_test != y_test_pred)\n",
        "\n",
        "        train_acc[i][j] = accuracy_score(y_train, y_train_pred)\n",
        "        test_acc[i][j] = accuracy_score(y_test, y_test_pred)"
      ]
    },
    {
      "cell_type": "code",
      "execution_count": null,
      "id": "197ccc10",
      "metadata": {
        "id": "197ccc10",
        "outputId": "0ece2103-4c54-4569-bb31-e82f7c942ddd"
      },
      "outputs": [
        {
          "name": "stdout",
          "output_type": "stream",
          "text": [
            "Train: minimum value error = 0.0, number of neurons = (1, 1)\n",
            "Test: minimum value error = 0.016152716593245228, number of neurons = (1, 1)\n"
          ]
        },
        {
          "data": {
            "image/png": "[encoded data removed]",
            "text/plain": [
              "<Figure size 432x288 with 3 Axes>"
            ]
          },
          "metadata": {
            "needs_background": "light"
          },
          "output_type": "display_data"
        }
      ],
      "source": [
        "plt.subplot(121)\n",
        "plt.title(\"Train error\")\n",
        "plt.imshow(train_err)\n",
        "plt.xticks(np.arange(n), np.arange(1, 50, 50 / n))\n",
        "plt.yticks(np.arange(n), np.arange(1, 50, 50 / n))\n",
        "\n",
        "plt.subplot(122)\n",
        "plt.title(\"Test error\")\n",
        "plt.imshow(test_err)\n",
        "plt.xticks(np.arange(n), np.arange(1, 50, 50 / n))\n",
        "plt.yticks(np.arange(n), np.arange(1, 50, 50 / n))\n",
        "\n",
        "cax = plt.axes([0.96, 0.15, 0.02, 0.7])\n",
        "plt.colorbar(cax=cax)\n",
        "\n",
        "train_min_loss = np.where(train_err == np.min(train_err))\n",
        "test_min_loss = np.where(test_err == np.min(test_err))\n",
        "\n",
        "train_min_loss_sizes = np.where(train_err == np.min(train_err))\n",
        "print(f\"Train: minimum value error = {np.min(train_err)}, number of neurons = (\" \\\n",
        "      f\"{train_min_loss_sizes[0][0]}, {train_min_loss_sizes[1][0]})\")\n",
        "\n",
        "test_min_loss_sizes = np.where(test_err == np.min(test_err))\n",
        "print(f\"Test: minimum value error = {np.min(test_err)}, number of neurons = (\" \\\n",
        "      f\"{test_min_loss_sizes[0][0]}, {test_min_loss_sizes[1][0]})\")"
      ]
    },
    {
      "cell_type": "code",
      "execution_count": null,
      "id": "461022c2",
      "metadata": {
        "id": "461022c2",
        "outputId": "c78b0a31-22d8-4d03-a6c0-b326cf6e8ab1"
      },
      "outputs": [
        {
          "name": "stdout",
          "output_type": "stream",
          "text": [
            "Train: maximum value accuracy = 1.0, number of neurons = (1, 1)\n",
            "Test: maximum value accuracy = 0.9838472834067548, number of neurons = (1, 1)\n"
          ]
        },
        {
          "data": {
            "image/png": "[encoded data removed]",
            "text/plain": [
              "<Figure size 432x288 with 3 Axes>"
            ]
          },
          "metadata": {
            "needs_background": "light"
          },
          "output_type": "display_data"
        }
      ],
      "source": [
        "plt.subplot(121)\n",
        "plt.title(\"Train accuracy\")\n",
        "plt.imshow(train_acc)\n",
        "plt.xticks(np.arange(n), np.arange(1, 50, 50 / n))\n",
        "plt.yticks(np.arange(n), np.arange(1, 50, 50 / n))\n",
        "\n",
        "plt.subplot(122)\n",
        "plt.title(\"Test accuracy\")\n",
        "plt.imshow(test_acc)\n",
        "plt.xticks(np.arange(n), np.arange(1, 50, 50 / n))\n",
        "plt.yticks(np.arange(n), np.arange(1, 50, 50 / n))\n",
        "\n",
        "cax = plt.axes([0.95, 0.15, 0.02, 0.7])\n",
        "plt.colorbar(cax=cax)\n",
        "\n",
        "train_max_acc = np.where(train_acc == np.max(train_acc))\n",
        "test_max_acc = np.where(test_acc == np.max(test_acc))\n",
        "\n",
        "\n",
        "train_max_acc_sizes = np.where(train_acc == np.max(train_acc))\n",
        "print(f\"Train: maximum value accuracy = {np.max(train_acc)}, number of neurons = (\" \\\n",
        "      f\"{train_max_acc_sizes[0][0]}, {train_max_acc_sizes[1][0]})\")\n",
        "\n",
        "test_max_acc_sizes = np.where(test_acc == np.max(test_acc))\n",
        "print(f\"Test: maximum value accuracy = {np.max(test_acc)}, number of neurons = (\" \\\n",
        "      f\"{test_max_acc_sizes[0][0]}, {test_max_acc_sizes[1][0]})\")"
      ]
    },
    {
      "cell_type": "markdown",
      "id": "4428abcb",
      "metadata": {
        "id": "4428abcb"
      },
      "source": [
        "### Подбор параметра регуляризации"
      ]
    },
    {
      "cell_type": "code",
      "execution_count": null,
      "id": "4a36f6b3",
      "metadata": {
        "id": "4a36f6b3",
        "outputId": "e53b317e-c719-4d39-c354-dd5ba9a28ffa"
      },
      "outputs": [
        {
          "name": "stderr",
          "output_type": "stream",
          "text": [
            "100%|██████████| 50/50 [01:38<00:00,  1.96s/it]\n"
          ]
        }
      ],
      "source": [
        "alpha_arr = np.logspace(-5, 5, 50)\n",
        "test_err = []\n",
        "train_err = []\n",
        "train_acc = []\n",
        "test_acc = []\n",
        "\n",
        "for alpha in tqdm(alpha_arr):\n",
        "    mlp_model = MLPClassifier(alpha = alpha, hidden_layer_sizes = (22,), \n",
        "                              solver='adam', activation='relu', max_iter=1000, random_state=13)\n",
        "    mlp_model.fit(X_train, y_train)\n",
        "\n",
        "    y_train_pred = mlp_model.predict(X_train)\n",
        "    y_test_pred = mlp_model.predict(X_test)\n",
        "    \n",
        "    train_err.append(np.mean(y_train != y_train_pred))\n",
        "    test_err.append(np.mean(y_test != y_test_pred))\n",
        "    \n",
        "    train_acc.append(accuracy_score(y_train, y_train_pred))\n",
        "    test_acc.append(accuracy_score(y_test, y_test_pred))"
      ]
    },
    {
      "cell_type": "code",
      "execution_count": null,
      "id": "7272df0f",
      "metadata": {
        "id": "7272df0f",
        "outputId": "9fc167e1-1510-4c16-f017-89f90d36d71c"
      },
      "outputs": [
        {
          "data": {
            "text/plain": [
              "<matplotlib.legend.Legend at 0x173a585f160>"
            ]
          },
          "execution_count": 15,
          "metadata": {},
          "output_type": "execute_result"
        },
        {
          "data": {
            "image/png": "[encoded data removed]",
            "text/plain": [
              "<Figure size 432x288 with 1 Axes>"
            ]
          },
          "metadata": {
            "needs_background": "light"
          },
          "output_type": "display_data"
        }
      ],
      "source": [
        "plt.semilogx(alpha_arr, train_err, 'b-o', label = 'train')\n",
        "plt.semilogx(alpha_arr, test_err, 'r-o', label = 'test')\n",
        "plt.xlim([np.min(alpha_arr), np.max(alpha_arr)])\n",
        "plt.title('Error vs. alpha')\n",
        "plt.xlabel('alpha')\n",
        "plt.ylabel('error')\n",
        "plt.legend()"
      ]
    },
    {
      "cell_type": "code",
      "execution_count": null,
      "id": "0564a479",
      "metadata": {
        "id": "0564a479",
        "outputId": "85358402-4212-477d-b999-b3be6270eca3"
      },
      "outputs": [
        {
          "data": {
            "text/plain": [
              "<matplotlib.legend.Legend at 0x173a9e89e50>"
            ]
          },
          "execution_count": 16,
          "metadata": {},
          "output_type": "execute_result"
        },
        {
          "data": {
            "image/png": "[encoded data removed]",
            "text/plain": [
              "<Figure size 432x288 with 1 Axes>"
            ]
          },
          "metadata": {
            "needs_background": "light"
          },
          "output_type": "display_data"
        }
      ],
      "source": [
        "plt.semilogx(alpha_arr, train_acc, 'b-o', label = 'train')\n",
        "plt.semilogx(alpha_arr, test_acc, 'r-o', label = 'test')\n",
        "plt.xlim([np.min(alpha_arr), np.max(alpha_arr)])\n",
        "plt.title('Acc vs. alpha')\n",
        "plt.xlabel('alpha')\n",
        "plt.ylabel('acc')\n",
        "plt.legend()"
      ]
    },
    {
      "cell_type": "markdown",
      "source": [
        "## Общие выводы"
      ],
      "metadata": {
        "id": "fnG7vr1znYVd"
      },
      "id": "fnG7vr1znYVd"
    },
    {
      "cell_type": "markdown",
      "id": "d2b5a9ec",
      "metadata": {
        "id": "d2b5a9ec"
      },
      "source": [
        "###  Подбор числа нейронов в однослойном классификаторе\n",
        "1) Так как графики Error/Accuracy для train/test почти полностью совпадают, делаем вывод об одиноковом распределении тренировочных и тестовых данных.\n",
        "\n",
        "2) Переобучения нет, следовательно в моделе нет высоких весовых значений и она достаточно простая, чтобы уметь обобщаться.\n",
        "\n",
        "3) Недообучения так же нет, то есть модель достаточно сложная, чтобы решить поставленную задачу.\n",
        "\n",
        "4) Максимальное значение accuracy = 98.4%, число нейронов = 3\n",
        "\n",
        "### Подбор числа нейронов в двухслойном классификаторе\n",
        "1) Переобучения и недобучения также нет.\n",
        "\n",
        "2) Максимальное значение accuracy = 98.4%, число нейронов = (1, 1)\n",
        "\n",
        "3) Число нейронов уменьшилось на 1, значение accuracy не изменилось\n",
        "\n",
        "### Подбор параметра регуляризации\n",
        "C ростом коэффициента регуляризации растет ошибка и падает accuracy, что говорит о том, что после обучения у модели не возникает больших значения весовых коэффициентов, а значит нет переобучения у модели."
      ]
    }
  ],
  "metadata": {
    "colab": {
      "provenance": []
    },
    "kernelspec": {
      "display_name": "Python 3",
      "language": "python",
      "name": "python3"
    },
    "language_info": {
      "codemirror_mode": {
        "name": "ipython",
        "version": 3
      },
      "file_extension": ".py",
      "mimetype": "text/x-python",
      "name": "python",
      "nbconvert_exporter": "python",
      "pygments_lexer": "ipython3",
      "version": "3.8.8"
    }
  },
  "nbformat": 4,
  "nbformat_minor": 5
}
